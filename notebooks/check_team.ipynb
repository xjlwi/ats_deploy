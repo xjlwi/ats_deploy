{
 "cells": [
  {
   "cell_type": "code",
   "execution_count": 3,
   "metadata": {},
   "outputs": [
    {
     "data": {
      "text/html": [
       "<pre style=\"white-space:pre;overflow-x:auto;line-height:normal;font-family:Menlo,'DejaVu Sans Mono',consolas,'Courier New',monospace\"><span style=\"color: #7fbfbf; text-decoration-color: #7fbfbf\">[06/17/23 22:31:15] </span><span style=\"color: #000080; text-decoration-color: #000080\">INFO    </span> Resolved project path as:                                              <a href=\"file://c:\\Users\\hp\\Documents\\0.Novalearn\\analytics\\analytics\\venv\\lib\\site-packages\\kedro\\ipython\\__init__.py\" target=\"_blank\"><span style=\"color: #7f7f7f; text-decoration-color: #7f7f7f\">__init__.py</span></a><span style=\"color: #7f7f7f; text-decoration-color: #7f7f7f\">:</span><a href=\"file://c:\\Users\\hp\\Documents\\0.Novalearn\\analytics\\analytics\\venv\\lib\\site-packages\\kedro\\ipython\\__init__.py#132\" target=\"_blank\"><span style=\"color: #7f7f7f; text-decoration-color: #7f7f7f\">132</span></a>\n",
       "<span style=\"color: #7fbfbf; text-decoration-color: #7fbfbf\">                    </span>         c:\\Users\\hp\\Documents\\<span style=\"color: #008080; text-decoration-color: #008080; font-weight: bold\">0.</span>Novalearn\\analytics\\analytics.                 <span style=\"color: #7f7f7f; text-decoration-color: #7f7f7f\">               </span>\n",
       "<span style=\"color: #7fbfbf; text-decoration-color: #7fbfbf\">                    </span>         To set a different path, run <span style=\"color: #008000; text-decoration-color: #008000\">'%reload_kedro &lt;project_root&gt;'</span>            <span style=\"color: #7f7f7f; text-decoration-color: #7f7f7f\">               </span>\n",
       "</pre>\n"
      ],
      "text/plain": [
       "\u001b[2;36m[06/17/23 22:31:15]\u001b[0m\u001b[2;36m \u001b[0m\u001b[34mINFO    \u001b[0m Resolved project path as:                                              \u001b]8;id=925291;file://c:\\Users\\hp\\Documents\\0.Novalearn\\analytics\\analytics\\venv\\lib\\site-packages\\kedro\\ipython\\__init__.py\u001b\\\u001b[2m__init__.py\u001b[0m\u001b]8;;\u001b\\\u001b[2m:\u001b[0m\u001b]8;id=176158;file://c:\\Users\\hp\\Documents\\0.Novalearn\\analytics\\analytics\\venv\\lib\\site-packages\\kedro\\ipython\\__init__.py#132\u001b\\\u001b[2m132\u001b[0m\u001b]8;;\u001b\\\n",
       "\u001b[2;36m                    \u001b[0m         c:\\Users\\hp\\Documents\\\u001b[1;36m0.\u001b[0mNovalearn\\analytics\\analytics.                 \u001b[2m               \u001b[0m\n",
       "\u001b[2;36m                    \u001b[0m         To set a different path, run \u001b[32m'%reload_kedro \u001b[0m\u001b[32m<\u001b[0m\u001b[32mproject_root\u001b[0m\u001b[32m>\u001b[0m\u001b[32m'\u001b[0m            \u001b[2m               \u001b[0m\n"
      ]
     },
     "metadata": {},
     "output_type": "display_data"
    },
    {
     "data": {
      "text/html": [
       "<pre style=\"white-space:pre;overflow-x:auto;line-height:normal;font-family:Menlo,'DejaVu Sans Mono',consolas,'Courier New',monospace\"><span style=\"color: #7fbfbf; text-decoration-color: #7fbfbf\">[06/17/23 22:31:19] </span><span style=\"color: #000080; text-decoration-color: #000080\">INFO    </span> The <span style=\"color: #008000; text-decoration-color: #008000\">'mlflow_tracking_uri'</span> key in mlflow.yml is relative     <a href=\"file://c:\\Users\\hp\\Documents\\0.Novalearn\\analytics\\analytics\\venv\\lib\\site-packages\\kedro_mlflow\\config\\kedro_mlflow_config.py\" target=\"_blank\"><span style=\"color: #7f7f7f; text-decoration-color: #7f7f7f\">kedro_mlflow_config.py</span></a><span style=\"color: #7f7f7f; text-decoration-color: #7f7f7f\">:</span><a href=\"file://c:\\Users\\hp\\Documents\\0.Novalearn\\analytics\\analytics\\venv\\lib\\site-packages\\kedro_mlflow\\config\\kedro_mlflow_config.py#202\" target=\"_blank\"><span style=\"color: #7f7f7f; text-decoration-color: #7f7f7f\">202</span></a>\n",
       "<span style=\"color: #7fbfbf; text-decoration-color: #7fbfbf\">                    </span>         <span style=\"font-weight: bold\">(</span><span style=\"color: #008000; text-decoration-color: #008000\">'server.mlflow_tracking_uri = mlruns'</span><span style=\"font-weight: bold\">)</span>. It is converted to <span style=\"color: #7f7f7f; text-decoration-color: #7f7f7f\">                          </span>\n",
       "<span style=\"color: #7fbfbf; text-decoration-color: #7fbfbf\">                    </span>         a valid uri:                                                <span style=\"color: #7f7f7f; text-decoration-color: #7f7f7f\">                          </span>\n",
       "<span style=\"color: #7fbfbf; text-decoration-color: #7fbfbf\">                    </span>         <span style=\"color: #008000; text-decoration-color: #008000\">'file:///C:/Users/hp/Documents/0.Novalearn/analytics/analyt</span> <span style=\"color: #7f7f7f; text-decoration-color: #7f7f7f\">                          </span>\n",
       "<span style=\"color: #7fbfbf; text-decoration-color: #7fbfbf\">                    </span>         <span style=\"color: #008000; text-decoration-color: #008000\">ics/mlruns'</span>                                                 <span style=\"color: #7f7f7f; text-decoration-color: #7f7f7f\">                          </span>\n",
       "</pre>\n"
      ],
      "text/plain": [
       "\u001b[2;36m[06/17/23 22:31:19]\u001b[0m\u001b[2;36m \u001b[0m\u001b[34mINFO    \u001b[0m The \u001b[32m'mlflow_tracking_uri'\u001b[0m key in mlflow.yml is relative     \u001b]8;id=479068;file://c:\\Users\\hp\\Documents\\0.Novalearn\\analytics\\analytics\\venv\\lib\\site-packages\\kedro_mlflow\\config\\kedro_mlflow_config.py\u001b\\\u001b[2mkedro_mlflow_config.py\u001b[0m\u001b]8;;\u001b\\\u001b[2m:\u001b[0m\u001b]8;id=18931;file://c:\\Users\\hp\\Documents\\0.Novalearn\\analytics\\analytics\\venv\\lib\\site-packages\\kedro_mlflow\\config\\kedro_mlflow_config.py#202\u001b\\\u001b[2m202\u001b[0m\u001b]8;;\u001b\\\n",
       "\u001b[2;36m                    \u001b[0m         \u001b[1m(\u001b[0m\u001b[32m'server.mlflow_tracking_uri = mlruns'\u001b[0m\u001b[1m)\u001b[0m. It is converted to \u001b[2m                          \u001b[0m\n",
       "\u001b[2;36m                    \u001b[0m         a valid uri:                                                \u001b[2m                          \u001b[0m\n",
       "\u001b[2;36m                    \u001b[0m         \u001b[32m'file:///C:/Users/hp/Documents/0.Novalearn/analytics/analyt\u001b[0m \u001b[2m                          \u001b[0m\n",
       "\u001b[2;36m                    \u001b[0m         \u001b[32mics/mlruns'\u001b[0m                                                 \u001b[2m                          \u001b[0m\n"
      ]
     },
     "metadata": {},
     "output_type": "display_data"
    },
    {
     "data": {
      "text/html": [
       "<pre style=\"white-space:pre;overflow-x:auto;line-height:normal;font-family:Menlo,'DejaVu Sans Mono',consolas,'Courier New',monospace\"><span style=\"color: #7fbfbf; text-decoration-color: #7fbfbf\">                    </span><span style=\"color: #000080; text-decoration-color: #000080\">INFO    </span> Kedro project analytics                                                <a href=\"file://c:\\Users\\hp\\Documents\\0.Novalearn\\analytics\\analytics\\venv\\lib\\site-packages\\kedro\\ipython\\__init__.py\" target=\"_blank\"><span style=\"color: #7f7f7f; text-decoration-color: #7f7f7f\">__init__.py</span></a><span style=\"color: #7f7f7f; text-decoration-color: #7f7f7f\">:</span><a href=\"file://c:\\Users\\hp\\Documents\\0.Novalearn\\analytics\\analytics\\venv\\lib\\site-packages\\kedro\\ipython\\__init__.py#101\" target=\"_blank\"><span style=\"color: #7f7f7f; text-decoration-color: #7f7f7f\">101</span></a>\n",
       "</pre>\n"
      ],
      "text/plain": [
       "\u001b[2;36m                   \u001b[0m\u001b[2;36m \u001b[0m\u001b[34mINFO    \u001b[0m Kedro project analytics                                                \u001b]8;id=415406;file://c:\\Users\\hp\\Documents\\0.Novalearn\\analytics\\analytics\\venv\\lib\\site-packages\\kedro\\ipython\\__init__.py\u001b\\\u001b[2m__init__.py\u001b[0m\u001b]8;;\u001b\\\u001b[2m:\u001b[0m\u001b]8;id=338378;file://c:\\Users\\hp\\Documents\\0.Novalearn\\analytics\\analytics\\venv\\lib\\site-packages\\kedro\\ipython\\__init__.py#101\u001b\\\u001b[2m101\u001b[0m\u001b]8;;\u001b\\\n"
      ]
     },
     "metadata": {},
     "output_type": "display_data"
    },
    {
     "data": {
      "text/html": [
       "<pre style=\"white-space:pre;overflow-x:auto;line-height:normal;font-family:Menlo,'DejaVu Sans Mono',consolas,'Courier New',monospace\"><span style=\"color: #7fbfbf; text-decoration-color: #7fbfbf\">                    </span><span style=\"color: #000080; text-decoration-color: #000080\">INFO    </span> Defined global variable <span style=\"color: #008000; text-decoration-color: #008000\">'context'</span>, <span style=\"color: #008000; text-decoration-color: #008000\">'session'</span>, <span style=\"color: #008000; text-decoration-color: #008000\">'catalog'</span> and            <a href=\"file://c:\\Users\\hp\\Documents\\0.Novalearn\\analytics\\analytics\\venv\\lib\\site-packages\\kedro\\ipython\\__init__.py\" target=\"_blank\"><span style=\"color: #7f7f7f; text-decoration-color: #7f7f7f\">__init__.py</span></a><span style=\"color: #7f7f7f; text-decoration-color: #7f7f7f\">:</span><a href=\"file://c:\\Users\\hp\\Documents\\0.Novalearn\\analytics\\analytics\\venv\\lib\\site-packages\\kedro\\ipython\\__init__.py#102\" target=\"_blank\"><span style=\"color: #7f7f7f; text-decoration-color: #7f7f7f\">102</span></a>\n",
       "<span style=\"color: #7fbfbf; text-decoration-color: #7fbfbf\">                    </span>         <span style=\"color: #008000; text-decoration-color: #008000\">'pipelines'</span>                                                            <span style=\"color: #7f7f7f; text-decoration-color: #7f7f7f\">               </span>\n",
       "</pre>\n"
      ],
      "text/plain": [
       "\u001b[2;36m                   \u001b[0m\u001b[2;36m \u001b[0m\u001b[34mINFO    \u001b[0m Defined global variable \u001b[32m'context'\u001b[0m, \u001b[32m'session'\u001b[0m, \u001b[32m'catalog'\u001b[0m and            \u001b]8;id=275325;file://c:\\Users\\hp\\Documents\\0.Novalearn\\analytics\\analytics\\venv\\lib\\site-packages\\kedro\\ipython\\__init__.py\u001b\\\u001b[2m__init__.py\u001b[0m\u001b]8;;\u001b\\\u001b[2m:\u001b[0m\u001b]8;id=28398;file://c:\\Users\\hp\\Documents\\0.Novalearn\\analytics\\analytics\\venv\\lib\\site-packages\\kedro\\ipython\\__init__.py#102\u001b\\\u001b[2m102\u001b[0m\u001b]8;;\u001b\\\n",
       "\u001b[2;36m                    \u001b[0m         \u001b[32m'pipelines'\u001b[0m                                                            \u001b[2m               \u001b[0m\n"
      ]
     },
     "metadata": {},
     "output_type": "display_data"
    },
    {
     "data": {
      "text/html": [
       "<pre style=\"white-space:pre;overflow-x:auto;line-height:normal;font-family:Menlo,'DejaVu Sans Mono',consolas,'Courier New',monospace\"><span style=\"color: #7fbfbf; text-decoration-color: #7fbfbf\">[06/17/23 22:31:21] </span><span style=\"color: #800000; text-decoration-color: #800000\">WARNING </span> c:\\Users\\hp\\Documents\\<span style=\"color: #008080; text-decoration-color: #008080; font-weight: bold\">0.</span>Novalearn\\analytics\\analytics\\venv\\lib\\site-pa <a href=\"file://C:\\Users\\hp\\AppData\\Local\\Programs\\Python\\Python39\\lib\\warnings.py\" target=\"_blank\"><span style=\"color: #7f7f7f; text-decoration-color: #7f7f7f\">warnings.py</span></a><span style=\"color: #7f7f7f; text-decoration-color: #7f7f7f\">:</span><a href=\"file://C:\\Users\\hp\\AppData\\Local\\Programs\\Python\\Python39\\lib\\warnings.py#109\" target=\"_blank\"><span style=\"color: #7f7f7f; text-decoration-color: #7f7f7f\">109</span></a>\n",
       "<span style=\"color: #7fbfbf; text-decoration-color: #7fbfbf\">                    </span>         ckages\\strawberry\\types\\fields\\resolver.py:<span style=\"color: #008080; text-decoration-color: #008080; font-weight: bold\">199</span>: DeprecationWarning:    <span style=\"color: #7f7f7f; text-decoration-color: #7f7f7f\">               </span>\n",
       "<span style=\"color: #7fbfbf; text-decoration-color: #7fbfbf\">                    </span>         Argument name-based matching of <span style=\"color: #008000; text-decoration-color: #008000\">'info'</span> is deprecated and will be       <span style=\"color: #7f7f7f; text-decoration-color: #7f7f7f\">               </span>\n",
       "<span style=\"color: #7fbfbf; text-decoration-color: #7fbfbf\">                    </span>         removed in v1.<span style=\"color: #008080; text-decoration-color: #008080; font-weight: bold\">0</span>. Ensure that reserved arguments are annotated their    <span style=\"color: #7f7f7f; text-decoration-color: #7f7f7f\">               </span>\n",
       "<span style=\"color: #7fbfbf; text-decoration-color: #7fbfbf\">                    </span>         respective types <span style=\"font-weight: bold\">(</span>i.e. use value: <span style=\"color: #008000; text-decoration-color: #008000\">'DirectiveValue[str]'</span> instead of     <span style=\"color: #7f7f7f; text-decoration-color: #7f7f7f\">               </span>\n",
       "<span style=\"color: #7fbfbf; text-decoration-color: #7fbfbf\">                    </span>         <span style=\"color: #008000; text-decoration-color: #008000\">'value: str'</span> and <span style=\"color: #008000; text-decoration-color: #008000\">'info: Info'</span> instead of a plain <span style=\"color: #008000; text-decoration-color: #008000\">'info'</span><span style=\"font-weight: bold\">)</span>.              <span style=\"color: #7f7f7f; text-decoration-color: #7f7f7f\">               </span>\n",
       "<span style=\"color: #7fbfbf; text-decoration-color: #7fbfbf\">                    </span>           return <span style=\"font-weight: bold\">{</span>spec: <span style=\"color: #800080; text-decoration-color: #800080; font-weight: bold\">spec.find</span><span style=\"font-weight: bold\">(</span>parameters, self<span style=\"font-weight: bold\">)</span> for spec in                <span style=\"color: #7f7f7f; text-decoration-color: #7f7f7f\">               </span>\n",
       "<span style=\"color: #7fbfbf; text-decoration-color: #7fbfbf\">                    </span>         self.RESERVED_PARAMSPEC<span style=\"font-weight: bold\">}</span>                                               <span style=\"color: #7f7f7f; text-decoration-color: #7f7f7f\">               </span>\n",
       "<span style=\"color: #7fbfbf; text-decoration-color: #7fbfbf\">                    </span>                                                                                <span style=\"color: #7f7f7f; text-decoration-color: #7f7f7f\">               </span>\n",
       "</pre>\n"
      ],
      "text/plain": [
       "\u001b[2;36m[06/17/23 22:31:21]\u001b[0m\u001b[2;36m \u001b[0m\u001b[31mWARNING \u001b[0m c:\\Users\\hp\\Documents\\\u001b[1;36m0.\u001b[0mNovalearn\\analytics\\analytics\\venv\\lib\\site-pa \u001b]8;id=301345;file://C:\\Users\\hp\\AppData\\Local\\Programs\\Python\\Python39\\lib\\warnings.py\u001b\\\u001b[2mwarnings.py\u001b[0m\u001b]8;;\u001b\\\u001b[2m:\u001b[0m\u001b]8;id=565388;file://C:\\Users\\hp\\AppData\\Local\\Programs\\Python\\Python39\\lib\\warnings.py#109\u001b\\\u001b[2m109\u001b[0m\u001b]8;;\u001b\\\n",
       "\u001b[2;36m                    \u001b[0m         ckages\\strawberry\\types\\fields\\resolver.py:\u001b[1;36m199\u001b[0m: DeprecationWarning:    \u001b[2m               \u001b[0m\n",
       "\u001b[2;36m                    \u001b[0m         Argument name-based matching of \u001b[32m'info'\u001b[0m is deprecated and will be       \u001b[2m               \u001b[0m\n",
       "\u001b[2;36m                    \u001b[0m         removed in v1.\u001b[1;36m0\u001b[0m. Ensure that reserved arguments are annotated their    \u001b[2m               \u001b[0m\n",
       "\u001b[2;36m                    \u001b[0m         respective types \u001b[1m(\u001b[0mi.e. use value: \u001b[32m'DirectiveValue\u001b[0m\u001b[32m[\u001b[0m\u001b[32mstr\u001b[0m\u001b[32m]\u001b[0m\u001b[32m'\u001b[0m instead of     \u001b[2m               \u001b[0m\n",
       "\u001b[2;36m                    \u001b[0m         \u001b[32m'value: str'\u001b[0m and \u001b[32m'info: Info'\u001b[0m instead of a plain \u001b[32m'info'\u001b[0m\u001b[1m)\u001b[0m.              \u001b[2m               \u001b[0m\n",
       "\u001b[2;36m                    \u001b[0m           return \u001b[1m{\u001b[0mspec: \u001b[1;35mspec.find\u001b[0m\u001b[1m(\u001b[0mparameters, self\u001b[1m)\u001b[0m for spec in                \u001b[2m               \u001b[0m\n",
       "\u001b[2;36m                    \u001b[0m         self.RESERVED_PARAMSPEC\u001b[1m}\u001b[0m                                               \u001b[2m               \u001b[0m\n",
       "\u001b[2;36m                    \u001b[0m                                                                                \u001b[2m               \u001b[0m\n"
      ]
     },
     "metadata": {},
     "output_type": "display_data"
    },
    {
     "data": {
      "text/html": [
       "<pre style=\"white-space:pre;overflow-x:auto;line-height:normal;font-family:Menlo,'DejaVu Sans Mono',consolas,'Courier New',monospace\"><span style=\"color: #7fbfbf; text-decoration-color: #7fbfbf\">[06/17/23 22:31:22] </span><span style=\"color: #000080; text-decoration-color: #000080\">INFO    </span> Registered line magic <span style=\"color: #008000; text-decoration-color: #008000\">'reload_kedro_mlflow'</span>                            <a href=\"file://c:\\Users\\hp\\Documents\\0.Novalearn\\analytics\\analytics\\venv\\lib\\site-packages\\kedro\\ipython\\__init__.py\" target=\"_blank\"><span style=\"color: #7f7f7f; text-decoration-color: #7f7f7f\">__init__.py</span></a><span style=\"color: #7f7f7f; text-decoration-color: #7f7f7f\">:</span><a href=\"file://c:\\Users\\hp\\Documents\\0.Novalearn\\analytics\\analytics\\venv\\lib\\site-packages\\kedro\\ipython\\__init__.py#108\" target=\"_blank\"><span style=\"color: #7f7f7f; text-decoration-color: #7f7f7f\">108</span></a>\n",
       "</pre>\n"
      ],
      "text/plain": [
       "\u001b[2;36m[06/17/23 22:31:22]\u001b[0m\u001b[2;36m \u001b[0m\u001b[34mINFO    \u001b[0m Registered line magic \u001b[32m'reload_kedro_mlflow'\u001b[0m                            \u001b]8;id=45932;file://c:\\Users\\hp\\Documents\\0.Novalearn\\analytics\\analytics\\venv\\lib\\site-packages\\kedro\\ipython\\__init__.py\u001b\\\u001b[2m__init__.py\u001b[0m\u001b]8;;\u001b\\\u001b[2m:\u001b[0m\u001b]8;id=96799;file://c:\\Users\\hp\\Documents\\0.Novalearn\\analytics\\analytics\\venv\\lib\\site-packages\\kedro\\ipython\\__init__.py#108\u001b\\\u001b[2m108\u001b[0m\u001b]8;;\u001b\\\n"
      ]
     },
     "metadata": {},
     "output_type": "display_data"
    },
    {
     "data": {
      "text/html": [
       "<pre style=\"white-space:pre;overflow-x:auto;line-height:normal;font-family:Menlo,'DejaVu Sans Mono',consolas,'Courier New',monospace\"><span style=\"color: #7fbfbf; text-decoration-color: #7fbfbf\">                    </span><span style=\"color: #000080; text-decoration-color: #000080\">INFO    </span> Registered line magic <span style=\"color: #008000; text-decoration-color: #008000\">'run_viz'</span>                                        <a href=\"file://c:\\Users\\hp\\Documents\\0.Novalearn\\analytics\\analytics\\venv\\lib\\site-packages\\kedro\\ipython\\__init__.py\" target=\"_blank\"><span style=\"color: #7f7f7f; text-decoration-color: #7f7f7f\">__init__.py</span></a><span style=\"color: #7f7f7f; text-decoration-color: #7f7f7f\">:</span><a href=\"file://c:\\Users\\hp\\Documents\\0.Novalearn\\analytics\\analytics\\venv\\lib\\site-packages\\kedro\\ipython\\__init__.py#108\" target=\"_blank\"><span style=\"color: #7f7f7f; text-decoration-color: #7f7f7f\">108</span></a>\n",
       "</pre>\n"
      ],
      "text/plain": [
       "\u001b[2;36m                   \u001b[0m\u001b[2;36m \u001b[0m\u001b[34mINFO    \u001b[0m Registered line magic \u001b[32m'run_viz'\u001b[0m                                        \u001b]8;id=925193;file://c:\\Users\\hp\\Documents\\0.Novalearn\\analytics\\analytics\\venv\\lib\\site-packages\\kedro\\ipython\\__init__.py\u001b\\\u001b[2m__init__.py\u001b[0m\u001b]8;;\u001b\\\u001b[2m:\u001b[0m\u001b]8;id=758999;file://c:\\Users\\hp\\Documents\\0.Novalearn\\analytics\\analytics\\venv\\lib\\site-packages\\kedro\\ipython\\__init__.py#108\u001b\\\u001b[2m108\u001b[0m\u001b]8;;\u001b\\\n"
      ]
     },
     "metadata": {},
     "output_type": "display_data"
    },
    {
     "data": {
      "text/html": [
       "<pre style=\"white-space:pre;overflow-x:auto;line-height:normal;font-family:Menlo,'DejaVu Sans Mono',consolas,'Courier New',monospace\"><span style=\"color: #7fbfbf; text-decoration-color: #7fbfbf\">                    </span><span style=\"color: #000080; text-decoration-color: #000080\">INFO    </span> Resolved project path as:                                              <a href=\"file://c:\\Users\\hp\\Documents\\0.Novalearn\\analytics\\analytics\\venv\\lib\\site-packages\\kedro\\ipython\\__init__.py\" target=\"_blank\"><span style=\"color: #7f7f7f; text-decoration-color: #7f7f7f\">__init__.py</span></a><span style=\"color: #7f7f7f; text-decoration-color: #7f7f7f\">:</span><a href=\"file://c:\\Users\\hp\\Documents\\0.Novalearn\\analytics\\analytics\\venv\\lib\\site-packages\\kedro\\ipython\\__init__.py#132\" target=\"_blank\"><span style=\"color: #7f7f7f; text-decoration-color: #7f7f7f\">132</span></a>\n",
       "<span style=\"color: #7fbfbf; text-decoration-color: #7fbfbf\">                    </span>         C:\\Users\\hp\\Documents\\<span style=\"color: #008080; text-decoration-color: #008080; font-weight: bold\">0.</span>Novalearn\\analytics\\analytics.                 <span style=\"color: #7f7f7f; text-decoration-color: #7f7f7f\">               </span>\n",
       "<span style=\"color: #7fbfbf; text-decoration-color: #7fbfbf\">                    </span>         To set a different path, run <span style=\"color: #008000; text-decoration-color: #008000\">'%reload_kedro &lt;project_root&gt;'</span>            <span style=\"color: #7f7f7f; text-decoration-color: #7f7f7f\">               </span>\n",
       "</pre>\n"
      ],
      "text/plain": [
       "\u001b[2;36m                   \u001b[0m\u001b[2;36m \u001b[0m\u001b[34mINFO    \u001b[0m Resolved project path as:                                              \u001b]8;id=962133;file://c:\\Users\\hp\\Documents\\0.Novalearn\\analytics\\analytics\\venv\\lib\\site-packages\\kedro\\ipython\\__init__.py\u001b\\\u001b[2m__init__.py\u001b[0m\u001b]8;;\u001b\\\u001b[2m:\u001b[0m\u001b]8;id=1989;file://c:\\Users\\hp\\Documents\\0.Novalearn\\analytics\\analytics\\venv\\lib\\site-packages\\kedro\\ipython\\__init__.py#132\u001b\\\u001b[2m132\u001b[0m\u001b]8;;\u001b\\\n",
       "\u001b[2;36m                    \u001b[0m         C:\\Users\\hp\\Documents\\\u001b[1;36m0.\u001b[0mNovalearn\\analytics\\analytics.                 \u001b[2m               \u001b[0m\n",
       "\u001b[2;36m                    \u001b[0m         To set a different path, run \u001b[32m'%reload_kedro \u001b[0m\u001b[32m<\u001b[0m\u001b[32mproject_root\u001b[0m\u001b[32m>\u001b[0m\u001b[32m'\u001b[0m            \u001b[2m               \u001b[0m\n"
      ]
     },
     "metadata": {},
     "output_type": "display_data"
    },
    {
     "data": {
      "text/html": [
       "<pre style=\"white-space:pre;overflow-x:auto;line-height:normal;font-family:Menlo,'DejaVu Sans Mono',consolas,'Courier New',monospace\"><span style=\"color: #7fbfbf; text-decoration-color: #7fbfbf\">[06/17/23 22:31:22] </span><span style=\"color: #000080; text-decoration-color: #000080\">INFO    </span> The <span style=\"color: #008000; text-decoration-color: #008000\">'mlflow_tracking_uri'</span> key in mlflow.yml is relative     <a href=\"file://c:\\Users\\hp\\Documents\\0.Novalearn\\analytics\\analytics\\venv\\lib\\site-packages\\kedro_mlflow\\config\\kedro_mlflow_config.py\" target=\"_blank\"><span style=\"color: #7f7f7f; text-decoration-color: #7f7f7f\">kedro_mlflow_config.py</span></a><span style=\"color: #7f7f7f; text-decoration-color: #7f7f7f\">:</span><a href=\"file://c:\\Users\\hp\\Documents\\0.Novalearn\\analytics\\analytics\\venv\\lib\\site-packages\\kedro_mlflow\\config\\kedro_mlflow_config.py#202\" target=\"_blank\"><span style=\"color: #7f7f7f; text-decoration-color: #7f7f7f\">202</span></a>\n",
       "<span style=\"color: #7fbfbf; text-decoration-color: #7fbfbf\">                    </span>         <span style=\"font-weight: bold\">(</span><span style=\"color: #008000; text-decoration-color: #008000\">'server.mlflow_tracking_uri = mlruns'</span><span style=\"font-weight: bold\">)</span>. It is converted to <span style=\"color: #7f7f7f; text-decoration-color: #7f7f7f\">                          </span>\n",
       "<span style=\"color: #7fbfbf; text-decoration-color: #7fbfbf\">                    </span>         a valid uri:                                                <span style=\"color: #7f7f7f; text-decoration-color: #7f7f7f\">                          </span>\n",
       "<span style=\"color: #7fbfbf; text-decoration-color: #7fbfbf\">                    </span>         <span style=\"color: #008000; text-decoration-color: #008000\">'file:///C:/Users/hp/Documents/0.Novalearn/analytics/analyt</span> <span style=\"color: #7f7f7f; text-decoration-color: #7f7f7f\">                          </span>\n",
       "<span style=\"color: #7fbfbf; text-decoration-color: #7fbfbf\">                    </span>         <span style=\"color: #008000; text-decoration-color: #008000\">ics/mlruns'</span>                                                 <span style=\"color: #7f7f7f; text-decoration-color: #7f7f7f\">                          </span>\n",
       "</pre>\n"
      ],
      "text/plain": [
       "\u001b[2;36m[06/17/23 22:31:22]\u001b[0m\u001b[2;36m \u001b[0m\u001b[34mINFO    \u001b[0m The \u001b[32m'mlflow_tracking_uri'\u001b[0m key in mlflow.yml is relative     \u001b]8;id=368615;file://c:\\Users\\hp\\Documents\\0.Novalearn\\analytics\\analytics\\venv\\lib\\site-packages\\kedro_mlflow\\config\\kedro_mlflow_config.py\u001b\\\u001b[2mkedro_mlflow_config.py\u001b[0m\u001b]8;;\u001b\\\u001b[2m:\u001b[0m\u001b]8;id=893084;file://c:\\Users\\hp\\Documents\\0.Novalearn\\analytics\\analytics\\venv\\lib\\site-packages\\kedro_mlflow\\config\\kedro_mlflow_config.py#202\u001b\\\u001b[2m202\u001b[0m\u001b]8;;\u001b\\\n",
       "\u001b[2;36m                    \u001b[0m         \u001b[1m(\u001b[0m\u001b[32m'server.mlflow_tracking_uri = mlruns'\u001b[0m\u001b[1m)\u001b[0m. It is converted to \u001b[2m                          \u001b[0m\n",
       "\u001b[2;36m                    \u001b[0m         a valid uri:                                                \u001b[2m                          \u001b[0m\n",
       "\u001b[2;36m                    \u001b[0m         \u001b[32m'file:///C:/Users/hp/Documents/0.Novalearn/analytics/analyt\u001b[0m \u001b[2m                          \u001b[0m\n",
       "\u001b[2;36m                    \u001b[0m         \u001b[32mics/mlruns'\u001b[0m                                                 \u001b[2m                          \u001b[0m\n"
      ]
     },
     "metadata": {},
     "output_type": "display_data"
    },
    {
     "data": {
      "text/html": [
       "<pre style=\"white-space:pre;overflow-x:auto;line-height:normal;font-family:Menlo,'DejaVu Sans Mono',consolas,'Courier New',monospace\"><span style=\"color: #7fbfbf; text-decoration-color: #7fbfbf\">[06/17/23 22:31:23] </span><span style=\"color: #000080; text-decoration-color: #000080\">INFO    </span> Kedro project analytics                                                <a href=\"file://c:\\Users\\hp\\Documents\\0.Novalearn\\analytics\\analytics\\venv\\lib\\site-packages\\kedro\\ipython\\__init__.py\" target=\"_blank\"><span style=\"color: #7f7f7f; text-decoration-color: #7f7f7f\">__init__.py</span></a><span style=\"color: #7f7f7f; text-decoration-color: #7f7f7f\">:</span><a href=\"file://c:\\Users\\hp\\Documents\\0.Novalearn\\analytics\\analytics\\venv\\lib\\site-packages\\kedro\\ipython\\__init__.py#101\" target=\"_blank\"><span style=\"color: #7f7f7f; text-decoration-color: #7f7f7f\">101</span></a>\n",
       "</pre>\n"
      ],
      "text/plain": [
       "\u001b[2;36m[06/17/23 22:31:23]\u001b[0m\u001b[2;36m \u001b[0m\u001b[34mINFO    \u001b[0m Kedro project analytics                                                \u001b]8;id=62328;file://c:\\Users\\hp\\Documents\\0.Novalearn\\analytics\\analytics\\venv\\lib\\site-packages\\kedro\\ipython\\__init__.py\u001b\\\u001b[2m__init__.py\u001b[0m\u001b]8;;\u001b\\\u001b[2m:\u001b[0m\u001b]8;id=289857;file://c:\\Users\\hp\\Documents\\0.Novalearn\\analytics\\analytics\\venv\\lib\\site-packages\\kedro\\ipython\\__init__.py#101\u001b\\\u001b[2m101\u001b[0m\u001b]8;;\u001b\\\n"
      ]
     },
     "metadata": {},
     "output_type": "display_data"
    },
    {
     "data": {
      "text/html": [
       "<pre style=\"white-space:pre;overflow-x:auto;line-height:normal;font-family:Menlo,'DejaVu Sans Mono',consolas,'Courier New',monospace\"><span style=\"color: #7fbfbf; text-decoration-color: #7fbfbf\">                    </span><span style=\"color: #000080; text-decoration-color: #000080\">INFO    </span> Defined global variable <span style=\"color: #008000; text-decoration-color: #008000\">'context'</span>, <span style=\"color: #008000; text-decoration-color: #008000\">'session'</span>, <span style=\"color: #008000; text-decoration-color: #008000\">'catalog'</span> and            <a href=\"file://c:\\Users\\hp\\Documents\\0.Novalearn\\analytics\\analytics\\venv\\lib\\site-packages\\kedro\\ipython\\__init__.py\" target=\"_blank\"><span style=\"color: #7f7f7f; text-decoration-color: #7f7f7f\">__init__.py</span></a><span style=\"color: #7f7f7f; text-decoration-color: #7f7f7f\">:</span><a href=\"file://c:\\Users\\hp\\Documents\\0.Novalearn\\analytics\\analytics\\venv\\lib\\site-packages\\kedro\\ipython\\__init__.py#102\" target=\"_blank\"><span style=\"color: #7f7f7f; text-decoration-color: #7f7f7f\">102</span></a>\n",
       "<span style=\"color: #7fbfbf; text-decoration-color: #7fbfbf\">                    </span>         <span style=\"color: #008000; text-decoration-color: #008000\">'pipelines'</span>                                                            <span style=\"color: #7f7f7f; text-decoration-color: #7f7f7f\">               </span>\n",
       "</pre>\n"
      ],
      "text/plain": [
       "\u001b[2;36m                   \u001b[0m\u001b[2;36m \u001b[0m\u001b[34mINFO    \u001b[0m Defined global variable \u001b[32m'context'\u001b[0m, \u001b[32m'session'\u001b[0m, \u001b[32m'catalog'\u001b[0m and            \u001b]8;id=367398;file://c:\\Users\\hp\\Documents\\0.Novalearn\\analytics\\analytics\\venv\\lib\\site-packages\\kedro\\ipython\\__init__.py\u001b\\\u001b[2m__init__.py\u001b[0m\u001b]8;;\u001b\\\u001b[2m:\u001b[0m\u001b]8;id=569829;file://c:\\Users\\hp\\Documents\\0.Novalearn\\analytics\\analytics\\venv\\lib\\site-packages\\kedro\\ipython\\__init__.py#102\u001b\\\u001b[2m102\u001b[0m\u001b]8;;\u001b\\\n",
       "\u001b[2;36m                    \u001b[0m         \u001b[32m'pipelines'\u001b[0m                                                            \u001b[2m               \u001b[0m\n"
      ]
     },
     "metadata": {},
     "output_type": "display_data"
    },
    {
     "data": {
      "text/html": [
       "<pre style=\"white-space:pre;overflow-x:auto;line-height:normal;font-family:Menlo,'DejaVu Sans Mono',consolas,'Courier New',monospace\"><span style=\"color: #7fbfbf; text-decoration-color: #7fbfbf\">                    </span><span style=\"color: #000080; text-decoration-color: #000080\">INFO    </span> Registered line magic <span style=\"color: #008000; text-decoration-color: #008000\">'reload_kedro_mlflow'</span>                            <a href=\"file://c:\\Users\\hp\\Documents\\0.Novalearn\\analytics\\analytics\\venv\\lib\\site-packages\\kedro\\ipython\\__init__.py\" target=\"_blank\"><span style=\"color: #7f7f7f; text-decoration-color: #7f7f7f\">__init__.py</span></a><span style=\"color: #7f7f7f; text-decoration-color: #7f7f7f\">:</span><a href=\"file://c:\\Users\\hp\\Documents\\0.Novalearn\\analytics\\analytics\\venv\\lib\\site-packages\\kedro\\ipython\\__init__.py#108\" target=\"_blank\"><span style=\"color: #7f7f7f; text-decoration-color: #7f7f7f\">108</span></a>\n",
       "</pre>\n"
      ],
      "text/plain": [
       "\u001b[2;36m                   \u001b[0m\u001b[2;36m \u001b[0m\u001b[34mINFO    \u001b[0m Registered line magic \u001b[32m'reload_kedro_mlflow'\u001b[0m                            \u001b]8;id=257325;file://c:\\Users\\hp\\Documents\\0.Novalearn\\analytics\\analytics\\venv\\lib\\site-packages\\kedro\\ipython\\__init__.py\u001b\\\u001b[2m__init__.py\u001b[0m\u001b]8;;\u001b\\\u001b[2m:\u001b[0m\u001b]8;id=939402;file://c:\\Users\\hp\\Documents\\0.Novalearn\\analytics\\analytics\\venv\\lib\\site-packages\\kedro\\ipython\\__init__.py#108\u001b\\\u001b[2m108\u001b[0m\u001b]8;;\u001b\\\n"
      ]
     },
     "metadata": {},
     "output_type": "display_data"
    },
    {
     "data": {
      "text/html": [
       "<pre style=\"white-space:pre;overflow-x:auto;line-height:normal;font-family:Menlo,'DejaVu Sans Mono',consolas,'Courier New',monospace\"><span style=\"color: #7fbfbf; text-decoration-color: #7fbfbf\">                    </span><span style=\"color: #000080; text-decoration-color: #000080\">INFO    </span> Registered line magic <span style=\"color: #008000; text-decoration-color: #008000\">'run_viz'</span>                                        <a href=\"file://c:\\Users\\hp\\Documents\\0.Novalearn\\analytics\\analytics\\venv\\lib\\site-packages\\kedro\\ipython\\__init__.py\" target=\"_blank\"><span style=\"color: #7f7f7f; text-decoration-color: #7f7f7f\">__init__.py</span></a><span style=\"color: #7f7f7f; text-decoration-color: #7f7f7f\">:</span><a href=\"file://c:\\Users\\hp\\Documents\\0.Novalearn\\analytics\\analytics\\venv\\lib\\site-packages\\kedro\\ipython\\__init__.py#108\" target=\"_blank\"><span style=\"color: #7f7f7f; text-decoration-color: #7f7f7f\">108</span></a>\n",
       "</pre>\n"
      ],
      "text/plain": [
       "\u001b[2;36m                   \u001b[0m\u001b[2;36m \u001b[0m\u001b[34mINFO    \u001b[0m Registered line magic \u001b[32m'run_viz'\u001b[0m                                        \u001b]8;id=867419;file://c:\\Users\\hp\\Documents\\0.Novalearn\\analytics\\analytics\\venv\\lib\\site-packages\\kedro\\ipython\\__init__.py\u001b\\\u001b[2m__init__.py\u001b[0m\u001b]8;;\u001b\\\u001b[2m:\u001b[0m\u001b]8;id=320964;file://c:\\Users\\hp\\Documents\\0.Novalearn\\analytics\\analytics\\venv\\lib\\site-packages\\kedro\\ipython\\__init__.py#108\u001b\\\u001b[2m108\u001b[0m\u001b]8;;\u001b\\\n"
      ]
     },
     "metadata": {},
     "output_type": "display_data"
    }
   ],
   "source": [
    "%reload_ext autoreload\n",
    "%autoreload 2\n",
    "\n",
    "import pandas as pd\n",
    "import datetime as dt\n",
    "import numpy as np\n",
    "import os\n",
    "import plotly.express as px\n",
    "import plotly.graph_objects as go\n",
    "\n",
    "# import regex as re\n",
    "import datetime as dt\n",
    "from datetime import timedelta\n",
    "\n",
    "from pathlib import Path\n",
    "current_dir = Path.cwd()  # this points to 'notebooks/' folder\n",
    "project_path = current_dir.parent\n",
    "os.chdir(project_path)\n",
    "%load_ext kedro.ipython\n",
    "%reload_kedro \n",
    "\n",
    "# from src.arbitra_lng.common.plot_functions import *\n",
    "# from src.arbitra_lng.common.GeneralFunctions import *\n",
    "# from src.arbitra_lng.common.utils import *\n",
    "\n",
    "pd.set_option('display.max_columns', None)\n",
    "data_dir = 'data/01_raw/'"
   ]
  },
  {
   "attachments": {},
   "cell_type": "markdown",
   "metadata": {},
   "source": [
    "## User Name\n",
    "- first name, last name"
   ]
  },
  {
   "attachments": {},
   "cell_type": "markdown",
   "metadata": {},
   "source": [
    "Match First Name, Last Name"
   ]
  },
  {
   "cell_type": "code",
   "execution_count": 38,
   "metadata": {},
   "outputs": [],
   "source": [
    "username = pd.read_excel('data/01_raw/UserName.xlsx')\n",
    "id_list = sorted(students_last30.id.unique())\n",
    "id_list_reg = '|'.join(id_list)\n",
    "# Get First Name, Last Name from User Name ID\n",
    "username_last30 = username[username['id'].str.contains(id_list_reg)]\n",
    "username_last30 = username_last30.reset_index(drop=True)\n",
    "username_last30 = username_last30.filter(items = ['id', 'firstName', 'lastName'])"
   ]
  },
  {
   "cell_type": "code",
   "execution_count": 47,
   "metadata": {},
   "outputs": [
    {
     "data": {
      "text/html": [
       "<div>\n",
       "<style scoped>\n",
       "    .dataframe tbody tr th:only-of-type {\n",
       "        vertical-align: middle;\n",
       "    }\n",
       "\n",
       "    .dataframe tbody tr th {\n",
       "        vertical-align: top;\n",
       "    }\n",
       "\n",
       "    .dataframe thead th {\n",
       "        text-align: right;\n",
       "    }\n",
       "</style>\n",
       "<table border=\"1\" class=\"dataframe\">\n",
       "  <thead>\n",
       "    <tr style=\"text-align: right;\">\n",
       "      <th></th>\n",
       "      <th>id</th>\n",
       "      <th>createdAt</th>\n",
       "      <th>updatedAt</th>\n",
       "      <th>firstName</th>\n",
       "      <th>lastName</th>\n",
       "      <th>role</th>\n",
       "      <th>teamId</th>\n",
       "      <th>onboarded</th>\n",
       "      <th>verified</th>\n",
       "      <th>lastLogin</th>\n",
       "    </tr>\n",
       "  </thead>\n",
       "  <tbody>\n",
       "    <tr>\n",
       "      <th>0</th>\n",
       "      <td>ffe8a090-0a6e-4f9a-9157-c020c74a4142</td>\n",
       "      <td>2022-10-01 02:47:16.26</td>\n",
       "      <td>2022-10-01 02:50:48.816</td>\n",
       "      <td>Matthew</td>\n",
       "      <td>Chan</td>\n",
       "      <td>STUDENT</td>\n",
       "      <td>543f7b19-e558-469a-ba83-3ce8ae0be98a</td>\n",
       "      <td>t</td>\n",
       "      <td>f</td>\n",
       "      <td>NaN</td>\n",
       "    </tr>\n",
       "    <tr>\n",
       "      <th>1</th>\n",
       "      <td>ffc83d52-9542-460a-97a4-bd77d53bec13</td>\n",
       "      <td>2022-06-20 13:15:56.302</td>\n",
       "      <td>2022-08-20 02:31:24.038</td>\n",
       "      <td>Rikki</td>\n",
       "      <td>Lau</td>\n",
       "      <td>PARENT</td>\n",
       "      <td>543f7b19-e558-469a-ba83-3ce8ae0be98a</td>\n",
       "      <td>t</td>\n",
       "      <td>f</td>\n",
       "      <td>NaN</td>\n",
       "    </tr>\n",
       "    <tr>\n",
       "      <th>2</th>\n",
       "      <td>ffc34277-3599-42a2-9fe9-8898f8f973d4</td>\n",
       "      <td>2023-02-26 15:24:41.758</td>\n",
       "      <td>2023-02-26 15:24:51.193</td>\n",
       "      <td>Emily</td>\n",
       "      <td>Lim</td>\n",
       "      <td>PARENT</td>\n",
       "      <td>543f7b19-e558-469a-ba83-3ce8ae0be98a</td>\n",
       "      <td>t</td>\n",
       "      <td>f</td>\n",
       "      <td>NaN</td>\n",
       "    </tr>\n",
       "    <tr>\n",
       "      <th>3</th>\n",
       "      <td>ffbbd636-3746-424e-babd-3ba80686ff8f</td>\n",
       "      <td>2022-04-04 05:47:55.378</td>\n",
       "      <td>2022-04-04 05:47:55.384</td>\n",
       "      <td>Mikaela</td>\n",
       "      <td>Beier</td>\n",
       "      <td>PARENT</td>\n",
       "      <td>543f7b19-e558-469a-ba83-3ce8ae0be98a</td>\n",
       "      <td>f</td>\n",
       "      <td>f</td>\n",
       "      <td>NaN</td>\n",
       "    </tr>\n",
       "    <tr>\n",
       "      <th>4</th>\n",
       "      <td>ffab089d-ddd6-469a-ac58-c5b91f8b65c7</td>\n",
       "      <td>2022-11-20 10:48:44.688</td>\n",
       "      <td>2022-11-20 15:02:25.884</td>\n",
       "      <td>Cheuk Hang</td>\n",
       "      <td>Liu</td>\n",
       "      <td>STUDENT</td>\n",
       "      <td>543f7b19-e558-469a-ba83-3ce8ae0be98a</td>\n",
       "      <td>f</td>\n",
       "      <td>f</td>\n",
       "      <td>2022-11-20 15:02:25.882</td>\n",
       "    </tr>\n",
       "    <tr>\n",
       "      <th>...</th>\n",
       "      <td>...</td>\n",
       "      <td>...</td>\n",
       "      <td>...</td>\n",
       "      <td>...</td>\n",
       "      <td>...</td>\n",
       "      <td>...</td>\n",
       "      <td>...</td>\n",
       "      <td>...</td>\n",
       "      <td>...</td>\n",
       "      <td>...</td>\n",
       "    </tr>\n",
       "    <tr>\n",
       "      <th>1404</th>\n",
       "      <td>0167d0ed-1b9d-4058-af1d-0f0fe801e668</td>\n",
       "      <td>2022-09-24 03:52:28.496</td>\n",
       "      <td>2022-09-24 03:52:28.496</td>\n",
       "      <td>Eva</td>\n",
       "      <td>Medina</td>\n",
       "      <td>STUDENT</td>\n",
       "      <td>543f7b19-e558-469a-ba83-3ce8ae0be98a</td>\n",
       "      <td>f</td>\n",
       "      <td>f</td>\n",
       "      <td>NaN</td>\n",
       "    </tr>\n",
       "    <tr>\n",
       "      <th>1405</th>\n",
       "      <td>015f84b1-ad12-4121-9fa1-df729365effb</td>\n",
       "      <td>2023-04-20 07:52:11.102</td>\n",
       "      <td>2023-04-20 07:52:11.103</td>\n",
       "      <td>ISS</td>\n",
       "      <td>1</td>\n",
       "      <td>STUDENT</td>\n",
       "      <td>543f7b19-e558-469a-ba83-3ce8ae0be98a</td>\n",
       "      <td>f</td>\n",
       "      <td>f</td>\n",
       "      <td>NaN</td>\n",
       "    </tr>\n",
       "    <tr>\n",
       "      <th>1406</th>\n",
       "      <td>015e77b0-8bec-4146-b2de-547510491752</td>\n",
       "      <td>2023-03-01 15:11:00.475</td>\n",
       "      <td>2023-03-01 15:11:12.6</td>\n",
       "      <td>Anh</td>\n",
       "      <td>Dinh</td>\n",
       "      <td>STUDENT</td>\n",
       "      <td>543f7b19-e558-469a-ba83-3ce8ae0be98a</td>\n",
       "      <td>f</td>\n",
       "      <td>f</td>\n",
       "      <td>2023-03-01 15:11:12.598</td>\n",
       "    </tr>\n",
       "    <tr>\n",
       "      <th>1407</th>\n",
       "      <td>013895ac-9f1f-48e1-a36b-3b61c5301b7d</td>\n",
       "      <td>2022-04-04 05:47:56.546</td>\n",
       "      <td>2022-07-11 09:57:56.426</td>\n",
       "      <td>Patrick</td>\n",
       "      <td>Zhou</td>\n",
       "      <td>STUDENT</td>\n",
       "      <td>543f7b19-e558-469a-ba83-3ce8ae0be98a</td>\n",
       "      <td>t</td>\n",
       "      <td>f</td>\n",
       "      <td>NaN</td>\n",
       "    </tr>\n",
       "    <tr>\n",
       "      <th>1408</th>\n",
       "      <td>00c00a30-1d6c-4c46-aea2-cb34084d8ae7</td>\n",
       "      <td>2022-08-08 05:31:56.095</td>\n",
       "      <td>2022-08-08 05:34:24.109</td>\n",
       "      <td>Amal</td>\n",
       "      <td>Ahmed</td>\n",
       "      <td>STUDENT</td>\n",
       "      <td>543f7b19-e558-469a-ba83-3ce8ae0be98a</td>\n",
       "      <td>t</td>\n",
       "      <td>f</td>\n",
       "      <td>NaN</td>\n",
       "    </tr>\n",
       "  </tbody>\n",
       "</table>\n",
       "<p>1409 rows × 10 columns</p>\n",
       "</div>"
      ]
     },
     "execution_count": 47,
     "metadata": {},
     "output_type": "execute_result"
    }
   ],
   "source": [
    "username"
   ]
  },
  {
   "cell_type": "code",
   "execution_count": 16,
   "metadata": {},
   "outputs": [],
   "source": [
    "# Subset Username and last update\n",
    "# students_last30 = students_last30.filter(items = ['username', 'updatedAt'])\n",
    "# students_last30.to_csv('data/02_intermediate/UsernamesLastMonth_AprMay23.csv', index=False)"
   ]
  },
  {
   "cell_type": "code",
   "execution_count": null,
   "metadata": {},
   "outputs": [],
   "source": [
    "students_last30.id.value_counts()"
   ]
  },
  {
   "attachments": {},
   "cell_type": "markdown",
   "metadata": {},
   "source": [
    "## Students"
   ]
  },
  {
   "cell_type": "code",
   "execution_count": 5,
   "metadata": {},
   "outputs": [
    {
     "data": {
      "text/html": [
       "<pre style=\"white-space:pre;overflow-x:auto;line-height:normal;font-family:Menlo,'DejaVu Sans Mono',consolas,'Courier New',monospace\"><span style=\"color: #7fbfbf; text-decoration-color: #7fbfbf\">[06/17/23 22:36:50] </span><span style=\"color: #000080; text-decoration-color: #000080\">INFO    </span> Resolved project path as:                                              <a href=\"file://c:\\Users\\hp\\Documents\\0.Novalearn\\analytics\\analytics\\venv\\lib\\site-packages\\kedro\\ipython\\__init__.py\" target=\"_blank\"><span style=\"color: #7f7f7f; text-decoration-color: #7f7f7f\">__init__.py</span></a><span style=\"color: #7f7f7f; text-decoration-color: #7f7f7f\">:</span><a href=\"file://c:\\Users\\hp\\Documents\\0.Novalearn\\analytics\\analytics\\venv\\lib\\site-packages\\kedro\\ipython\\__init__.py#132\" target=\"_blank\"><span style=\"color: #7f7f7f; text-decoration-color: #7f7f7f\">132</span></a>\n",
       "<span style=\"color: #7fbfbf; text-decoration-color: #7fbfbf\">                    </span>         C:\\Users\\hp\\Documents\\<span style=\"color: #008080; text-decoration-color: #008080; font-weight: bold\">0.</span>Novalearn\\analytics\\analytics.                 <span style=\"color: #7f7f7f; text-decoration-color: #7f7f7f\">               </span>\n",
       "<span style=\"color: #7fbfbf; text-decoration-color: #7fbfbf\">                    </span>         To set a different path, run <span style=\"color: #008000; text-decoration-color: #008000\">'%reload_kedro &lt;project_root&gt;'</span>            <span style=\"color: #7f7f7f; text-decoration-color: #7f7f7f\">               </span>\n",
       "</pre>\n"
      ],
      "text/plain": [
       "\u001b[2;36m[06/17/23 22:36:50]\u001b[0m\u001b[2;36m \u001b[0m\u001b[34mINFO    \u001b[0m Resolved project path as:                                              \u001b]8;id=679177;file://c:\\Users\\hp\\Documents\\0.Novalearn\\analytics\\analytics\\venv\\lib\\site-packages\\kedro\\ipython\\__init__.py\u001b\\\u001b[2m__init__.py\u001b[0m\u001b]8;;\u001b\\\u001b[2m:\u001b[0m\u001b]8;id=390313;file://c:\\Users\\hp\\Documents\\0.Novalearn\\analytics\\analytics\\venv\\lib\\site-packages\\kedro\\ipython\\__init__.py#132\u001b\\\u001b[2m132\u001b[0m\u001b]8;;\u001b\\\n",
       "\u001b[2;36m                    \u001b[0m         C:\\Users\\hp\\Documents\\\u001b[1;36m0.\u001b[0mNovalearn\\analytics\\analytics.                 \u001b[2m               \u001b[0m\n",
       "\u001b[2;36m                    \u001b[0m         To set a different path, run \u001b[32m'%reload_kedro \u001b[0m\u001b[32m<\u001b[0m\u001b[32mproject_root\u001b[0m\u001b[32m>\u001b[0m\u001b[32m'\u001b[0m            \u001b[2m               \u001b[0m\n"
      ]
     },
     "metadata": {},
     "output_type": "display_data"
    },
    {
     "data": {
      "text/html": [
       "<pre style=\"white-space:pre;overflow-x:auto;line-height:normal;font-family:Menlo,'DejaVu Sans Mono',consolas,'Courier New',monospace\"><span style=\"color: #7fbfbf; text-decoration-color: #7fbfbf\">[06/17/23 22:36:50] </span><span style=\"color: #000080; text-decoration-color: #000080\">INFO    </span> The <span style=\"color: #008000; text-decoration-color: #008000\">'mlflow_tracking_uri'</span> key in mlflow.yml is relative     <a href=\"file://c:\\Users\\hp\\Documents\\0.Novalearn\\analytics\\analytics\\venv\\lib\\site-packages\\kedro_mlflow\\config\\kedro_mlflow_config.py\" target=\"_blank\"><span style=\"color: #7f7f7f; text-decoration-color: #7f7f7f\">kedro_mlflow_config.py</span></a><span style=\"color: #7f7f7f; text-decoration-color: #7f7f7f\">:</span><a href=\"file://c:\\Users\\hp\\Documents\\0.Novalearn\\analytics\\analytics\\venv\\lib\\site-packages\\kedro_mlflow\\config\\kedro_mlflow_config.py#202\" target=\"_blank\"><span style=\"color: #7f7f7f; text-decoration-color: #7f7f7f\">202</span></a>\n",
       "<span style=\"color: #7fbfbf; text-decoration-color: #7fbfbf\">                    </span>         <span style=\"font-weight: bold\">(</span><span style=\"color: #008000; text-decoration-color: #008000\">'server.mlflow_tracking_uri = mlruns'</span><span style=\"font-weight: bold\">)</span>. It is converted to <span style=\"color: #7f7f7f; text-decoration-color: #7f7f7f\">                          </span>\n",
       "<span style=\"color: #7fbfbf; text-decoration-color: #7fbfbf\">                    </span>         a valid uri:                                                <span style=\"color: #7f7f7f; text-decoration-color: #7f7f7f\">                          </span>\n",
       "<span style=\"color: #7fbfbf; text-decoration-color: #7fbfbf\">                    </span>         <span style=\"color: #008000; text-decoration-color: #008000\">'file:///C:/Users/hp/Documents/0.Novalearn/analytics/analyt</span> <span style=\"color: #7f7f7f; text-decoration-color: #7f7f7f\">                          </span>\n",
       "<span style=\"color: #7fbfbf; text-decoration-color: #7fbfbf\">                    </span>         <span style=\"color: #008000; text-decoration-color: #008000\">ics/mlruns'</span>                                                 <span style=\"color: #7f7f7f; text-decoration-color: #7f7f7f\">                          </span>\n",
       "</pre>\n"
      ],
      "text/plain": [
       "\u001b[2;36m[06/17/23 22:36:50]\u001b[0m\u001b[2;36m \u001b[0m\u001b[34mINFO    \u001b[0m The \u001b[32m'mlflow_tracking_uri'\u001b[0m key in mlflow.yml is relative     \u001b]8;id=74801;file://c:\\Users\\hp\\Documents\\0.Novalearn\\analytics\\analytics\\venv\\lib\\site-packages\\kedro_mlflow\\config\\kedro_mlflow_config.py\u001b\\\u001b[2mkedro_mlflow_config.py\u001b[0m\u001b]8;;\u001b\\\u001b[2m:\u001b[0m\u001b]8;id=759538;file://c:\\Users\\hp\\Documents\\0.Novalearn\\analytics\\analytics\\venv\\lib\\site-packages\\kedro_mlflow\\config\\kedro_mlflow_config.py#202\u001b\\\u001b[2m202\u001b[0m\u001b]8;;\u001b\\\n",
       "\u001b[2;36m                    \u001b[0m         \u001b[1m(\u001b[0m\u001b[32m'server.mlflow_tracking_uri = mlruns'\u001b[0m\u001b[1m)\u001b[0m. It is converted to \u001b[2m                          \u001b[0m\n",
       "\u001b[2;36m                    \u001b[0m         a valid uri:                                                \u001b[2m                          \u001b[0m\n",
       "\u001b[2;36m                    \u001b[0m         \u001b[32m'file:///C:/Users/hp/Documents/0.Novalearn/analytics/analyt\u001b[0m \u001b[2m                          \u001b[0m\n",
       "\u001b[2;36m                    \u001b[0m         \u001b[32mics/mlruns'\u001b[0m                                                 \u001b[2m                          \u001b[0m\n"
      ]
     },
     "metadata": {},
     "output_type": "display_data"
    },
    {
     "data": {
      "text/html": [
       "<pre style=\"white-space:pre;overflow-x:auto;line-height:normal;font-family:Menlo,'DejaVu Sans Mono',consolas,'Courier New',monospace\"><span style=\"color: #7fbfbf; text-decoration-color: #7fbfbf\">                    </span><span style=\"color: #000080; text-decoration-color: #000080\">INFO    </span> Kedro project analytics                                                <a href=\"file://c:\\Users\\hp\\Documents\\0.Novalearn\\analytics\\analytics\\venv\\lib\\site-packages\\kedro\\ipython\\__init__.py\" target=\"_blank\"><span style=\"color: #7f7f7f; text-decoration-color: #7f7f7f\">__init__.py</span></a><span style=\"color: #7f7f7f; text-decoration-color: #7f7f7f\">:</span><a href=\"file://c:\\Users\\hp\\Documents\\0.Novalearn\\analytics\\analytics\\venv\\lib\\site-packages\\kedro\\ipython\\__init__.py#101\" target=\"_blank\"><span style=\"color: #7f7f7f; text-decoration-color: #7f7f7f\">101</span></a>\n",
       "</pre>\n"
      ],
      "text/plain": [
       "\u001b[2;36m                   \u001b[0m\u001b[2;36m \u001b[0m\u001b[34mINFO    \u001b[0m Kedro project analytics                                                \u001b]8;id=123890;file://c:\\Users\\hp\\Documents\\0.Novalearn\\analytics\\analytics\\venv\\lib\\site-packages\\kedro\\ipython\\__init__.py\u001b\\\u001b[2m__init__.py\u001b[0m\u001b]8;;\u001b\\\u001b[2m:\u001b[0m\u001b]8;id=756425;file://c:\\Users\\hp\\Documents\\0.Novalearn\\analytics\\analytics\\venv\\lib\\site-packages\\kedro\\ipython\\__init__.py#101\u001b\\\u001b[2m101\u001b[0m\u001b]8;;\u001b\\\n"
      ]
     },
     "metadata": {},
     "output_type": "display_data"
    },
    {
     "data": {
      "text/html": [
       "<pre style=\"white-space:pre;overflow-x:auto;line-height:normal;font-family:Menlo,'DejaVu Sans Mono',consolas,'Courier New',monospace\"><span style=\"color: #7fbfbf; text-decoration-color: #7fbfbf\">                    </span><span style=\"color: #000080; text-decoration-color: #000080\">INFO    </span> Defined global variable <span style=\"color: #008000; text-decoration-color: #008000\">'context'</span>, <span style=\"color: #008000; text-decoration-color: #008000\">'session'</span>, <span style=\"color: #008000; text-decoration-color: #008000\">'catalog'</span> and            <a href=\"file://c:\\Users\\hp\\Documents\\0.Novalearn\\analytics\\analytics\\venv\\lib\\site-packages\\kedro\\ipython\\__init__.py\" target=\"_blank\"><span style=\"color: #7f7f7f; text-decoration-color: #7f7f7f\">__init__.py</span></a><span style=\"color: #7f7f7f; text-decoration-color: #7f7f7f\">:</span><a href=\"file://c:\\Users\\hp\\Documents\\0.Novalearn\\analytics\\analytics\\venv\\lib\\site-packages\\kedro\\ipython\\__init__.py#102\" target=\"_blank\"><span style=\"color: #7f7f7f; text-decoration-color: #7f7f7f\">102</span></a>\n",
       "<span style=\"color: #7fbfbf; text-decoration-color: #7fbfbf\">                    </span>         <span style=\"color: #008000; text-decoration-color: #008000\">'pipelines'</span>                                                            <span style=\"color: #7f7f7f; text-decoration-color: #7f7f7f\">               </span>\n",
       "</pre>\n"
      ],
      "text/plain": [
       "\u001b[2;36m                   \u001b[0m\u001b[2;36m \u001b[0m\u001b[34mINFO    \u001b[0m Defined global variable \u001b[32m'context'\u001b[0m, \u001b[32m'session'\u001b[0m, \u001b[32m'catalog'\u001b[0m and            \u001b]8;id=244984;file://c:\\Users\\hp\\Documents\\0.Novalearn\\analytics\\analytics\\venv\\lib\\site-packages\\kedro\\ipython\\__init__.py\u001b\\\u001b[2m__init__.py\u001b[0m\u001b]8;;\u001b\\\u001b[2m:\u001b[0m\u001b]8;id=302323;file://c:\\Users\\hp\\Documents\\0.Novalearn\\analytics\\analytics\\venv\\lib\\site-packages\\kedro\\ipython\\__init__.py#102\u001b\\\u001b[2m102\u001b[0m\u001b]8;;\u001b\\\n",
       "\u001b[2;36m                    \u001b[0m         \u001b[32m'pipelines'\u001b[0m                                                            \u001b[2m               \u001b[0m\n"
      ]
     },
     "metadata": {},
     "output_type": "display_data"
    },
    {
     "data": {
      "text/html": [
       "<pre style=\"white-space:pre;overflow-x:auto;line-height:normal;font-family:Menlo,'DejaVu Sans Mono',consolas,'Courier New',monospace\"><span style=\"color: #7fbfbf; text-decoration-color: #7fbfbf\">                    </span><span style=\"color: #000080; text-decoration-color: #000080\">INFO    </span> Registered line magic <span style=\"color: #008000; text-decoration-color: #008000\">'reload_kedro_mlflow'</span>                            <a href=\"file://c:\\Users\\hp\\Documents\\0.Novalearn\\analytics\\analytics\\venv\\lib\\site-packages\\kedro\\ipython\\__init__.py\" target=\"_blank\"><span style=\"color: #7f7f7f; text-decoration-color: #7f7f7f\">__init__.py</span></a><span style=\"color: #7f7f7f; text-decoration-color: #7f7f7f\">:</span><a href=\"file://c:\\Users\\hp\\Documents\\0.Novalearn\\analytics\\analytics\\venv\\lib\\site-packages\\kedro\\ipython\\__init__.py#108\" target=\"_blank\"><span style=\"color: #7f7f7f; text-decoration-color: #7f7f7f\">108</span></a>\n",
       "</pre>\n"
      ],
      "text/plain": [
       "\u001b[2;36m                   \u001b[0m\u001b[2;36m \u001b[0m\u001b[34mINFO    \u001b[0m Registered line magic \u001b[32m'reload_kedro_mlflow'\u001b[0m                            \u001b]8;id=391558;file://c:\\Users\\hp\\Documents\\0.Novalearn\\analytics\\analytics\\venv\\lib\\site-packages\\kedro\\ipython\\__init__.py\u001b\\\u001b[2m__init__.py\u001b[0m\u001b]8;;\u001b\\\u001b[2m:\u001b[0m\u001b]8;id=210699;file://c:\\Users\\hp\\Documents\\0.Novalearn\\analytics\\analytics\\venv\\lib\\site-packages\\kedro\\ipython\\__init__.py#108\u001b\\\u001b[2m108\u001b[0m\u001b]8;;\u001b\\\n"
      ]
     },
     "metadata": {},
     "output_type": "display_data"
    },
    {
     "data": {
      "text/html": [
       "<pre style=\"white-space:pre;overflow-x:auto;line-height:normal;font-family:Menlo,'DejaVu Sans Mono',consolas,'Courier New',monospace\"><span style=\"color: #7fbfbf; text-decoration-color: #7fbfbf\">                    </span><span style=\"color: #000080; text-decoration-color: #000080\">INFO    </span> Registered line magic <span style=\"color: #008000; text-decoration-color: #008000\">'run_viz'</span>                                        <a href=\"file://c:\\Users\\hp\\Documents\\0.Novalearn\\analytics\\analytics\\venv\\lib\\site-packages\\kedro\\ipython\\__init__.py\" target=\"_blank\"><span style=\"color: #7f7f7f; text-decoration-color: #7f7f7f\">__init__.py</span></a><span style=\"color: #7f7f7f; text-decoration-color: #7f7f7f\">:</span><a href=\"file://c:\\Users\\hp\\Documents\\0.Novalearn\\analytics\\analytics\\venv\\lib\\site-packages\\kedro\\ipython\\__init__.py#108\" target=\"_blank\"><span style=\"color: #7f7f7f; text-decoration-color: #7f7f7f\">108</span></a>\n",
       "</pre>\n"
      ],
      "text/plain": [
       "\u001b[2;36m                   \u001b[0m\u001b[2;36m \u001b[0m\u001b[34mINFO    \u001b[0m Registered line magic \u001b[32m'run_viz'\u001b[0m                                        \u001b]8;id=540378;file://c:\\Users\\hp\\Documents\\0.Novalearn\\analytics\\analytics\\venv\\lib\\site-packages\\kedro\\ipython\\__init__.py\u001b\\\u001b[2m__init__.py\u001b[0m\u001b]8;;\u001b\\\u001b[2m:\u001b[0m\u001b]8;id=154804;file://c:\\Users\\hp\\Documents\\0.Novalearn\\analytics\\analytics\\venv\\lib\\site-packages\\kedro\\ipython\\__init__.py#108\u001b\\\u001b[2m108\u001b[0m\u001b]8;;\u001b\\\n"
      ]
     },
     "metadata": {},
     "output_type": "display_data"
    }
   ],
   "source": [
    "%reload_kedro"
   ]
  },
  {
   "cell_type": "code",
   "execution_count": 13,
   "metadata": {},
   "outputs": [
    {
     "data": {
      "text/html": [
       "<pre style=\"white-space:pre;overflow-x:auto;line-height:normal;font-family:Menlo,'DejaVu Sans Mono',consolas,'Courier New',monospace\"><span style=\"color: #7fbfbf; text-decoration-color: #7fbfbf\">[06/17/23 22:40:29] </span><span style=\"color: #000080; text-decoration-color: #000080\">INFO    </span> Loading data from <span style=\"color: #008000; text-decoration-color: #008000\">'student'</span> <span style=\"font-weight: bold\">(</span>SQLQueryDataSet<span style=\"font-weight: bold\">)</span><span style=\"color: #808000; text-decoration-color: #808000\">...</span>                   <a href=\"file://c:\\Users\\hp\\Documents\\0.Novalearn\\analytics\\analytics\\venv\\lib\\site-packages\\kedro\\io\\data_catalog.py\" target=\"_blank\"><span style=\"color: #7f7f7f; text-decoration-color: #7f7f7f\">data_catalog.py</span></a><span style=\"color: #7f7f7f; text-decoration-color: #7f7f7f\">:</span><a href=\"file://c:\\Users\\hp\\Documents\\0.Novalearn\\analytics\\analytics\\venv\\lib\\site-packages\\kedro\\io\\data_catalog.py#343\" target=\"_blank\"><span style=\"color: #7f7f7f; text-decoration-color: #7f7f7f\">343</span></a>\n",
       "</pre>\n"
      ],
      "text/plain": [
       "\u001b[2;36m[06/17/23 22:40:29]\u001b[0m\u001b[2;36m \u001b[0m\u001b[34mINFO    \u001b[0m Loading data from \u001b[32m'student'\u001b[0m \u001b[1m(\u001b[0mSQLQueryDataSet\u001b[1m)\u001b[0m\u001b[33m...\u001b[0m                   \u001b]8;id=267370;file://c:\\Users\\hp\\Documents\\0.Novalearn\\analytics\\analytics\\venv\\lib\\site-packages\\kedro\\io\\data_catalog.py\u001b\\\u001b[2mdata_catalog.py\u001b[0m\u001b]8;;\u001b\\\u001b[2m:\u001b[0m\u001b]8;id=375475;file://c:\\Users\\hp\\Documents\\0.Novalearn\\analytics\\analytics\\venv\\lib\\site-packages\\kedro\\io\\data_catalog.py#343\u001b\\\u001b[2m343\u001b[0m\u001b]8;;\u001b\\\n"
      ]
     },
     "metadata": {},
     "output_type": "display_data"
    },
    {
     "data": {
      "text/html": [
       "<pre style=\"white-space:pre;overflow-x:auto;line-height:normal;font-family:Menlo,'DejaVu Sans Mono',consolas,'Courier New',monospace\"><span style=\"color: #7fbfbf; text-decoration-color: #7fbfbf\">                    </span><span style=\"color: #000080; text-decoration-color: #000080\">INFO    </span> Loading data from <span style=\"color: #008000; text-decoration-color: #008000\">'user'</span> <span style=\"font-weight: bold\">(</span>SQLQueryDataSet<span style=\"font-weight: bold\">)</span><span style=\"color: #808000; text-decoration-color: #808000\">...</span>                      <a href=\"file://c:\\Users\\hp\\Documents\\0.Novalearn\\analytics\\analytics\\venv\\lib\\site-packages\\kedro\\io\\data_catalog.py\" target=\"_blank\"><span style=\"color: #7f7f7f; text-decoration-color: #7f7f7f\">data_catalog.py</span></a><span style=\"color: #7f7f7f; text-decoration-color: #7f7f7f\">:</span><a href=\"file://c:\\Users\\hp\\Documents\\0.Novalearn\\analytics\\analytics\\venv\\lib\\site-packages\\kedro\\io\\data_catalog.py#343\" target=\"_blank\"><span style=\"color: #7f7f7f; text-decoration-color: #7f7f7f\">343</span></a>\n",
       "</pre>\n"
      ],
      "text/plain": [
       "\u001b[2;36m                   \u001b[0m\u001b[2;36m \u001b[0m\u001b[34mINFO    \u001b[0m Loading data from \u001b[32m'user'\u001b[0m \u001b[1m(\u001b[0mSQLQueryDataSet\u001b[1m)\u001b[0m\u001b[33m...\u001b[0m                      \u001b]8;id=81332;file://c:\\Users\\hp\\Documents\\0.Novalearn\\analytics\\analytics\\venv\\lib\\site-packages\\kedro\\io\\data_catalog.py\u001b\\\u001b[2mdata_catalog.py\u001b[0m\u001b]8;;\u001b\\\u001b[2m:\u001b[0m\u001b]8;id=172666;file://c:\\Users\\hp\\Documents\\0.Novalearn\\analytics\\analytics\\venv\\lib\\site-packages\\kedro\\io\\data_catalog.py#343\u001b\\\u001b[2m343\u001b[0m\u001b]8;;\u001b\\\n"
      ]
     },
     "metadata": {},
     "output_type": "display_data"
    }
   ],
   "source": [
    "students_db = catalog.load('student')\n",
    "user_db = catalog.load('user')"
   ]
  },
  {
   "cell_type": "code",
   "execution_count": 14,
   "metadata": {},
   "outputs": [
    {
     "data": {
      "text/html": [
       "<pre style=\"white-space:pre;overflow-x:auto;line-height:normal;font-family:Menlo,'DejaVu Sans Mono',consolas,'Courier New',monospace\"><span style=\"color: #008080; text-decoration-color: #008080; font-weight: bold\">52</span>\n",
       "</pre>\n"
      ],
      "text/plain": [
       "\u001b[1;36m52\u001b[0m\n"
      ]
     },
     "metadata": {},
     "output_type": "display_data"
    }
   ],
   "source": [
    "students_db.tail()\n",
    "# Get the current date\n",
    "current_date = dt.datetime.now().date()\n",
    "\n",
    "# Calculate the date of 30 days ago\n",
    "last_30_days_date = str(current_date - dt.timedelta(days=30))\n",
    "\n",
    "# convert to datetime\n",
    "students_db['updatedAt'] = students_db['updatedAt']\n",
    "students_db['updatedAt'] = pd.to_datetime(students_db['updatedAt'], format='%Y-%m-%d %H:%M:%S')\n",
    "students_db['createdAt'] = pd.to_datetime(students_db['createdAt'], format='%Y-%m-%d %H:%M:%S')\n",
    "students_db['updatedAt' ]= students_db['updatedAt'].apply(lambda x:str(x)[:19])\n",
    "# print(students_db.isna().sum())\n",
    "students_db_last30 = students_db[(students_db['updatedAt'] >= last_30_days_date) ].copy()\n",
    "students_db_last30\n",
    "len(students_db_last30.id.unique())\n"
   ]
  },
  {
   "cell_type": "code",
   "execution_count": 19,
   "metadata": {},
   "outputs": [
    {
     "data": {
      "text/html": [
       "<div>\n",
       "<style scoped>\n",
       "    .dataframe tbody tr th:only-of-type {\n",
       "        vertical-align: middle;\n",
       "    }\n",
       "\n",
       "    .dataframe tbody tr th {\n",
       "        vertical-align: top;\n",
       "    }\n",
       "\n",
       "    .dataframe thead th {\n",
       "        text-align: right;\n",
       "    }\n",
       "</style>\n",
       "<table border=\"1\" class=\"dataframe\">\n",
       "  <thead>\n",
       "    <tr style=\"text-align: right;\">\n",
       "      <th></th>\n",
       "      <th>id</th>\n",
       "      <th>username</th>\n",
       "      <th>loginPattern</th>\n",
       "      <th>parentId</th>\n",
       "      <th>birthDate</th>\n",
       "      <th>createdAt</th>\n",
       "      <th>updatedAt</th>\n",
       "      <th>bio</th>\n",
       "      <th>email</th>\n",
       "      <th>avatarImageId</th>\n",
       "      <th>EXP</th>\n",
       "      <th>newAvatar</th>\n",
       "    </tr>\n",
       "  </thead>\n",
       "  <tbody>\n",
       "    <tr>\n",
       "      <th>3</th>\n",
       "      <td>0167d0ed-1b9d-4058-af1d-0f0fe801e668</td>\n",
       "      <td>evamedina</td>\n",
       "      <td>0000</td>\n",
       "      <td>3df4e7c2-6cdf-473e-a488-8cd179f1894b</td>\n",
       "      <td>2022-09-24 03:52:10.139</td>\n",
       "      <td>2022-09-24 03:52:28.495</td>\n",
       "      <td>2023-06-01 10:05:45</td>\n",
       "      <td>None</td>\n",
       "      <td>None</td>\n",
       "      <td>None</td>\n",
       "      <td>360</td>\n",
       "      <td>{'body': {'id': '57d04d86-b354-40e0-bc8c-e038e...</td>\n",
       "    </tr>\n",
       "    <tr>\n",
       "      <th>4</th>\n",
       "      <td>01babd90-27e8-40c7-8ec9-d93698074873</td>\n",
       "      <td>Axel</td>\n",
       "      <td>0000</td>\n",
       "      <td>aeb04e03-aac7-4627-a3a4-c07d84d0b32d</td>\n",
       "      <td>NaT</td>\n",
       "      <td>2022-04-04 05:47:53.189</td>\n",
       "      <td>2023-05-31 11:33:17</td>\n",
       "      <td></td>\n",
       "      <td>axelhere@icloud.com</td>\n",
       "      <td>None</td>\n",
       "      <td>0</td>\n",
       "      <td>{'body': {'id': '57d04d86-b354-40e0-bc8c-e038e...</td>\n",
       "    </tr>\n",
       "    <tr>\n",
       "      <th>5</th>\n",
       "      <td>01cf45c8-1795-4881-9a22-36341333b681</td>\n",
       "      <td>student2222</td>\n",
       "      <td>0000</td>\n",
       "      <td>03a15503-f051-4c67-8c75-a1e81c581e49</td>\n",
       "      <td>NaT</td>\n",
       "      <td>2022-04-04 05:47:49.695</td>\n",
       "      <td>2023-05-31 11:29:34</td>\n",
       "      <td></td>\n",
       "      <td>chris2222@coreka.co</td>\n",
       "      <td>None</td>\n",
       "      <td>60</td>\n",
       "      <td>{'body': {'id': '57d04d86-b354-40e0-bc8c-e038e...</td>\n",
       "    </tr>\n",
       "    <tr>\n",
       "      <th>170</th>\n",
       "      <td>2f18ec78-db3d-4d18-b297-36d38e447e10</td>\n",
       "      <td>saratan</td>\n",
       "      <td>0000</td>\n",
       "      <td>c8923e09-81bc-4bc5-a997-ef594d6a7f1b</td>\n",
       "      <td>2022-05-09 07:07:00.721</td>\n",
       "      <td>2022-05-09 07:07:27.653</td>\n",
       "      <td>2023-05-25 08:24:00</td>\n",
       "      <td>Hello, I am from Hong Kong.</td>\n",
       "      <td>saratytan@gmail.com</td>\n",
       "      <td>756b7408-0188-4570-9ab8-5cceebd103a9</td>\n",
       "      <td>12310</td>\n",
       "      <td>{'pet': {'id': '3a0257d3-e55d-45c6-94f1-962b46...</td>\n",
       "    </tr>\n",
       "    <tr>\n",
       "      <th>219</th>\n",
       "      <td>3c66389a-c546-4c2d-b4a6-cb3c08646142</td>\n",
       "      <td>chrisq</td>\n",
       "      <td>0000</td>\n",
       "      <td>5fda35cf-b0f6-4823-bb03-fb48dfb63ada</td>\n",
       "      <td>2013-01-03 14:59:04.000</td>\n",
       "      <td>2023-04-04 15:00:09.519</td>\n",
       "      <td>2023-06-13 08:07:51</td>\n",
       "      <td></td>\n",
       "      <td>None</td>\n",
       "      <td>3d64d648-0802-4670-b9ba-e2904daead2d</td>\n",
       "      <td>8660</td>\n",
       "      <td>{'pet': {'id': 'b10813f0-22c5-494b-8a6a-35158f...</td>\n",
       "    </tr>\n",
       "    <tr>\n",
       "      <th>287</th>\n",
       "      <td>4d834bcf-fa1f-4df3-bf52-3ea155be6636</td>\n",
       "      <td>Bradleycheng</td>\n",
       "      <td>2686</td>\n",
       "      <td>004031ef-392c-44dc-9b49-259359bc724c</td>\n",
       "      <td>2019-01-07 07:48:33.000</td>\n",
       "      <td>2023-06-10 07:49:18.968</td>\n",
       "      <td>2023-06-12 13:42:47</td>\n",
       "      <td>None</td>\n",
       "      <td>None</td>\n",
       "      <td>10f872ed-2c91-413e-b3d5-199a238289d8</td>\n",
       "      <td>1010</td>\n",
       "      <td>{'pet': {'id': '985a01a8-86c3-4de6-860f-098661...</td>\n",
       "    </tr>\n",
       "    <tr>\n",
       "      <th>349</th>\n",
       "      <td>6200a5fe-f48c-4f8e-8444-2618cf022336</td>\n",
       "      <td>harriq</td>\n",
       "      <td>0000</td>\n",
       "      <td>5fda35cf-b0f6-4823-bb03-fb48dfb63ada</td>\n",
       "      <td>2013-01-03 15:00:13.000</td>\n",
       "      <td>2023-04-04 15:01:30.520</td>\n",
       "      <td>2023-06-13 08:01:55</td>\n",
       "      <td></td>\n",
       "      <td>None</td>\n",
       "      <td>221898c7-916d-47b6-aaa1-15e7d27680d5</td>\n",
       "      <td>8810</td>\n",
       "      <td>{'pet': {'id': 'b10813f0-22c5-494b-8a6a-35158f...</td>\n",
       "    </tr>\n",
       "    <tr>\n",
       "      <th>352</th>\n",
       "      <td>624b439f-0d2c-4ff8-95ba-01df497110c8</td>\n",
       "      <td>SkylarDawn</td>\n",
       "      <td>1234</td>\n",
       "      <td>78fbd9c5-f357-4643-ab1b-fb70149af89b</td>\n",
       "      <td>2018-09-05 09:42:54.000</td>\n",
       "      <td>2023-06-15 09:43:18.920</td>\n",
       "      <td>2023-06-15 10:02:16</td>\n",
       "      <td>None</td>\n",
       "      <td>None</td>\n",
       "      <td>48435690-bec6-4dbe-bdc5-7e7c119b02e1</td>\n",
       "      <td>110</td>\n",
       "      <td>{'body': {'id': '57d04d86-b354-40e0-bc8c-e038e...</td>\n",
       "    </tr>\n",
       "    <tr>\n",
       "      <th>354</th>\n",
       "      <td>62e63d0e-70fb-4f5c-b1bd-8365a268d9a8</td>\n",
       "      <td>huongntt</td>\n",
       "      <td>1234</td>\n",
       "      <td>392d2949-899e-46c5-8103-3ba1148ec563</td>\n",
       "      <td>2023-06-13 04:45:24.661</td>\n",
       "      <td>2023-06-13 04:45:48.516</td>\n",
       "      <td>2023-06-13 04:49:29</td>\n",
       "      <td>None</td>\n",
       "      <td>None</td>\n",
       "      <td>b7fa5a99-b2dd-4f8a-80f1-1c2e85659882</td>\n",
       "      <td>0</td>\n",
       "      <td>{'pet': None, 'body': {'id': '57d04d86-b354-40...</td>\n",
       "    </tr>\n",
       "    <tr>\n",
       "      <th>361</th>\n",
       "      <td>644c6678-d3f1-429d-a266-4c9c1e380570</td>\n",
       "      <td>jacqy</td>\n",
       "      <td>0000</td>\n",
       "      <td>5fda35cf-b0f6-4823-bb03-fb48dfb63ada</td>\n",
       "      <td>2014-08-28 14:56:05.000</td>\n",
       "      <td>2023-04-04 14:56:55.781</td>\n",
       "      <td>2023-06-15 07:52:30</td>\n",
       "      <td></td>\n",
       "      <td>None</td>\n",
       "      <td>ce756430-fd16-4231-8ac7-357a6ebca7a2</td>\n",
       "      <td>6210</td>\n",
       "      <td>{'body': {'id': '57d04d86-b354-40e0-bc8c-e038e...</td>\n",
       "    </tr>\n",
       "    <tr>\n",
       "      <th>407</th>\n",
       "      <td>7386296c-c370-45df-a9ec-74146b994d20</td>\n",
       "      <td>shing_yung</td>\n",
       "      <td>0000</td>\n",
       "      <td>5fda35cf-b0f6-4823-bb03-fb48dfb63ada</td>\n",
       "      <td>2013-01-21 05:21:13.000</td>\n",
       "      <td>2022-10-17 05:21:31.608</td>\n",
       "      <td>2023-06-13 09:01:56</td>\n",
       "      <td>None</td>\n",
       "      <td>None</td>\n",
       "      <td>f5338ca1-df0c-477f-910c-cd0e1c69776a</td>\n",
       "      <td>11760</td>\n",
       "      <td>{'pet': {'id': '3a0257d3-e55d-45c6-94f1-962b46...</td>\n",
       "    </tr>\n",
       "    <tr>\n",
       "      <th>529</th>\n",
       "      <td>95b53095-9415-4a6c-8abd-d4a8430e7010</td>\n",
       "      <td>anakin</td>\n",
       "      <td>0000</td>\n",
       "      <td>0bb77d22-1c88-4697-bb16-09ce19050f23</td>\n",
       "      <td>2011-07-28 05:40:40.000</td>\n",
       "      <td>2022-07-28 05:41:14.747</td>\n",
       "      <td>2023-06-10 04:11:31</td>\n",
       "      <td>None</td>\n",
       "      <td>None</td>\n",
       "      <td>ef35447b-1b16-4416-9cab-440e82bc7b6d</td>\n",
       "      <td>9910</td>\n",
       "      <td>{'pet': {'id': 'b10813f0-22c5-494b-8a6a-35158f...</td>\n",
       "    </tr>\n",
       "    <tr>\n",
       "      <th>532</th>\n",
       "      <td>9614e100-0fa3-4904-96bf-08b45a38a9f7</td>\n",
       "      <td>xander</td>\n",
       "      <td>0000</td>\n",
       "      <td>87712c7b-9b10-4e60-989e-d7ed6b12f5c4</td>\n",
       "      <td>1970-01-01 00:00:00.000</td>\n",
       "      <td>2022-04-04 05:47:49.838</td>\n",
       "      <td>2023-06-12 07:08:17</td>\n",
       "      <td>hello! I am Xander</td>\n",
       "      <td>None</td>\n",
       "      <td>def56a0b-bd1d-43de-9b08-68505f789d3e</td>\n",
       "      <td>32910</td>\n",
       "      <td>{'pet': {'id': 'd9dd44a2-ebb7-41f0-90eb-66906c...</td>\n",
       "    </tr>\n",
       "    <tr>\n",
       "      <th>547</th>\n",
       "      <td>9916349d-c849-482d-a6af-f02e4f0c5130</td>\n",
       "      <td>jacyh</td>\n",
       "      <td>0000</td>\n",
       "      <td>5fda35cf-b0f6-4823-bb03-fb48dfb63ada</td>\n",
       "      <td>2014-12-11 14:52:25.000</td>\n",
       "      <td>2023-04-04 14:54:09.449</td>\n",
       "      <td>2023-06-15 08:22:32</td>\n",
       "      <td>None</td>\n",
       "      <td>None</td>\n",
       "      <td>3a45e933-200e-4868-b1fa-8ee272e835d7</td>\n",
       "      <td>5460</td>\n",
       "      <td>{'pet': {'id': 'd9dd44a2-ebb7-41f0-90eb-66906c...</td>\n",
       "    </tr>\n",
       "    <tr>\n",
       "      <th>562</th>\n",
       "      <td>9d7f8429-f941-42c7-8e3c-97a20d098517</td>\n",
       "      <td>jeffh</td>\n",
       "      <td>0000</td>\n",
       "      <td>5fda35cf-b0f6-4823-bb03-fb48dfb63ada</td>\n",
       "      <td>2014-12-24 14:56:58.000</td>\n",
       "      <td>2023-04-04 14:57:32.982</td>\n",
       "      <td>2023-06-13 08:02:07</td>\n",
       "      <td></td>\n",
       "      <td>None</td>\n",
       "      <td>None</td>\n",
       "      <td>6710</td>\n",
       "      <td>{'body': {'id': '57d04d86-b354-40e0-bc8c-e038e...</td>\n",
       "    </tr>\n",
       "    <tr>\n",
       "      <th>564</th>\n",
       "      <td>9e716d96-9031-45a6-bf4e-3510aeb63e53</td>\n",
       "      <td>chloew</td>\n",
       "      <td>0000</td>\n",
       "      <td>5fda35cf-b0f6-4823-bb03-fb48dfb63ada</td>\n",
       "      <td>2013-09-24 14:54:17.000</td>\n",
       "      <td>2023-04-04 14:55:09.197</td>\n",
       "      <td>2023-06-15 08:11:50</td>\n",
       "      <td></td>\n",
       "      <td>None</td>\n",
       "      <td>2d826e0d-c658-4e04-a490-5963b59781c8</td>\n",
       "      <td>7860</td>\n",
       "      <td>{'pet': {'id': 'b10813f0-22c5-494b-8a6a-35158f...</td>\n",
       "    </tr>\n",
       "    <tr>\n",
       "      <th>572</th>\n",
       "      <td>a2ee63ba-00d6-41d2-a8d7-808ce4fa46c8</td>\n",
       "      <td>test</td>\n",
       "      <td>0000</td>\n",
       "      <td>e6d70149-0e43-4859-b8c6-746d10a2b592</td>\n",
       "      <td>1970-01-01 00:00:00.000</td>\n",
       "      <td>2022-04-04 05:47:49.195</td>\n",
       "      <td>2023-06-10 06:25:26</td>\n",
       "      <td></td>\n",
       "      <td>None</td>\n",
       "      <td>f12491ae-1191-499d-801c-1c1ee790cd9a</td>\n",
       "      <td>13510</td>\n",
       "      <td>{'pet': {'id': '326ce7e0-1515-45f9-9b3f-190a0c...</td>\n",
       "    </tr>\n",
       "    <tr>\n",
       "      <th>725</th>\n",
       "      <td>cd9a73f7-f463-4bc5-91d6-21bc7bccd119</td>\n",
       "      <td>kaylali</td>\n",
       "      <td>0000</td>\n",
       "      <td>5fda35cf-b0f6-4823-bb03-fb48dfb63ada</td>\n",
       "      <td>2014-11-19 04:54:33.000</td>\n",
       "      <td>2022-10-17 04:54:50.717</td>\n",
       "      <td>2023-06-13 08:06:47</td>\n",
       "      <td></td>\n",
       "      <td>None</td>\n",
       "      <td>40dec018-b894-44f3-80ca-7c893ffc7184</td>\n",
       "      <td>12310</td>\n",
       "      <td>{'pet': {'id': '9ca20019-1d5a-41a7-bc46-d5cf61...</td>\n",
       "    </tr>\n",
       "    <tr>\n",
       "      <th>736</th>\n",
       "      <td>d165b29e-fa49-4847-8b28-3dbc2771ef0a</td>\n",
       "      <td>winniew</td>\n",
       "      <td>0000</td>\n",
       "      <td>5fda35cf-b0f6-4823-bb03-fb48dfb63ada</td>\n",
       "      <td>2015-01-21 14:55:12.000</td>\n",
       "      <td>2023-04-04 14:55:49.068</td>\n",
       "      <td>2023-06-15 08:23:56</td>\n",
       "      <td></td>\n",
       "      <td>None</td>\n",
       "      <td>17128929-2333-41a9-bb69-cb669c55e1c2</td>\n",
       "      <td>5510</td>\n",
       "      <td>{'body': {'id': '57d04d86-b354-40e0-bc8c-e038e...</td>\n",
       "    </tr>\n",
       "    <tr>\n",
       "      <th>817</th>\n",
       "      <td>eb6b0720-e712-4b06-848a-2ec1b7aa4218</td>\n",
       "      <td>miyaz</td>\n",
       "      <td>0000</td>\n",
       "      <td>5fda35cf-b0f6-4823-bb03-fb48dfb63ada</td>\n",
       "      <td>2015-08-28 15:02:23.000</td>\n",
       "      <td>2023-04-04 15:04:30.965</td>\n",
       "      <td>2023-06-13 08:05:37</td>\n",
       "      <td></td>\n",
       "      <td>None</td>\n",
       "      <td>f2fab51a-d5af-48e1-b3d5-82a15ce674b9</td>\n",
       "      <td>7260</td>\n",
       "      <td>{'pet': {'id': '9ca20019-1d5a-41a7-bc46-d5cf61...</td>\n",
       "    </tr>\n",
       "    <tr>\n",
       "      <th>826</th>\n",
       "      <td>ee4fba33-0714-49d8-9a1d-a80a1ae8692e</td>\n",
       "      <td>Paul</td>\n",
       "      <td>0000</td>\n",
       "      <td>4f904833-922d-4f3d-8270-9cd0de7ae403</td>\n",
       "      <td>2023-06-05 04:43:13.918</td>\n",
       "      <td>2023-06-05 04:43:33.929</td>\n",
       "      <td>2023-06-05 05:46:40</td>\n",
       "      <td>None</td>\n",
       "      <td>None</td>\n",
       "      <td>a0cbeb3e-a0a2-4d57-ac1f-8a5bb964d77e</td>\n",
       "      <td>260</td>\n",
       "      <td>{'pet': None, 'body': {'id': '57d04d86-b354-40...</td>\n",
       "    </tr>\n",
       "    <tr>\n",
       "      <th>844</th>\n",
       "      <td>f61c3874-baea-4afe-868f-5f4e0bbe42c9</td>\n",
       "      <td>caroly</td>\n",
       "      <td>0000</td>\n",
       "      <td>5fda35cf-b0f6-4823-bb03-fb48dfb63ada</td>\n",
       "      <td>2013-07-26 15:01:32.000</td>\n",
       "      <td>2023-04-04 15:02:21.363</td>\n",
       "      <td>2023-06-13 08:00:59</td>\n",
       "      <td></td>\n",
       "      <td>None</td>\n",
       "      <td>5a03595a-4dbc-4250-8ef2-2fc615d57d7c</td>\n",
       "      <td>8210</td>\n",
       "      <td>{'pet': {'id': '3a0257d3-e55d-45c6-94f1-962b46...</td>\n",
       "    </tr>\n",
       "  </tbody>\n",
       "</table>\n",
       "</div>"
      ]
     },
     "execution_count": 19,
     "metadata": {},
     "output_type": "execute_result"
    }
   ],
   "source": [
    "# How many last 30 days have new avatar?\n",
    "len(students_db_last30[~students_db_last30['newAvatar'].isna()])\n",
    "withAvatar = students_db_last30[~students_db_last30['newAvatar'].isna()]\n",
    "withAvatar"
   ]
  },
  {
   "cell_type": "code",
   "execution_count": 21,
   "metadata": {},
   "outputs": [
    {
     "data": {
      "text/html": [
       "<pre style=\"white-space:pre;overflow-x:auto;line-height:normal;font-family:Menlo,'DejaVu Sans Mono',consolas,'Courier New',monospace\"><span style=\"color: #008080; text-decoration-color: #008080; font-weight: bold\">52</span>\n",
       "</pre>\n"
      ],
      "text/plain": [
       "\u001b[1;36m52\u001b[0m\n"
      ]
     },
     "metadata": {},
     "output_type": "display_data"
    }
   ],
   "source": [
    "# studentsId\n",
    "student_id_last30 = students_db_last30.id.unique().tolist()\n",
    "len(student_id_last30)"
   ]
  },
  {
   "cell_type": "code",
   "execution_count": null,
   "metadata": {},
   "outputs": [],
   "source": []
  },
  {
   "cell_type": "code",
   "execution_count": null,
   "metadata": {},
   "outputs": [],
   "source": []
  },
  {
   "cell_type": "code",
   "execution_count": 22,
   "metadata": {},
   "outputs": [],
   "source": [
    "# Get the current date\n",
    "current_date = dt.datetime.now().date()\n",
    "\n",
    "# Calculate the date of 30 days ago\n",
    "last_30_days_date = str(current_date - dt.timedelta(days=30))\n",
    "\n",
    "# convert to datetime\n",
    "user_db['updatedAt'] = user_db['updatedAt']\n",
    "user_db['updatedAt'] = pd.to_datetime(user_db['updatedAt'], format='%Y-%m-%d %H:%M:%S')\n",
    "user_db['createdAt'] = pd.to_datetime(user_db['createdAt'], format='%Y-%m-%d %H:%M:%S')\n",
    "user_db['lastLogin'] = user_db['lastLogin'].fillna('2020-01-01 00:00:00')\n",
    "user_db['updatedAt' ]= user_db['updatedAt'].apply(lambda x:str(x)[:19])\n",
    "# print(user_db.isna().sum())\n",
    "user_db['lastLogin'] = pd.to_datetime(user_db['lastLogin'], format='%Y-%m-%d %H:%M:%S')\n",
    "\n",
    "user_db = user_db[(user_db['updatedAt'] >= last_30_days_date) & (user_db['lastLogin'] >= last_30_days_date)]"
   ]
  },
  {
   "cell_type": "code",
   "execution_count": 23,
   "metadata": {},
   "outputs": [
    {
     "data": {
      "text/html": [
       "<div>\n",
       "<style scoped>\n",
       "    .dataframe tbody tr th:only-of-type {\n",
       "        vertical-align: middle;\n",
       "    }\n",
       "\n",
       "    .dataframe tbody tr th {\n",
       "        vertical-align: top;\n",
       "    }\n",
       "\n",
       "    .dataframe thead th {\n",
       "        text-align: right;\n",
       "    }\n",
       "</style>\n",
       "<table border=\"1\" class=\"dataframe\">\n",
       "  <thead>\n",
       "    <tr style=\"text-align: right;\">\n",
       "      <th></th>\n",
       "      <th>id</th>\n",
       "      <th>createdAt</th>\n",
       "      <th>updatedAt</th>\n",
       "      <th>firstName</th>\n",
       "      <th>lastName</th>\n",
       "      <th>role</th>\n",
       "      <th>teamId</th>\n",
       "      <th>onboarded</th>\n",
       "      <th>verified</th>\n",
       "      <th>lastLogin</th>\n",
       "    </tr>\n",
       "  </thead>\n",
       "  <tbody>\n",
       "    <tr>\n",
       "      <th>1371</th>\n",
       "      <td>87712c7b-9b10-4e60-989e-d7ed6b12f5c4</td>\n",
       "      <td>2022-04-04 05:47:49.838</td>\n",
       "      <td>2023-05-18 09:21:23</td>\n",
       "      <td>zara jane</td>\n",
       "      <td>tan</td>\n",
       "      <td>PARENT</td>\n",
       "      <td>543f7b19-e558-469a-ba83-3ce8ae0be98a</td>\n",
       "      <td>True</td>\n",
       "      <td>False</td>\n",
       "      <td>2023-05-18 09:21:23.285</td>\n",
       "    </tr>\n",
       "    <tr>\n",
       "      <th>1372</th>\n",
       "      <td>fb08e7a9-e23d-4111-9d1f-20f0d2561df5</td>\n",
       "      <td>2023-05-19 23:42:16.529</td>\n",
       "      <td>2023-05-19 23:47:53</td>\n",
       "      <td>Anne</td>\n",
       "      <td>Kibunya</td>\n",
       "      <td>PARENT</td>\n",
       "      <td>543f7b19-e558-469a-ba83-3ce8ae0be98a</td>\n",
       "      <td>True</td>\n",
       "      <td>False</td>\n",
       "      <td>2023-05-19 23:47:49.065</td>\n",
       "    </tr>\n",
       "    <tr>\n",
       "      <th>1375</th>\n",
       "      <td>fabf3eac-a72c-4641-bd8b-f1045bd0e1f6</td>\n",
       "      <td>2023-05-22 08:32:26.538</td>\n",
       "      <td>2023-05-22 08:35:37</td>\n",
       "      <td>Jojo</td>\n",
       "      <td>Wong</td>\n",
       "      <td>TEACHER</td>\n",
       "      <td>543f7b19-e558-469a-ba83-3ce8ae0be98a</td>\n",
       "      <td>True</td>\n",
       "      <td>False</td>\n",
       "      <td>2023-05-22 08:35:37.729</td>\n",
       "    </tr>\n",
       "    <tr>\n",
       "      <th>1376</th>\n",
       "      <td>563009f5-2aea-4759-bd65-cc66dcb39b70</td>\n",
       "      <td>2023-05-22 11:17:50.648</td>\n",
       "      <td>2023-05-22 11:19:29</td>\n",
       "      <td>Lisa</td>\n",
       "      <td>Hackett</td>\n",
       "      <td>PARENT</td>\n",
       "      <td>543f7b19-e558-469a-ba83-3ce8ae0be98a</td>\n",
       "      <td>True</td>\n",
       "      <td>False</td>\n",
       "      <td>2023-05-22 11:19:21.608</td>\n",
       "    </tr>\n",
       "    <tr>\n",
       "      <th>1378</th>\n",
       "      <td>60b59f80-33fa-4135-8b38-dfe56e7f50c0</td>\n",
       "      <td>2022-10-19 13:10:09.431</td>\n",
       "      <td>2023-05-25 03:48:16</td>\n",
       "      <td>Miya</td>\n",
       "      <td>Cheng</td>\n",
       "      <td>STUDENT</td>\n",
       "      <td>543f7b19-e558-469a-ba83-3ce8ae0be98a</td>\n",
       "      <td>True</td>\n",
       "      <td>False</td>\n",
       "      <td>2023-05-25 03:48:16.042</td>\n",
       "    </tr>\n",
       "    <tr>\n",
       "      <th>1379</th>\n",
       "      <td>8d4f6ce0-a887-4ee6-b439-7bae1b048e73</td>\n",
       "      <td>2022-10-17 05:00:27.199</td>\n",
       "      <td>2023-05-25 08:24:13</td>\n",
       "      <td>Cyan</td>\n",
       "      <td>Cao</td>\n",
       "      <td>STUDENT</td>\n",
       "      <td>543f7b19-e558-469a-ba83-3ce8ae0be98a</td>\n",
       "      <td>True</td>\n",
       "      <td>False</td>\n",
       "      <td>2023-05-25 08:24:13.637</td>\n",
       "    </tr>\n",
       "    <tr>\n",
       "      <th>1381</th>\n",
       "      <td>01cf45c8-1795-4881-9a22-36341333b681</td>\n",
       "      <td>2022-04-04 05:47:49.695</td>\n",
       "      <td>2023-05-31 11:29:24</td>\n",
       "      <td>Chris2</td>\n",
       "      <td>One</td>\n",
       "      <td>STUDENT</td>\n",
       "      <td>543f7b19-e558-469a-ba83-3ce8ae0be98a</td>\n",
       "      <td>True</td>\n",
       "      <td>False</td>\n",
       "      <td>2023-05-31 11:29:21.177</td>\n",
       "    </tr>\n",
       "    <tr>\n",
       "      <th>1386</th>\n",
       "      <td>1ffe69af-e5c6-49ce-8498-3942934560b7</td>\n",
       "      <td>2022-06-13 03:04:32.601</td>\n",
       "      <td>2023-06-02 05:16:36</td>\n",
       "      <td>testing</td>\n",
       "      <td>123</td>\n",
       "      <td>STUDENT</td>\n",
       "      <td>543f7b19-e558-469a-ba83-3ce8ae0be98a</td>\n",
       "      <td>True</td>\n",
       "      <td>False</td>\n",
       "      <td>2023-06-02 05:16:36.026</td>\n",
       "    </tr>\n",
       "    <tr>\n",
       "      <th>1389</th>\n",
       "      <td>4f904833-922d-4f3d-8270-9cd0de7ae403</td>\n",
       "      <td>2022-04-19 09:31:25.204</td>\n",
       "      <td>2023-06-05 04:42:54</td>\n",
       "      <td>Paul</td>\n",
       "      <td>Tan</td>\n",
       "      <td>PARENT</td>\n",
       "      <td>543f7b19-e558-469a-ba83-3ce8ae0be98a</td>\n",
       "      <td>True</td>\n",
       "      <td>False</td>\n",
       "      <td>2023-06-05 04:42:54.968</td>\n",
       "    </tr>\n",
       "    <tr>\n",
       "      <th>1390</th>\n",
       "      <td>ee4fba33-0714-49d8-9a1d-a80a1ae8692e</td>\n",
       "      <td>2023-06-05 04:43:33.929</td>\n",
       "      <td>2023-06-05 05:28:15</td>\n",
       "      <td>Paul</td>\n",
       "      <td>Paul</td>\n",
       "      <td>STUDENT</td>\n",
       "      <td>543f7b19-e558-469a-ba83-3ce8ae0be98a</td>\n",
       "      <td>True</td>\n",
       "      <td>False</td>\n",
       "      <td>2023-06-05 05:28:09.613</td>\n",
       "    </tr>\n",
       "    <tr>\n",
       "      <th>1392</th>\n",
       "      <td>d784b024-6b63-4c81-b84b-620d6c58c22e</td>\n",
       "      <td>2023-04-26 02:01:24.079</td>\n",
       "      <td>2023-06-08 04:31:52</td>\n",
       "      <td>Tommy</td>\n",
       "      <td>Tommy</td>\n",
       "      <td>TEACHER</td>\n",
       "      <td>543f7b19-e558-469a-ba83-3ce8ae0be98a</td>\n",
       "      <td>True</td>\n",
       "      <td>False</td>\n",
       "      <td>2023-06-08 04:31:52.591</td>\n",
       "    </tr>\n",
       "    <tr>\n",
       "      <th>1405</th>\n",
       "      <td>e7ed48c7-4cc0-461d-a482-bdd9b4cce25f</td>\n",
       "      <td>2023-06-08 16:16:24.293</td>\n",
       "      <td>2023-06-08 16:19:00</td>\n",
       "      <td>jqe</td>\n",
       "      <td>1</td>\n",
       "      <td>STUDENT</td>\n",
       "      <td>543f7b19-e558-469a-ba83-3ce8ae0be98a</td>\n",
       "      <td>False</td>\n",
       "      <td>False</td>\n",
       "      <td>2023-06-08 16:19:00.348</td>\n",
       "    </tr>\n",
       "    <tr>\n",
       "      <th>1417</th>\n",
       "      <td>c40ebe24-418e-44cf-9ba3-8e0d9cb8c681</td>\n",
       "      <td>2022-04-04 05:47:48.713</td>\n",
       "      <td>2023-06-09 08:46:39</td>\n",
       "      <td>Nova</td>\n",
       "      <td>Academy</td>\n",
       "      <td>TEACHER</td>\n",
       "      <td>543f7b19-e558-469a-ba83-3ce8ae0be98a</td>\n",
       "      <td>True</td>\n",
       "      <td>False</td>\n",
       "      <td>2023-06-09 08:46:39.942</td>\n",
       "    </tr>\n",
       "    <tr>\n",
       "      <th>1419</th>\n",
       "      <td>95b53095-9415-4a6c-8abd-d4a8430e7010</td>\n",
       "      <td>2022-07-28 05:41:14.749</td>\n",
       "      <td>2023-06-10 03:58:31</td>\n",
       "      <td>Anakin</td>\n",
       "      <td>Skywalker</td>\n",
       "      <td>STUDENT</td>\n",
       "      <td>543f7b19-e558-469a-ba83-3ce8ae0be98a</td>\n",
       "      <td>True</td>\n",
       "      <td>False</td>\n",
       "      <td>2023-06-10 03:58:31.616</td>\n",
       "    </tr>\n",
       "    <tr>\n",
       "      <th>1420</th>\n",
       "      <td>48bed86a-64e7-43b5-8ced-ab6abf8f2881</td>\n",
       "      <td>2022-10-17 04:51:35.113</td>\n",
       "      <td>2023-06-10 06:02:26</td>\n",
       "      <td>Sau Fu</td>\n",
       "      <td>Wong</td>\n",
       "      <td>STUDENT</td>\n",
       "      <td>543f7b19-e558-469a-ba83-3ce8ae0be98a</td>\n",
       "      <td>True</td>\n",
       "      <td>False</td>\n",
       "      <td>2023-06-10 06:02:26.991</td>\n",
       "    </tr>\n",
       "    <tr>\n",
       "      <th>1422</th>\n",
       "      <td>016e7964-bd0c-46ff-a494-ac41ad1206f2</td>\n",
       "      <td>2023-02-06 10:07:42.701</td>\n",
       "      <td>2023-06-10 17:22:59</td>\n",
       "      <td>Diya</td>\n",
       "      <td>Vivek</td>\n",
       "      <td>TEACHER</td>\n",
       "      <td>543f7b19-e558-469a-ba83-3ce8ae0be98a</td>\n",
       "      <td>True</td>\n",
       "      <td>False</td>\n",
       "      <td>2023-06-10 17:22:59.732</td>\n",
       "    </tr>\n",
       "    <tr>\n",
       "      <th>1423</th>\n",
       "      <td>2f18ec78-db3d-4d18-b297-36d38e447e10</td>\n",
       "      <td>2022-05-09 07:07:27.653</td>\n",
       "      <td>2023-06-11 09:41:58</td>\n",
       "      <td>Sara</td>\n",
       "      <td>T</td>\n",
       "      <td>STUDENT</td>\n",
       "      <td>543f7b19-e558-469a-ba83-3ce8ae0be98a</td>\n",
       "      <td>True</td>\n",
       "      <td>False</td>\n",
       "      <td>2023-06-11 09:41:58.670</td>\n",
       "    </tr>\n",
       "    <tr>\n",
       "      <th>1426</th>\n",
       "      <td>d46cfb1e-0fd8-4123-a436-c051d820ce8d</td>\n",
       "      <td>2023-06-10 11:21:44.302</td>\n",
       "      <td>2023-06-12 08:35:52</td>\n",
       "      <td>Alvina</td>\n",
       "      <td>Siu</td>\n",
       "      <td>STUDENT</td>\n",
       "      <td>543f7b19-e558-469a-ba83-3ce8ae0be98a</td>\n",
       "      <td>True</td>\n",
       "      <td>False</td>\n",
       "      <td>2023-06-12 08:35:52.389</td>\n",
       "    </tr>\n",
       "    <tr>\n",
       "      <th>1427</th>\n",
       "      <td>ed3ed8a8-b816-4c12-837a-a3cdb488e804</td>\n",
       "      <td>2023-04-27 09:40:09.179</td>\n",
       "      <td>2023-06-12 08:53:01</td>\n",
       "      <td>Simon</td>\n",
       "      <td>Li</td>\n",
       "      <td>TEACHER</td>\n",
       "      <td>543f7b19-e558-469a-ba83-3ce8ae0be98a</td>\n",
       "      <td>True</td>\n",
       "      <td>False</td>\n",
       "      <td>2023-06-12 08:53:01.383</td>\n",
       "    </tr>\n",
       "    <tr>\n",
       "      <th>1428</th>\n",
       "      <td>004031ef-392c-44dc-9b49-259359bc724c</td>\n",
       "      <td>2023-06-09 08:23:25.913</td>\n",
       "      <td>2023-06-12 13:07:48</td>\n",
       "      <td>Kenneth</td>\n",
       "      <td>Cheng</td>\n",
       "      <td>PARENT</td>\n",
       "      <td>543f7b19-e558-469a-ba83-3ce8ae0be98a</td>\n",
       "      <td>True</td>\n",
       "      <td>False</td>\n",
       "      <td>2023-06-12 13:07:48.687</td>\n",
       "    </tr>\n",
       "    <tr>\n",
       "      <th>1429</th>\n",
       "      <td>4d834bcf-fa1f-4df3-bf52-3ea155be6636</td>\n",
       "      <td>2023-06-10 07:49:18.968</td>\n",
       "      <td>2023-06-12 13:08:23</td>\n",
       "      <td>Brad</td>\n",
       "      <td>Cheng</td>\n",
       "      <td>STUDENT</td>\n",
       "      <td>543f7b19-e558-469a-ba83-3ce8ae0be98a</td>\n",
       "      <td>True</td>\n",
       "      <td>False</td>\n",
       "      <td>2023-06-12 13:08:23.548</td>\n",
       "    </tr>\n",
       "    <tr>\n",
       "      <th>1430</th>\n",
       "      <td>392d2949-899e-46c5-8103-3ba1148ec563</td>\n",
       "      <td>2023-06-10 06:52:08.106</td>\n",
       "      <td>2023-06-13 04:47:03</td>\n",
       "      <td>Lê</td>\n",
       "      <td>Tuấn</td>\n",
       "      <td>PARENT</td>\n",
       "      <td>543f7b19-e558-469a-ba83-3ce8ae0be98a</td>\n",
       "      <td>True</td>\n",
       "      <td>False</td>\n",
       "      <td>2023-06-13 04:45:16.520</td>\n",
       "    </tr>\n",
       "    <tr>\n",
       "      <th>1431</th>\n",
       "      <td>62e63d0e-70fb-4f5c-b1bd-8365a268d9a8</td>\n",
       "      <td>2023-06-13 04:45:48.517</td>\n",
       "      <td>2023-06-13 04:49:39</td>\n",
       "      <td>Hương</td>\n",
       "      <td>Nguyễn Thị Thu</td>\n",
       "      <td>STUDENT</td>\n",
       "      <td>543f7b19-e558-469a-ba83-3ce8ae0be98a</td>\n",
       "      <td>True</td>\n",
       "      <td>False</td>\n",
       "      <td>2023-06-13 04:48:16.615</td>\n",
       "    </tr>\n",
       "    <tr>\n",
       "      <th>1432</th>\n",
       "      <td>eb6b0720-e712-4b06-848a-2ec1b7aa4218</td>\n",
       "      <td>2023-04-04 15:04:30.966</td>\n",
       "      <td>2023-06-13 07:25:47</td>\n",
       "      <td>Miya</td>\n",
       "      <td>Zheng</td>\n",
       "      <td>STUDENT</td>\n",
       "      <td>543f7b19-e558-469a-ba83-3ce8ae0be98a</td>\n",
       "      <td>True</td>\n",
       "      <td>False</td>\n",
       "      <td>2023-06-13 07:25:47.101</td>\n",
       "    </tr>\n",
       "    <tr>\n",
       "      <th>1433</th>\n",
       "      <td>f61c3874-baea-4afe-868f-5f4e0bbe42c9</td>\n",
       "      <td>2023-04-04 15:02:21.364</td>\n",
       "      <td>2023-06-13 07:28:02</td>\n",
       "      <td>Carolyn</td>\n",
       "      <td>Yang</td>\n",
       "      <td>STUDENT</td>\n",
       "      <td>543f7b19-e558-469a-ba83-3ce8ae0be98a</td>\n",
       "      <td>True</td>\n",
       "      <td>False</td>\n",
       "      <td>2023-06-13 07:28:02.645</td>\n",
       "    </tr>\n",
       "    <tr>\n",
       "      <th>1434</th>\n",
       "      <td>6200a5fe-f48c-4f8e-8444-2618cf022336</td>\n",
       "      <td>2023-04-04 15:01:30.520</td>\n",
       "      <td>2023-06-13 07:28:30</td>\n",
       "      <td>Harrison</td>\n",
       "      <td>Qin</td>\n",
       "      <td>STUDENT</td>\n",
       "      <td>543f7b19-e558-469a-ba83-3ce8ae0be98a</td>\n",
       "      <td>True</td>\n",
       "      <td>False</td>\n",
       "      <td>2023-06-13 07:28:30.824</td>\n",
       "    </tr>\n",
       "    <tr>\n",
       "      <th>1435</th>\n",
       "      <td>3c66389a-c546-4c2d-b4a6-cb3c08646142</td>\n",
       "      <td>2023-04-04 15:00:09.520</td>\n",
       "      <td>2023-06-13 07:28:40</td>\n",
       "      <td>Christina</td>\n",
       "      <td>Qin</td>\n",
       "      <td>STUDENT</td>\n",
       "      <td>543f7b19-e558-469a-ba83-3ce8ae0be98a</td>\n",
       "      <td>True</td>\n",
       "      <td>False</td>\n",
       "      <td>2023-06-13 07:28:40.285</td>\n",
       "    </tr>\n",
       "    <tr>\n",
       "      <th>1436</th>\n",
       "      <td>cd9a73f7-f463-4bc5-91d6-21bc7bccd119</td>\n",
       "      <td>2022-10-17 04:54:50.718</td>\n",
       "      <td>2023-06-13 07:28:58</td>\n",
       "      <td>Kayla</td>\n",
       "      <td>Li</td>\n",
       "      <td>STUDENT</td>\n",
       "      <td>543f7b19-e558-469a-ba83-3ce8ae0be98a</td>\n",
       "      <td>True</td>\n",
       "      <td>False</td>\n",
       "      <td>2023-06-13 07:28:58.189</td>\n",
       "    </tr>\n",
       "    <tr>\n",
       "      <th>1437</th>\n",
       "      <td>9d7f8429-f941-42c7-8e3c-97a20d098517</td>\n",
       "      <td>2023-04-04 14:57:32.983</td>\n",
       "      <td>2023-06-13 07:32:19</td>\n",
       "      <td>Jeff</td>\n",
       "      <td>Hui</td>\n",
       "      <td>STUDENT</td>\n",
       "      <td>543f7b19-e558-469a-ba83-3ce8ae0be98a</td>\n",
       "      <td>True</td>\n",
       "      <td>False</td>\n",
       "      <td>2023-06-13 07:32:19.939</td>\n",
       "    </tr>\n",
       "    <tr>\n",
       "      <th>1446</th>\n",
       "      <td>f3613fb0-8535-4c13-9e4e-e433beb49af2</td>\n",
       "      <td>2023-06-14 03:38:23.114</td>\n",
       "      <td>2023-06-14 03:38:53</td>\n",
       "      <td>David</td>\n",
       "      <td>Ngoc Anh</td>\n",
       "      <td>PARENT</td>\n",
       "      <td>543f7b19-e558-469a-ba83-3ce8ae0be98a</td>\n",
       "      <td>True</td>\n",
       "      <td>False</td>\n",
       "      <td>2023-06-14 03:38:51.728</td>\n",
       "    </tr>\n",
       "    <tr>\n",
       "      <th>1447</th>\n",
       "      <td>1d517fd6-e368-4959-b415-cd2b9274eb4e</td>\n",
       "      <td>2022-04-04 05:47:52.596</td>\n",
       "      <td>2023-06-14 03:55:49</td>\n",
       "      <td>Mr</td>\n",
       "      <td>TuBee</td>\n",
       "      <td>TEACHER</td>\n",
       "      <td>543f7b19-e558-469a-ba83-3ce8ae0be98a</td>\n",
       "      <td>True</td>\n",
       "      <td>False</td>\n",
       "      <td>2023-06-14 03:55:49.732</td>\n",
       "    </tr>\n",
       "    <tr>\n",
       "      <th>1448</th>\n",
       "      <td>7386296c-c370-45df-a9ec-74146b994d20</td>\n",
       "      <td>2022-10-17 05:21:31.608</td>\n",
       "      <td>2023-06-15 05:28:48</td>\n",
       "      <td>Shing Yung</td>\n",
       "      <td>Ye</td>\n",
       "      <td>STUDENT</td>\n",
       "      <td>543f7b19-e558-469a-ba83-3ce8ae0be98a</td>\n",
       "      <td>True</td>\n",
       "      <td>False</td>\n",
       "      <td>2023-06-15 05:28:48.552</td>\n",
       "    </tr>\n",
       "    <tr>\n",
       "      <th>1449</th>\n",
       "      <td>644c6678-d3f1-429d-a266-4c9c1e380570</td>\n",
       "      <td>2023-04-04 14:56:55.781</td>\n",
       "      <td>2023-06-15 07:33:54</td>\n",
       "      <td>Jacqueline</td>\n",
       "      <td>Yang</td>\n",
       "      <td>STUDENT</td>\n",
       "      <td>543f7b19-e558-469a-ba83-3ce8ae0be98a</td>\n",
       "      <td>True</td>\n",
       "      <td>False</td>\n",
       "      <td>2023-06-15 07:33:54.986</td>\n",
       "    </tr>\n",
       "    <tr>\n",
       "      <th>1450</th>\n",
       "      <td>9e716d96-9031-45a6-bf4e-3510aeb63e53</td>\n",
       "      <td>2023-04-04 14:55:09.197</td>\n",
       "      <td>2023-06-15 07:33:57</td>\n",
       "      <td>Chloe</td>\n",
       "      <td>Wang</td>\n",
       "      <td>STUDENT</td>\n",
       "      <td>543f7b19-e558-469a-ba83-3ce8ae0be98a</td>\n",
       "      <td>True</td>\n",
       "      <td>False</td>\n",
       "      <td>2023-06-15 07:33:57.915</td>\n",
       "    </tr>\n",
       "    <tr>\n",
       "      <th>1451</th>\n",
       "      <td>d165b29e-fa49-4847-8b28-3dbc2771ef0a</td>\n",
       "      <td>2023-04-04 14:55:49.069</td>\n",
       "      <td>2023-06-15 07:34:18</td>\n",
       "      <td>Winnie</td>\n",
       "      <td>Weng</td>\n",
       "      <td>STUDENT</td>\n",
       "      <td>543f7b19-e558-469a-ba83-3ce8ae0be98a</td>\n",
       "      <td>True</td>\n",
       "      <td>False</td>\n",
       "      <td>2023-06-15 07:34:18.644</td>\n",
       "    </tr>\n",
       "    <tr>\n",
       "      <th>1452</th>\n",
       "      <td>9916349d-c849-482d-a6af-f02e4f0c5130</td>\n",
       "      <td>2023-04-04 14:54:09.450</td>\n",
       "      <td>2023-06-15 07:35:46</td>\n",
       "      <td>Jacy</td>\n",
       "      <td>Huang</td>\n",
       "      <td>STUDENT</td>\n",
       "      <td>543f7b19-e558-469a-ba83-3ce8ae0be98a</td>\n",
       "      <td>True</td>\n",
       "      <td>False</td>\n",
       "      <td>2023-06-15 07:35:46.368</td>\n",
       "    </tr>\n",
       "    <tr>\n",
       "      <th>1453</th>\n",
       "      <td>430dba19-f847-4840-9dba-1cb0d6f938bd</td>\n",
       "      <td>2022-04-04 05:47:48.871</td>\n",
       "      <td>2023-06-15 07:40:27</td>\n",
       "      <td>Miss Noval</td>\n",
       "      <td>Earn</td>\n",
       "      <td>PARENT</td>\n",
       "      <td>543f7b19-e558-469a-ba83-3ce8ae0be98a</td>\n",
       "      <td>True</td>\n",
       "      <td>False</td>\n",
       "      <td>2023-06-15 07:40:27.428</td>\n",
       "    </tr>\n",
       "    <tr>\n",
       "      <th>1454</th>\n",
       "      <td>5fda35cf-b0f6-4823-bb03-fb48dfb63ada</td>\n",
       "      <td>2022-10-17 04:37:07.084</td>\n",
       "      <td>2023-06-15 08:17:00</td>\n",
       "      <td>Erik</td>\n",
       "      <td>Blees</td>\n",
       "      <td>PARENT</td>\n",
       "      <td>543f7b19-e558-469a-ba83-3ce8ae0be98a</td>\n",
       "      <td>True</td>\n",
       "      <td>False</td>\n",
       "      <td>2023-06-15 08:17:00.698</td>\n",
       "    </tr>\n",
       "    <tr>\n",
       "      <th>1456</th>\n",
       "      <td>624b439f-0d2c-4ff8-95ba-01df497110c8</td>\n",
       "      <td>2023-06-15 09:43:18.920</td>\n",
       "      <td>2023-06-15 09:53:40</td>\n",
       "      <td>Skylar</td>\n",
       "      <td>Kulhavy</td>\n",
       "      <td>STUDENT</td>\n",
       "      <td>543f7b19-e558-469a-ba83-3ce8ae0be98a</td>\n",
       "      <td>True</td>\n",
       "      <td>False</td>\n",
       "      <td>2023-06-15 09:53:40.912</td>\n",
       "    </tr>\n",
       "    <tr>\n",
       "      <th>1457</th>\n",
       "      <td>0f123eba-dbcf-40f2-ad46-7197e803050c</td>\n",
       "      <td>2022-04-04 05:47:48.501</td>\n",
       "      <td>2023-06-16 01:28:06</td>\n",
       "      <td>Krista</td>\n",
       "      <td>Veitch</td>\n",
       "      <td>TEACHER</td>\n",
       "      <td>543f7b19-e558-469a-ba83-3ce8ae0be98a</td>\n",
       "      <td>True</td>\n",
       "      <td>False</td>\n",
       "      <td>2023-06-16 01:28:06.934</td>\n",
       "    </tr>\n",
       "    <tr>\n",
       "      <th>1458</th>\n",
       "      <td>0bb77d22-1c88-4697-bb16-09ce19050f23</td>\n",
       "      <td>2022-04-04 05:47:52.734</td>\n",
       "      <td>2023-06-16 06:15:00</td>\n",
       "      <td>Demo</td>\n",
       "      <td>account</td>\n",
       "      <td>PARENT</td>\n",
       "      <td>543f7b19-e558-469a-ba83-3ce8ae0be98a</td>\n",
       "      <td>True</td>\n",
       "      <td>False</td>\n",
       "      <td>2023-06-16 06:15:00.259</td>\n",
       "    </tr>\n",
       "    <tr>\n",
       "      <th>1459</th>\n",
       "      <td>49899798-abfe-4a78-bb13-5be48e54ff67</td>\n",
       "      <td>2022-04-06 05:21:14.945</td>\n",
       "      <td>2023-06-16 06:17:05</td>\n",
       "      <td>Admin</td>\n",
       "      <td>Default</td>\n",
       "      <td>SUPERADMIN</td>\n",
       "      <td>543f7b19-e558-469a-ba83-3ce8ae0be98a</td>\n",
       "      <td>False</td>\n",
       "      <td>False</td>\n",
       "      <td>2023-06-16 06:17:05.236</td>\n",
       "    </tr>\n",
       "    <tr>\n",
       "      <th>1460</th>\n",
       "      <td>9614e100-0fa3-4904-96bf-08b45a38a9f7</td>\n",
       "      <td>2022-04-04 05:47:49.839</td>\n",
       "      <td>2023-06-16 06:27:25</td>\n",
       "      <td>xander</td>\n",
       "      <td>shah</td>\n",
       "      <td>STUDENT</td>\n",
       "      <td>25e2714f-5a2d-409e-8a9c-d47c72fbdbb4</td>\n",
       "      <td>True</td>\n",
       "      <td>False</td>\n",
       "      <td>2023-06-16 06:27:25.957</td>\n",
       "    </tr>\n",
       "    <tr>\n",
       "      <th>1461</th>\n",
       "      <td>a2ee63ba-00d6-41d2-a8d7-808ce4fa46c8</td>\n",
       "      <td>2022-04-04 05:47:49.195</td>\n",
       "      <td>2023-06-16 10:02:54</td>\n",
       "      <td>test</td>\n",
       "      <td>account</td>\n",
       "      <td>STUDENT</td>\n",
       "      <td>543f7b19-e558-469a-ba83-3ce8ae0be98a</td>\n",
       "      <td>True</td>\n",
       "      <td>False</td>\n",
       "      <td>2023-06-16 10:02:54.901</td>\n",
       "    </tr>\n",
       "  </tbody>\n",
       "</table>\n",
       "</div>"
      ]
     },
     "execution_count": 23,
     "metadata": {},
     "output_type": "execute_result"
    }
   ],
   "source": [
    "user_db"
   ]
  },
  {
   "cell_type": "code",
   "execution_count": 24,
   "metadata": {},
   "outputs": [
    {
     "data": {
      "text/html": [
       "<pre style=\"white-space:pre;overflow-x:auto;line-height:normal;font-family:Menlo,'DejaVu Sans Mono',consolas,'Courier New',monospace\">\n",
       "STUDENT       <span style=\"color: #008080; text-decoration-color: #008080; font-weight: bold\">26</span>\n",
       "PARENT        <span style=\"color: #008080; text-decoration-color: #008080; font-weight: bold\">10</span>\n",
       "TEACHER        <span style=\"color: #008080; text-decoration-color: #008080; font-weight: bold\">7</span>\n",
       "SUPERADMIN     <span style=\"color: #008080; text-decoration-color: #008080; font-weight: bold\">1</span>\n",
       "Name: role, dtype: int64\n",
       "</pre>\n"
      ],
      "text/plain": [
       "\n",
       "STUDENT       \u001b[1;36m26\u001b[0m\n",
       "PARENT        \u001b[1;36m10\u001b[0m\n",
       "TEACHER        \u001b[1;36m7\u001b[0m\n",
       "SUPERADMIN     \u001b[1;36m1\u001b[0m\n",
       "Name: role, dtype: int64\n"
      ]
     },
     "metadata": {},
     "output_type": "display_data"
    }
   ],
   "source": [
    "# Number of parents vs students\n",
    "user_db.role.value_counts()"
   ]
  },
  {
   "cell_type": "code",
   "execution_count": 57,
   "metadata": {},
   "outputs": [
    {
     "data": {
      "text/html": [
       "<div>\n",
       "<style scoped>\n",
       "    .dataframe tbody tr th:only-of-type {\n",
       "        vertical-align: middle;\n",
       "    }\n",
       "\n",
       "    .dataframe tbody tr th {\n",
       "        vertical-align: top;\n",
       "    }\n",
       "\n",
       "    .dataframe thead th {\n",
       "        text-align: right;\n",
       "    }\n",
       "</style>\n",
       "<table border=\"1\" class=\"dataframe\">\n",
       "  <thead>\n",
       "    <tr style=\"text-align: right;\">\n",
       "      <th></th>\n",
       "      <th>id</th>\n",
       "      <th>username</th>\n",
       "      <th>loginPattern</th>\n",
       "      <th>parentId</th>\n",
       "      <th>birthDate</th>\n",
       "      <th>createdAt</th>\n",
       "      <th>updatedAt</th>\n",
       "      <th>bio</th>\n",
       "      <th>email</th>\n",
       "      <th>avatarImageId</th>\n",
       "      <th>EXP</th>\n",
       "      <th>newAvatar</th>\n",
       "    </tr>\n",
       "  </thead>\n",
       "  <tbody>\n",
       "    <tr>\n",
       "      <th>0</th>\n",
       "      <td>ffe8a090-0a6e-4f9a-9157-c020c74a4142</td>\n",
       "      <td>Matt</td>\n",
       "      <td>212</td>\n",
       "      <td>3988ba18-4444-40d3-8558-3dd472d38ef8</td>\n",
       "      <td>2011-12-02 02:45:39</td>\n",
       "      <td>2022-10-01 02:47:16.259</td>\n",
       "      <td>2022-10-01 02:54:39.919</td>\n",
       "      <td>NaN</td>\n",
       "      <td>NaN</td>\n",
       "      <td>NaN</td>\n",
       "      <td>60</td>\n",
       "      <td>NaN</td>\n",
       "    </tr>\n",
       "    <tr>\n",
       "      <th>1</th>\n",
       "      <td>ffab089d-ddd6-469a-ac58-c5b91f8b65c7</td>\n",
       "      <td>5s08</td>\n",
       "      <td>0</td>\n",
       "      <td>284dfe41-2bc9-4222-b891-78d05cabf959</td>\n",
       "      <td>2022-11-20 10:48:27.784</td>\n",
       "      <td>2022-11-20 10:48:44.687</td>\n",
       "      <td>2022-11-20 15:02:56.909</td>\n",
       "      <td>NaN</td>\n",
       "      <td>NaN</td>\n",
       "      <td>NaN</td>\n",
       "      <td>0</td>\n",
       "      <td>{\"body\": {\"id\": \"57d04d86-b354-40e0-bc8c-e038e...</td>\n",
       "    </tr>\n",
       "    <tr>\n",
       "      <th>2</th>\n",
       "      <td>ff5b93c0-88cd-40bb-ba43-a2d0a6672869</td>\n",
       "      <td>Emily-Min-A</td>\n",
       "      <td>0</td>\n",
       "      <td>57ffd8c3-d501-4e36-bd0e-d2f6f9c5965d</td>\n",
       "      <td>NaN</td>\n",
       "      <td>2022-04-04 05:47:54.556</td>\n",
       "      <td>2022-07-05 09:10:12.553</td>\n",
       "      <td>NaN</td>\n",
       "      <td>NaN</td>\n",
       "      <td>NaN</td>\n",
       "      <td>0</td>\n",
       "      <td>NaN</td>\n",
       "    </tr>\n",
       "    <tr>\n",
       "      <th>3</th>\n",
       "      <td>fef50323-4f60-4f27-9bd7-3f37640c28b5</td>\n",
       "      <td>bobo123</td>\n",
       "      <td>0</td>\n",
       "      <td>d828c0b3-e7d1-417e-8ad5-f256c2ea37a4</td>\n",
       "      <td>2022-05-16 10:44:13.251</td>\n",
       "      <td>2022-05-16 10:44:22.552</td>\n",
       "      <td>2022-07-05 09:10:12.553</td>\n",
       "      <td>NaN</td>\n",
       "      <td>NaN</td>\n",
       "      <td>68bdef30-a555-43a3-8581-166d55f5e66b</td>\n",
       "      <td>150</td>\n",
       "      <td>NaN</td>\n",
       "    </tr>\n",
       "    <tr>\n",
       "      <th>4</th>\n",
       "      <td>fe77bbec-d210-46ef-801e-14227c6313be</td>\n",
       "      <td>190110400@isnsz.com</td>\n",
       "      <td>0</td>\n",
       "      <td>169526eb-2224-478b-bff9-4a28c5ba9aa2</td>\n",
       "      <td>NaN</td>\n",
       "      <td>2022-04-04 05:47:56.436</td>\n",
       "      <td>2022-07-05 09:10:12.553</td>\n",
       "      <td>NaN</td>\n",
       "      <td>NaN</td>\n",
       "      <td>NaN</td>\n",
       "      <td>0</td>\n",
       "      <td>NaN</td>\n",
       "    </tr>\n",
       "    <tr>\n",
       "      <th>...</th>\n",
       "      <td>...</td>\n",
       "      <td>...</td>\n",
       "      <td>...</td>\n",
       "      <td>...</td>\n",
       "      <td>...</td>\n",
       "      <td>...</td>\n",
       "      <td>...</td>\n",
       "      <td>...</td>\n",
       "      <td>...</td>\n",
       "      <td>...</td>\n",
       "      <td>...</td>\n",
       "      <td>...</td>\n",
       "    </tr>\n",
       "    <tr>\n",
       "      <th>839</th>\n",
       "      <td>01babd90-27e8-40c7-8ec9-d93698074873</td>\n",
       "      <td>Axel</td>\n",
       "      <td>0</td>\n",
       "      <td>aeb04e03-aac7-4627-a3a4-c07d84d0b32d</td>\n",
       "      <td>NaN</td>\n",
       "      <td>2022-04-04 05:47:53.189</td>\n",
       "      <td>2022-07-05 09:10:12.553</td>\n",
       "      <td>NaN</td>\n",
       "      <td>axelhere@icloud.com</td>\n",
       "      <td>NaN</td>\n",
       "      <td>0</td>\n",
       "      <td>NaN</td>\n",
       "    </tr>\n",
       "    <tr>\n",
       "      <th>840</th>\n",
       "      <td>0167d0ed-1b9d-4058-af1d-0f0fe801e668</td>\n",
       "      <td>evamedina</td>\n",
       "      <td>0</td>\n",
       "      <td>3df4e7c2-6cdf-473e-a488-8cd179f1894b</td>\n",
       "      <td>2022-09-24 03:52:10.139</td>\n",
       "      <td>2022-09-24 03:52:28.495</td>\n",
       "      <td>2022-09-24 03:52:28.496</td>\n",
       "      <td>NaN</td>\n",
       "      <td>NaN</td>\n",
       "      <td>NaN</td>\n",
       "      <td>0</td>\n",
       "      <td>NaN</td>\n",
       "    </tr>\n",
       "    <tr>\n",
       "      <th>841</th>\n",
       "      <td>015f84b1-ad12-4121-9fa1-df729365effb</td>\n",
       "      <td>SS01</td>\n",
       "      <td>0</td>\n",
       "      <td>825d52eb-d56e-4f8b-acc6-d465525a29bd</td>\n",
       "      <td>2023-04-20 07:51:49.107</td>\n",
       "      <td>2023-04-20 07:52:11.101</td>\n",
       "      <td>2023-04-20 07:52:11.103</td>\n",
       "      <td>NaN</td>\n",
       "      <td>NaN</td>\n",
       "      <td>NaN</td>\n",
       "      <td>0</td>\n",
       "      <td>NaN</td>\n",
       "    </tr>\n",
       "    <tr>\n",
       "      <th>842</th>\n",
       "      <td>015e77b0-8bec-4146-b2de-547510491752</td>\n",
       "      <td>Titi</td>\n",
       "      <td>1234</td>\n",
       "      <td>39454c26-c097-4a3a-bce5-13b4ec554394</td>\n",
       "      <td>2016-01-02 15:10:33</td>\n",
       "      <td>2023-03-01 15:11:00.474</td>\n",
       "      <td>2023-03-01 15:11:00.475</td>\n",
       "      <td>NaN</td>\n",
       "      <td>NaN</td>\n",
       "      <td>NaN</td>\n",
       "      <td>0</td>\n",
       "      <td>NaN</td>\n",
       "    </tr>\n",
       "    <tr>\n",
       "      <th>843</th>\n",
       "      <td>00c00a30-1d6c-4c46-aea2-cb34084d8ae7</td>\n",
       "      <td>bill00</td>\n",
       "      <td>0</td>\n",
       "      <td>37bb03f1-6767-4f8c-af11-e8c095d6894c</td>\n",
       "      <td>2010-07-27 05:31:17</td>\n",
       "      <td>2022-08-08 05:31:56.094</td>\n",
       "      <td>2022-08-22 08:40:54.946</td>\n",
       "      <td>NaN</td>\n",
       "      <td>NaN</td>\n",
       "      <td>NaN</td>\n",
       "      <td>110</td>\n",
       "      <td>{\"body\": {\"id\": \"57d04d86-b354-40e0-bc8c-e038e...</td>\n",
       "    </tr>\n",
       "  </tbody>\n",
       "</table>\n",
       "<p>844 rows × 12 columns</p>\n",
       "</div>"
      ]
     },
     "execution_count": 57,
     "metadata": {},
     "output_type": "execute_result"
    }
   ],
   "source": [
    "# students = pd.read_csv('data/01_raw/Students.csv', error_bad_lines=False)\n",
    "# students\n",
    "students = pd.read_excel('data/01_raw/Student.xlsx')\n",
    "students"
   ]
  },
  {
   "cell_type": "code",
   "execution_count": 25,
   "metadata": {},
   "outputs": [
    {
     "data": {
      "text/html": [
       "<pre style=\"white-space:pre;overflow-x:auto;line-height:normal;font-family:Menlo,'DejaVu Sans Mono',consolas,'Courier New',monospace\"><span style=\"color: #800000; text-decoration-color: #800000\">╭─────────────────────────────── </span><span style=\"color: #800000; text-decoration-color: #800000; font-weight: bold\">Traceback </span><span style=\"color: #bf7f7f; text-decoration-color: #bf7f7f; font-weight: bold\">(most recent call last)</span><span style=\"color: #800000; text-decoration-color: #800000\"> ────────────────────────────────╮</span>\n",
       "<span style=\"color: #800000; text-decoration-color: #800000\">│</span> <span style=\"color: #808000; text-decoration-color: #808000\">C:\\Users\\hp\\AppData\\Local\\Temp\\ipykernel_7172\\3553681810.py</span>:<span style=\"color: #0000ff; text-decoration-color: #0000ff\">1</span> in <span style=\"color: #00ff00; text-decoration-color: #00ff00\">&lt;cell line: 1&gt;</span>                  <span style=\"color: #800000; text-decoration-color: #800000\">│</span>\n",
       "<span style=\"color: #800000; text-decoration-color: #800000\">│</span>                                                                                                  <span style=\"color: #800000; text-decoration-color: #800000\">│</span>\n",
       "<span style=\"color: #800000; text-decoration-color: #800000\">│</span> <span style=\"color: #800000; text-decoration-color: #800000; font-style: italic\">[Errno 2] No such file or directory: </span>                                                            <span style=\"color: #800000; text-decoration-color: #800000\">│</span>\n",
       "<span style=\"color: #800000; text-decoration-color: #800000\">│</span> <span style=\"color: #800000; text-decoration-color: #800000; font-style: italic\">'C:\\\\Users\\\\hp\\\\AppData\\\\Local\\\\Temp\\\\ipykernel_7172\\\\3553681810.py'</span>                             <span style=\"color: #800000; text-decoration-color: #800000\">│</span>\n",
       "<span style=\"color: #800000; text-decoration-color: #800000\">╰──────────────────────────────────────────────────────────────────────────────────────────────────╯</span>\n",
       "<span style=\"color: #ff0000; text-decoration-color: #ff0000; font-weight: bold\">NameError: </span>name <span style=\"color: #008000; text-decoration-color: #008000\">'students'</span> is not defined\n",
       "</pre>\n"
      ],
      "text/plain": [
       "\u001b[31m╭─\u001b[0m\u001b[31m──────────────────────────────\u001b[0m\u001b[31m \u001b[0m\u001b[1;31mTraceback \u001b[0m\u001b[1;2;31m(most recent call last)\u001b[0m\u001b[31m \u001b[0m\u001b[31m───────────────────────────────\u001b[0m\u001b[31m─╮\u001b[0m\n",
       "\u001b[31m│\u001b[0m \u001b[33mC:\\Users\\hp\\AppData\\Local\\Temp\\ipykernel_7172\\3553681810.py\u001b[0m:\u001b[94m1\u001b[0m in \u001b[92m<cell line: 1>\u001b[0m                  \u001b[31m│\u001b[0m\n",
       "\u001b[31m│\u001b[0m                                                                                                  \u001b[31m│\u001b[0m\n",
       "\u001b[31m│\u001b[0m \u001b[3;31m[Errno 2] No such file or directory: \u001b[0m                                                            \u001b[31m│\u001b[0m\n",
       "\u001b[31m│\u001b[0m \u001b[3;31m'C:\\\\Users\\\\hp\\\\AppData\\\\Local\\\\Temp\\\\ipykernel_7172\\\\3553681810.py'\u001b[0m                             \u001b[31m│\u001b[0m\n",
       "\u001b[31m╰──────────────────────────────────────────────────────────────────────────────────────────────────╯\u001b[0m\n",
       "\u001b[1;91mNameError: \u001b[0mname \u001b[32m'students'\u001b[0m is not defined\n"
      ]
     },
     "metadata": {},
     "output_type": "display_data"
    }
   ],
   "source": [
    "students['updatedAt'] = pd.to_datetime(students['updatedAt'])\n",
    "students['createdAt'] = pd.to_datetime(students['createdAt'])"
   ]
  },
  {
   "cell_type": "code",
   "execution_count": 59,
   "metadata": {},
   "outputs": [
    {
     "data": {
      "text/html": [
       "<div>\n",
       "<style scoped>\n",
       "    .dataframe tbody tr th:only-of-type {\n",
       "        vertical-align: middle;\n",
       "    }\n",
       "\n",
       "    .dataframe tbody tr th {\n",
       "        vertical-align: top;\n",
       "    }\n",
       "\n",
       "    .dataframe thead th {\n",
       "        text-align: right;\n",
       "    }\n",
       "</style>\n",
       "<table border=\"1\" class=\"dataframe\">\n",
       "  <thead>\n",
       "    <tr style=\"text-align: right;\">\n",
       "      <th></th>\n",
       "      <th>id</th>\n",
       "      <th>username</th>\n",
       "      <th>loginPattern</th>\n",
       "      <th>parentId</th>\n",
       "      <th>birthDate</th>\n",
       "      <th>createdAt</th>\n",
       "      <th>updatedAt</th>\n",
       "      <th>bio</th>\n",
       "      <th>email</th>\n",
       "      <th>avatarImageId</th>\n",
       "      <th>EXP</th>\n",
       "      <th>newAvatar</th>\n",
       "    </tr>\n",
       "  </thead>\n",
       "  <tbody>\n",
       "    <tr>\n",
       "      <th>20</th>\n",
       "      <td>fa205163-c838-407a-8d76-a99bce2b3c1b</td>\n",
       "      <td>aye1</td>\n",
       "      <td>0</td>\n",
       "      <td>32bfc046-ee8d-48a6-b13e-3e17b1f49725</td>\n",
       "      <td>2023-04-08 04:45:41.022</td>\n",
       "      <td>2023-04-08 04:45:49.290</td>\n",
       "      <td>2023-04-08 04:45:49.292</td>\n",
       "      <td>NaN</td>\n",
       "      <td>NaN</td>\n",
       "      <td>NaN</td>\n",
       "      <td>0</td>\n",
       "      <td>NaN</td>\n",
       "    </tr>\n",
       "    <tr>\n",
       "      <th>31</th>\n",
       "      <td>f61c3874-baea-4afe-868f-5f4e0bbe42c9</td>\n",
       "      <td>caroly</td>\n",
       "      <td>0</td>\n",
       "      <td>5fda35cf-b0f6-4823-bb03-fb48dfb63ada</td>\n",
       "      <td>2013-07-26 15:01:32</td>\n",
       "      <td>2023-04-04 15:02:21.363</td>\n",
       "      <td>2023-05-16 08:31:29.673</td>\n",
       "      <td>NaN</td>\n",
       "      <td>NaN</td>\n",
       "      <td>5a03595a-4dbc-4250-8ef2-2fc615d57d7c</td>\n",
       "      <td>4660</td>\n",
       "      <td>{\"pet\": {\"id\": \"3a0257d3-e55d-45c6-94f1-962b46...</td>\n",
       "    </tr>\n",
       "    <tr>\n",
       "      <th>57</th>\n",
       "      <td>eb6b0720-e712-4b06-848a-2ec1b7aa4218</td>\n",
       "      <td>miyaz</td>\n",
       "      <td>0</td>\n",
       "      <td>5fda35cf-b0f6-4823-bb03-fb48dfb63ada</td>\n",
       "      <td>2015-08-28 15:02:23</td>\n",
       "      <td>2023-04-04 15:04:30.965</td>\n",
       "      <td>2023-05-16 08:29:17.501</td>\n",
       "      <td>NaN</td>\n",
       "      <td>NaN</td>\n",
       "      <td>f2fab51a-d5af-48e1-b3d5-82a15ce674b9</td>\n",
       "      <td>3910</td>\n",
       "      <td>{\"pet\": {\"id\": \"9ca20019-1d5a-41a7-bc46-d5cf61...</td>\n",
       "    </tr>\n",
       "    <tr>\n",
       "      <th>61</th>\n",
       "      <td>eab53f35-9ba6-479c-afdb-f2444339b011</td>\n",
       "      <td>ispp1</td>\n",
       "      <td>0</td>\n",
       "      <td>68ea2dd4-5442-487c-a504-cc5a6dfd1d1d</td>\n",
       "      <td>2023-04-11 05:56:40.595</td>\n",
       "      <td>2023-04-11 05:56:50.784</td>\n",
       "      <td>2023-04-11 05:56:50.785</td>\n",
       "      <td>NaN</td>\n",
       "      <td>NaN</td>\n",
       "      <td>NaN</td>\n",
       "      <td>0</td>\n",
       "      <td>NaN</td>\n",
       "    </tr>\n",
       "    <tr>\n",
       "      <th>71</th>\n",
       "      <td>e7618c90-827f-463e-8139-c35607b6971f</td>\n",
       "      <td>key1</td>\n",
       "      <td>0</td>\n",
       "      <td>9f0487af-b61d-45ee-b3d7-41f1c4e1b18b</td>\n",
       "      <td>2023-04-11 05:53:49.073</td>\n",
       "      <td>2023-04-11 05:54:05.348</td>\n",
       "      <td>2023-04-11 05:54:05.349</td>\n",
       "      <td>NaN</td>\n",
       "      <td>NaN</td>\n",
       "      <td>NaN</td>\n",
       "      <td>0</td>\n",
       "      <td>NaN</td>\n",
       "    </tr>\n",
       "    <tr>\n",
       "      <th>...</th>\n",
       "      <td>...</td>\n",
       "      <td>...</td>\n",
       "      <td>...</td>\n",
       "      <td>...</td>\n",
       "      <td>...</td>\n",
       "      <td>...</td>\n",
       "      <td>...</td>\n",
       "      <td>...</td>\n",
       "      <td>...</td>\n",
       "      <td>...</td>\n",
       "      <td>...</td>\n",
       "      <td>...</td>\n",
       "    </tr>\n",
       "    <tr>\n",
       "      <th>810</th>\n",
       "      <td>07afaf6c-7c22-47d6-8d08-15bfbc1aad2a</td>\n",
       "      <td>gis3</td>\n",
       "      <td>0</td>\n",
       "      <td>06b3e0e8-7dd9-4c3f-a78d-6a9f32310212</td>\n",
       "      <td>2023-04-12 01:30:30.381</td>\n",
       "      <td>2023-04-12 01:30:37.041</td>\n",
       "      <td>2023-04-12 01:30:37.042</td>\n",
       "      <td>NaN</td>\n",
       "      <td>NaN</td>\n",
       "      <td>NaN</td>\n",
       "      <td>0</td>\n",
       "      <td>NaN</td>\n",
       "    </tr>\n",
       "    <tr>\n",
       "      <th>820</th>\n",
       "      <td>05c3dc4e-203b-4b5d-b85a-65e09dcd924b</td>\n",
       "      <td>SS04</td>\n",
       "      <td>0</td>\n",
       "      <td>b7c41aef-97ff-4397-9f7e-11004138bd89</td>\n",
       "      <td>2023-04-20 07:57:53.473</td>\n",
       "      <td>2023-04-20 07:58:06.303</td>\n",
       "      <td>2023-04-20 07:58:06.304</td>\n",
       "      <td>NaN</td>\n",
       "      <td>NaN</td>\n",
       "      <td>NaN</td>\n",
       "      <td>0</td>\n",
       "      <td>NaN</td>\n",
       "    </tr>\n",
       "    <tr>\n",
       "      <th>832</th>\n",
       "      <td>032e877c-8b77-4c5d-bd68-bed362adcd03</td>\n",
       "      <td>sppc2</td>\n",
       "      <td>0</td>\n",
       "      <td>98669d81-0476-40fe-89ba-1066903cb36c</td>\n",
       "      <td>2023-04-08 04:39:41.47</td>\n",
       "      <td>2023-04-08 04:39:57.221</td>\n",
       "      <td>2023-04-08 04:39:57.223</td>\n",
       "      <td>NaN</td>\n",
       "      <td>NaN</td>\n",
       "      <td>NaN</td>\n",
       "      <td>0</td>\n",
       "      <td>NaN</td>\n",
       "    </tr>\n",
       "    <tr>\n",
       "      <th>837</th>\n",
       "      <td>02265f96-2eda-4b00-915c-0c984c9bdae4</td>\n",
       "      <td>yueyun_lu</td>\n",
       "      <td>0</td>\n",
       "      <td>5fda35cf-b0f6-4823-bb03-fb48dfb63ada</td>\n",
       "      <td>2014-06-21 05:06:59</td>\n",
       "      <td>2022-10-17 05:07:15.958</td>\n",
       "      <td>2023-04-07 03:59:33.227</td>\n",
       "      <td>NaN</td>\n",
       "      <td>NaN</td>\n",
       "      <td>db498790-21ca-4e34-be50-0c7365270b5b</td>\n",
       "      <td>14860</td>\n",
       "      <td>{\"pet\": {\"id\": \"d9dd44a2-ebb7-41f0-90eb-66906c...</td>\n",
       "    </tr>\n",
       "    <tr>\n",
       "      <th>841</th>\n",
       "      <td>015f84b1-ad12-4121-9fa1-df729365effb</td>\n",
       "      <td>SS01</td>\n",
       "      <td>0</td>\n",
       "      <td>825d52eb-d56e-4f8b-acc6-d465525a29bd</td>\n",
       "      <td>2023-04-20 07:51:49.107</td>\n",
       "      <td>2023-04-20 07:52:11.101</td>\n",
       "      <td>2023-04-20 07:52:11.103</td>\n",
       "      <td>NaN</td>\n",
       "      <td>NaN</td>\n",
       "      <td>NaN</td>\n",
       "      <td>0</td>\n",
       "      <td>NaN</td>\n",
       "    </tr>\n",
       "  </tbody>\n",
       "</table>\n",
       "<p>69 rows × 12 columns</p>\n",
       "</div>"
      ]
     },
     "execution_count": 59,
     "metadata": {},
     "output_type": "execute_result"
    }
   ],
   "source": [
    "students_last30 = students[students['updatedAt'] >= '2023-04-01']\n",
    "# remove test\n",
    "students_last30 = students_last30[students_last30['username'] != 'Test']\n",
    "len(students_last30.id.unique())\n",
    "students_last30"
   ]
  },
  {
   "cell_type": "code",
   "execution_count": 74,
   "metadata": {},
   "outputs": [
    {
     "data": {
      "text/html": [
       "<div>\n",
       "<style scoped>\n",
       "    .dataframe tbody tr th:only-of-type {\n",
       "        vertical-align: middle;\n",
       "    }\n",
       "\n",
       "    .dataframe tbody tr th {\n",
       "        vertical-align: top;\n",
       "    }\n",
       "\n",
       "    .dataframe thead th {\n",
       "        text-align: right;\n",
       "    }\n",
       "</style>\n",
       "<table border=\"1\" class=\"dataframe\">\n",
       "  <thead>\n",
       "    <tr style=\"text-align: right;\">\n",
       "      <th></th>\n",
       "      <th>id</th>\n",
       "      <th>username</th>\n",
       "      <th>parentId</th>\n",
       "    </tr>\n",
       "  </thead>\n",
       "  <tbody>\n",
       "    <tr>\n",
       "      <th>0</th>\n",
       "      <td>fa205163-c838-407a-8d76-a99bce2b3c1b</td>\n",
       "      <td>aye1</td>\n",
       "      <td>32bfc046-ee8d-48a6-b13e-3e17b1f49725</td>\n",
       "    </tr>\n",
       "    <tr>\n",
       "      <th>1</th>\n",
       "      <td>f61c3874-baea-4afe-868f-5f4e0bbe42c9</td>\n",
       "      <td>caroly</td>\n",
       "      <td>5fda35cf-b0f6-4823-bb03-fb48dfb63ada</td>\n",
       "    </tr>\n",
       "    <tr>\n",
       "      <th>2</th>\n",
       "      <td>eb6b0720-e712-4b06-848a-2ec1b7aa4218</td>\n",
       "      <td>miyaz</td>\n",
       "      <td>5fda35cf-b0f6-4823-bb03-fb48dfb63ada</td>\n",
       "    </tr>\n",
       "    <tr>\n",
       "      <th>3</th>\n",
       "      <td>eab53f35-9ba6-479c-afdb-f2444339b011</td>\n",
       "      <td>ispp1</td>\n",
       "      <td>68ea2dd4-5442-487c-a504-cc5a6dfd1d1d</td>\n",
       "    </tr>\n",
       "    <tr>\n",
       "      <th>4</th>\n",
       "      <td>e7618c90-827f-463e-8139-c35607b6971f</td>\n",
       "      <td>key1</td>\n",
       "      <td>9f0487af-b61d-45ee-b3d7-41f1c4e1b18b</td>\n",
       "    </tr>\n",
       "    <tr>\n",
       "      <th>...</th>\n",
       "      <td>...</td>\n",
       "      <td>...</td>\n",
       "      <td>...</td>\n",
       "    </tr>\n",
       "    <tr>\n",
       "      <th>64</th>\n",
       "      <td>07afaf6c-7c22-47d6-8d08-15bfbc1aad2a</td>\n",
       "      <td>gis3</td>\n",
       "      <td>06b3e0e8-7dd9-4c3f-a78d-6a9f32310212</td>\n",
       "    </tr>\n",
       "    <tr>\n",
       "      <th>65</th>\n",
       "      <td>05c3dc4e-203b-4b5d-b85a-65e09dcd924b</td>\n",
       "      <td>SS04</td>\n",
       "      <td>b7c41aef-97ff-4397-9f7e-11004138bd89</td>\n",
       "    </tr>\n",
       "    <tr>\n",
       "      <th>66</th>\n",
       "      <td>032e877c-8b77-4c5d-bd68-bed362adcd03</td>\n",
       "      <td>sppc2</td>\n",
       "      <td>98669d81-0476-40fe-89ba-1066903cb36c</td>\n",
       "    </tr>\n",
       "    <tr>\n",
       "      <th>67</th>\n",
       "      <td>02265f96-2eda-4b00-915c-0c984c9bdae4</td>\n",
       "      <td>yueyun_lu</td>\n",
       "      <td>5fda35cf-b0f6-4823-bb03-fb48dfb63ada</td>\n",
       "    </tr>\n",
       "    <tr>\n",
       "      <th>68</th>\n",
       "      <td>015f84b1-ad12-4121-9fa1-df729365effb</td>\n",
       "      <td>SS01</td>\n",
       "      <td>825d52eb-d56e-4f8b-acc6-d465525a29bd</td>\n",
       "    </tr>\n",
       "  </tbody>\n",
       "</table>\n",
       "<p>69 rows × 3 columns</p>\n",
       "</div>"
      ]
     },
     "execution_count": 74,
     "metadata": {},
     "output_type": "execute_result"
    }
   ],
   "source": [
    "# Filter ID, email\n",
    "students_last30 = students_last30.filter(items = ['id', 'username', 'parentId'])\n",
    "students_last30 = students_last30.reset_index(drop=True)\n",
    "\n",
    "parentid = students_last30.parentId.unique().tolist()\n",
    "students_last30"
   ]
  },
  {
   "attachments": {},
   "cell_type": "markdown",
   "metadata": {},
   "source": [
    "## Parent"
   ]
  },
  {
   "cell_type": "code",
   "execution_count": 88,
   "metadata": {},
   "outputs": [
    {
     "data": {
      "text/html": [
       "<div>\n",
       "<style scoped>\n",
       "    .dataframe tbody tr th:only-of-type {\n",
       "        vertical-align: middle;\n",
       "    }\n",
       "\n",
       "    .dataframe tbody tr th {\n",
       "        vertical-align: top;\n",
       "    }\n",
       "\n",
       "    .dataframe thead th {\n",
       "        text-align: right;\n",
       "    }\n",
       "</style>\n",
       "<table border=\"1\" class=\"dataframe\">\n",
       "  <thead>\n",
       "    <tr style=\"text-align: right;\">\n",
       "      <th></th>\n",
       "      <th>parent_email</th>\n",
       "      <th>parentId</th>\n",
       "      <th>status</th>\n",
       "    </tr>\n",
       "  </thead>\n",
       "  <tbody>\n",
       "    <tr>\n",
       "      <th>0</th>\n",
       "      <td>liteen.gong@ssm-fc.org</td>\n",
       "      <td>f747d53e-22f2-4b2d-b41c-dd0ddfae1aa3</td>\n",
       "      <td>UNVERIFIED</td>\n",
       "    </tr>\n",
       "    <tr>\n",
       "      <th>1</th>\n",
       "      <td>joyce.cowden@bloom.edu.hk</td>\n",
       "      <td>f211b1ef-ea5d-45b3-a6b4-5ffacea00207</td>\n",
       "      <td>UNVERIFIED</td>\n",
       "    </tr>\n",
       "    <tr>\n",
       "      <th>2</th>\n",
       "      <td>eenstone@dshk.edu.hk</td>\n",
       "      <td>f0f242e1-e336-4fe4-8231-64f594409ff3</td>\n",
       "      <td>UNVERIFIED</td>\n",
       "    </tr>\n",
       "    <tr>\n",
       "      <th>3</th>\n",
       "      <td>rosarioj@gsis.sc.kr</td>\n",
       "      <td>e91f8258-0ea2-428c-bfc5-d0b6152bcc53</td>\n",
       "      <td>VERIFIED</td>\n",
       "    </tr>\n",
       "    <tr>\n",
       "      <th>4</th>\n",
       "      <td>andrina@coreka.co</td>\n",
       "      <td>e6d70149-0e43-4859-b8c6-746d10a2b592</td>\n",
       "      <td>VERIFIED</td>\n",
       "    </tr>\n",
       "  </tbody>\n",
       "</table>\n",
       "</div>"
      ]
     },
     "execution_count": 88,
     "metadata": {},
     "output_type": "execute_result"
    }
   ],
   "source": [
    "parent = pd.read_excel('data/01_raw/Parent.xlsx')\n",
    "parent_last30 = parent[parent['id'].isin(parentid)].reset_index(drop=True)\n",
    "parent_last30 = parent_last30.rename(columns={'email':'parent_email', \n",
    "                                              'id': 'parentId'}).\\\n",
    "                                                filter(items=['parent_email', 'parentId', 'status'])\n",
    "parent_last30.head()"
   ]
  },
  {
   "attachments": {},
   "cell_type": "markdown",
   "metadata": {},
   "source": [
    "## Merging Final DF"
   ]
  },
  {
   "cell_type": "code",
   "execution_count": 89,
   "metadata": {},
   "outputs": [],
   "source": [
    "# Merge User Name First Name Last Name Email\n",
    "students_merged = pd.concat([username_last30.set_index('id'), students_last30.set_index('id')], axis=1)\n",
    "students_merged = students_merged.reset_index(drop=False).rename(columns = {'id':'student_id'})\n",
    "students_merged = students_merged.set_index('parentId')\n",
    "# Merge Parent with Students\n",
    "parent_last30 = parent_last30.set_index('parentId')\n",
    "# final_df = pd.concat([students_merged.set_index('parentId'), parent_last30.set_index('parentId')], axis=1, join='outer')\n"
   ]
  },
  {
   "cell_type": "code",
   "execution_count": 91,
   "metadata": {},
   "outputs": [
    {
     "data": {
      "text/html": [
       "<div>\n",
       "<style scoped>\n",
       "    .dataframe tbody tr th:only-of-type {\n",
       "        vertical-align: middle;\n",
       "    }\n",
       "\n",
       "    .dataframe tbody tr th {\n",
       "        vertical-align: top;\n",
       "    }\n",
       "\n",
       "    .dataframe thead th {\n",
       "        text-align: right;\n",
       "    }\n",
       "</style>\n",
       "<table border=\"1\" class=\"dataframe\">\n",
       "  <thead>\n",
       "    <tr style=\"text-align: right;\">\n",
       "      <th></th>\n",
       "      <th>student_id</th>\n",
       "      <th>firstName</th>\n",
       "      <th>lastName</th>\n",
       "      <th>username</th>\n",
       "      <th>parent_email</th>\n",
       "      <th>status</th>\n",
       "    </tr>\n",
       "    <tr>\n",
       "      <th>parentId</th>\n",
       "      <th></th>\n",
       "      <th></th>\n",
       "      <th></th>\n",
       "      <th></th>\n",
       "      <th></th>\n",
       "      <th></th>\n",
       "    </tr>\n",
       "  </thead>\n",
       "  <tbody>\n",
       "    <tr>\n",
       "      <th>5fb34b86-cd21-4cc5-a0d6-190903b9663a</th>\n",
       "      <td>902c2a50-bdf9-47b0-853a-3105e5dcb543</td>\n",
       "      <td>Lever</td>\n",
       "      <td>1</td>\n",
       "      <td>Lever1</td>\n",
       "      <td>thao.pt@lever.edu.vn</td>\n",
       "      <td>UNVERIFIED</td>\n",
       "    </tr>\n",
       "    <tr>\n",
       "      <th>5fda35cf-b0f6-4823-bb03-fb48dfb63ada</th>\n",
       "      <td>eb6b0720-e712-4b06-848a-2ec1b7aa4218</td>\n",
       "      <td>Miya</td>\n",
       "      <td>Zheng</td>\n",
       "      <td>miyaz</td>\n",
       "      <td>erik.blees@isnsz.com</td>\n",
       "      <td>VERIFIED</td>\n",
       "    </tr>\n",
       "    <tr>\n",
       "      <th>5fda35cf-b0f6-4823-bb03-fb48dfb63ada</th>\n",
       "      <td>d165b29e-fa49-4847-8b28-3dbc2771ef0a</td>\n",
       "      <td>Winnie</td>\n",
       "      <td>Weng</td>\n",
       "      <td>winniew</td>\n",
       "      <td>erik.blees@isnsz.com</td>\n",
       "      <td>VERIFIED</td>\n",
       "    </tr>\n",
       "    <tr>\n",
       "      <th>5fda35cf-b0f6-4823-bb03-fb48dfb63ada</th>\n",
       "      <td>cd9a73f7-f463-4bc5-91d6-21bc7bccd119</td>\n",
       "      <td>Kayla</td>\n",
       "      <td>Li</td>\n",
       "      <td>kaylali</td>\n",
       "      <td>erik.blees@isnsz.com</td>\n",
       "      <td>VERIFIED</td>\n",
       "    </tr>\n",
       "    <tr>\n",
       "      <th>5fda35cf-b0f6-4823-bb03-fb48dfb63ada</th>\n",
       "      <td>9e716d96-9031-45a6-bf4e-3510aeb63e53</td>\n",
       "      <td>Chloe</td>\n",
       "      <td>Wang</td>\n",
       "      <td>chloew</td>\n",
       "      <td>erik.blees@isnsz.com</td>\n",
       "      <td>VERIFIED</td>\n",
       "    </tr>\n",
       "    <tr>\n",
       "      <th>5fda35cf-b0f6-4823-bb03-fb48dfb63ada</th>\n",
       "      <td>9d7f8429-f941-42c7-8e3c-97a20d098517</td>\n",
       "      <td>Jeff</td>\n",
       "      <td>Hui</td>\n",
       "      <td>jeffh</td>\n",
       "      <td>erik.blees@isnsz.com</td>\n",
       "      <td>VERIFIED</td>\n",
       "    </tr>\n",
       "    <tr>\n",
       "      <th>5fda35cf-b0f6-4823-bb03-fb48dfb63ada</th>\n",
       "      <td>9916349d-c849-482d-a6af-f02e4f0c5130</td>\n",
       "      <td>Jacy</td>\n",
       "      <td>Huang</td>\n",
       "      <td>jacyh</td>\n",
       "      <td>erik.blees@isnsz.com</td>\n",
       "      <td>VERIFIED</td>\n",
       "    </tr>\n",
       "    <tr>\n",
       "      <th>5fda35cf-b0f6-4823-bb03-fb48dfb63ada</th>\n",
       "      <td>644c6678-d3f1-429d-a266-4c9c1e380570</td>\n",
       "      <td>Jacqueline</td>\n",
       "      <td>Yang</td>\n",
       "      <td>jacqy</td>\n",
       "      <td>erik.blees@isnsz.com</td>\n",
       "      <td>VERIFIED</td>\n",
       "    </tr>\n",
       "    <tr>\n",
       "      <th>5fda35cf-b0f6-4823-bb03-fb48dfb63ada</th>\n",
       "      <td>6200a5fe-f48c-4f8e-8444-2618cf022336</td>\n",
       "      <td>Harrison</td>\n",
       "      <td>Qin</td>\n",
       "      <td>harriq</td>\n",
       "      <td>erik.blees@isnsz.com</td>\n",
       "      <td>VERIFIED</td>\n",
       "    </tr>\n",
       "    <tr>\n",
       "      <th>5fda35cf-b0f6-4823-bb03-fb48dfb63ada</th>\n",
       "      <td>4486b32f-3c66-447e-9621-772b66dd01a2</td>\n",
       "      <td>Martin</td>\n",
       "      <td>Ma</td>\n",
       "      <td>martinm</td>\n",
       "      <td>erik.blees@isnsz.com</td>\n",
       "      <td>VERIFIED</td>\n",
       "    </tr>\n",
       "    <tr>\n",
       "      <th>5fda35cf-b0f6-4823-bb03-fb48dfb63ada</th>\n",
       "      <td>3c66389a-c546-4c2d-b4a6-cb3c08646142</td>\n",
       "      <td>Christina</td>\n",
       "      <td>Qin</td>\n",
       "      <td>chrisq</td>\n",
       "      <td>erik.blees@isnsz.com</td>\n",
       "      <td>VERIFIED</td>\n",
       "    </tr>\n",
       "    <tr>\n",
       "      <th>5fda35cf-b0f6-4823-bb03-fb48dfb63ada</th>\n",
       "      <td>02265f96-2eda-4b00-915c-0c984c9bdae4</td>\n",
       "      <td>Yueyun</td>\n",
       "      <td>Lu</td>\n",
       "      <td>yueyun_lu</td>\n",
       "      <td>erik.blees@isnsz.com</td>\n",
       "      <td>VERIFIED</td>\n",
       "    </tr>\n",
       "    <tr>\n",
       "      <th>825d52eb-d56e-4f8b-acc6-d465525a29bd</th>\n",
       "      <td>015f84b1-ad12-4121-9fa1-df729365effb</td>\n",
       "      <td>ISS</td>\n",
       "      <td>1</td>\n",
       "      <td>SS01</td>\n",
       "      <td>hguo@iss.edu</td>\n",
       "      <td>UNVERIFIED</td>\n",
       "    </tr>\n",
       "    <tr>\n",
       "      <th>b7c41aef-97ff-4397-9f7e-11004138bd89</th>\n",
       "      <td>05c3dc4e-203b-4b5d-b85a-65e09dcd924b</td>\n",
       "      <td>ISS</td>\n",
       "      <td>4</td>\n",
       "      <td>SS04</td>\n",
       "      <td>jortiz@iss.edu</td>\n",
       "      <td>VERIFIED</td>\n",
       "    </tr>\n",
       "  </tbody>\n",
       "</table>\n",
       "</div>"
      ]
     },
     "execution_count": 91,
     "metadata": {},
     "output_type": "execute_result"
    }
   ],
   "source": [
    "final_df =  pd.merge(students_merged, parent_last30, left_index=True, right_index=True)\n",
    "final_df[final_df.index.duplicated()]"
   ]
  },
  {
   "cell_type": "code",
   "execution_count": 93,
   "metadata": {},
   "outputs": [],
   "source": [
    "final_df.to_excel('data/02_intermediate/UsernamesParentEmail_AprMay23.xlsx')"
   ]
  },
  {
   "attachments": {},
   "cell_type": "markdown",
   "metadata": {},
   "source": [
    "## Distribution"
   ]
  },
  {
   "attachments": {},
   "cell_type": "markdown",
   "metadata": {},
   "source": [
    "## User"
   ]
  },
  {
   "cell_type": "code",
   "execution_count": null,
   "metadata": {},
   "outputs": [],
   "source": [
    "user = pd.read_csv('data/01_raw/User.csv')\n",
    "user.head()"
   ]
  },
  {
   "cell_type": "code",
   "execution_count": null,
   "metadata": {},
   "outputs": [],
   "source": [
    "user['updatedAt'] = pd.to_datetime(user['updatedAt'], format='%d/%m/%Y %H:%M')\n",
    "# user['createdAt'] = pd.to_datetime(user['createdAt'], format='%d/%m/%Y')"
   ]
  },
  {
   "cell_type": "code",
   "execution_count": 38,
   "metadata": {},
   "outputs": [
    {
     "data": {
      "text/html": [
       "<pre style=\"white-space:pre;overflow-x:auto;line-height:normal;font-family:Menlo,'DejaVu Sans Mono',consolas,'Courier New',monospace\"><span style=\"color: #800000; text-decoration-color: #800000\">╭─────────────────────────────── </span><span style=\"color: #800000; text-decoration-color: #800000; font-weight: bold\">Traceback </span><span style=\"color: #bf7f7f; text-decoration-color: #bf7f7f; font-weight: bold\">(most recent call last)</span><span style=\"color: #800000; text-decoration-color: #800000\"> ────────────────────────────────╮</span>\n",
       "<span style=\"color: #800000; text-decoration-color: #800000\">│</span> <span style=\"color: #808000; text-decoration-color: #808000\">C:\\Users\\crystallwi.xiaujing\\AppData\\Local\\Temp\\ipykernel_21996\\3114733456.py</span>:<span style=\"color: #0000ff; text-decoration-color: #0000ff\">1</span> in <span style=\"color: #00ff00; text-decoration-color: #00ff00\">&lt;cell line: </span>  <span style=\"color: #800000; text-decoration-color: #800000\">│</span>\n",
       "<span style=\"color: #800000; text-decoration-color: #800000\">│</span> <span style=\"color: #00ff00; text-decoration-color: #00ff00\">1&gt;</span>                                                                                               <span style=\"color: #800000; text-decoration-color: #800000\">│</span>\n",
       "<span style=\"color: #800000; text-decoration-color: #800000\">│</span>                                                                                                  <span style=\"color: #800000; text-decoration-color: #800000\">│</span>\n",
       "<span style=\"color: #800000; text-decoration-color: #800000\">│</span> <span style=\"color: #800000; text-decoration-color: #800000; font-style: italic\">[Errno 2] No such file or directory: </span>                                                            <span style=\"color: #800000; text-decoration-color: #800000\">│</span>\n",
       "<span style=\"color: #800000; text-decoration-color: #800000\">│</span> <span style=\"color: #800000; text-decoration-color: #800000; font-style: italic\">'C:\\\\Users\\\\crystallwi.xiaujing\\\\AppData\\\\Local\\\\Temp\\\\ipykernel_21996\\\\3114733456.py'</span>           <span style=\"color: #800000; text-decoration-color: #800000\">│</span>\n",
       "<span style=\"color: #800000; text-decoration-color: #800000\">╰──────────────────────────────────────────────────────────────────────────────────────────────────╯</span>\n",
       "<span style=\"color: #ff0000; text-decoration-color: #ff0000; font-weight: bold\">NameError: </span>name <span style=\"color: #008000; text-decoration-color: #008000\">'user'</span> is not defined\n",
       "</pre>\n"
      ],
      "text/plain": [
       "\u001b[31m╭─\u001b[0m\u001b[31m──────────────────────────────\u001b[0m\u001b[31m \u001b[0m\u001b[1;31mTraceback \u001b[0m\u001b[1;2;31m(most recent call last)\u001b[0m\u001b[31m \u001b[0m\u001b[31m───────────────────────────────\u001b[0m\u001b[31m─╮\u001b[0m\n",
       "\u001b[31m│\u001b[0m \u001b[33mC:\\Users\\crystallwi.xiaujing\\AppData\\Local\\Temp\\ipykernel_21996\\3114733456.py\u001b[0m:\u001b[94m1\u001b[0m in \u001b[92m<cell line: \u001b[0m  \u001b[31m│\u001b[0m\n",
       "\u001b[31m│\u001b[0m \u001b[92m1>\u001b[0m                                                                                               \u001b[31m│\u001b[0m\n",
       "\u001b[31m│\u001b[0m                                                                                                  \u001b[31m│\u001b[0m\n",
       "\u001b[31m│\u001b[0m \u001b[3;31m[Errno 2] No such file or directory: \u001b[0m                                                            \u001b[31m│\u001b[0m\n",
       "\u001b[31m│\u001b[0m \u001b[3;31m'C:\\\\Users\\\\crystallwi.xiaujing\\\\AppData\\\\Local\\\\Temp\\\\ipykernel_21996\\\\3114733456.py'\u001b[0m           \u001b[31m│\u001b[0m\n",
       "\u001b[31m╰──────────────────────────────────────────────────────────────────────────────────────────────────╯\u001b[0m\n",
       "\u001b[1;91mNameError: \u001b[0mname \u001b[32m'user'\u001b[0m is not defined\n"
      ]
     },
     "metadata": {},
     "output_type": "display_data"
    }
   ],
   "source": [
    "user.head()"
   ]
  },
  {
   "cell_type": "code",
   "execution_count": null,
   "metadata": {},
   "outputs": [],
   "source": [
    "user_last30 = user[user['updatedAt'] >= '2023-04-01']\n",
    "student_last30 = user_last30[user_last30['role'] == 'STUDENT']\n",
    "parent_last30 = user_last30[user_last30['role'] == 'PARENT']"
   ]
  },
  {
   "cell_type": "code",
   "execution_count": null,
   "metadata": {},
   "outputs": [],
   "source": [
    "n_student = len(student_last30.id.unique())\n",
    "n_parent = len(parent_last30.id.unique())\n",
    "print (n_parent, n_student)"
   ]
  },
  {
   "attachments": {},
   "cell_type": "markdown",
   "metadata": {},
   "source": [
    "## Checkpoint"
   ]
  },
  {
   "cell_type": "code",
   "execution_count": 3,
   "metadata": {},
   "outputs": [
    {
     "data": {
      "text/html": [
       "<div>\n",
       "<style scoped>\n",
       "    .dataframe tbody tr th:only-of-type {\n",
       "        vertical-align: middle;\n",
       "    }\n",
       "\n",
       "    .dataframe tbody tr th {\n",
       "        vertical-align: top;\n",
       "    }\n",
       "\n",
       "    .dataframe thead th {\n",
       "        text-align: right;\n",
       "    }\n",
       "</style>\n",
       "<table border=\"1\" class=\"dataframe\">\n",
       "  <thead>\n",
       "    <tr style=\"text-align: right;\">\n",
       "      <th></th>\n",
       "      <th>id</th>\n",
       "      <th>title</th>\n",
       "      <th>order</th>\n",
       "      <th>type</th>\n",
       "      <th>courseId</th>\n",
       "      <th>parentCheckpointId</th>\n",
       "      <th>enabled</th>\n",
       "      <th>createdAt</th>\n",
       "      <th>updatedAt</th>\n",
       "      <th>duration</th>\n",
       "      <th>imageId</th>\n",
       "      <th>description</th>\n",
       "      <th>deleted</th>\n",
       "      <th>link</th>\n",
       "      <th>Unnamed: 14</th>\n",
       "      <th>Unnamed: 15</th>\n",
       "      <th>Unnamed: 16</th>\n",
       "      <th>Unnamed: 17</th>\n",
       "      <th>Unnamed: 18</th>\n",
       "      <th>Unnamed: 19</th>\n",
       "      <th>Unnamed: 20</th>\n",
       "      <th>Unnamed: 21</th>\n",
       "      <th>Unnamed: 22</th>\n",
       "      <th>Unnamed: 23</th>\n",
       "      <th>Unnamed: 24</th>\n",
       "      <th>Unnamed: 25</th>\n",
       "      <th>Unnamed: 26</th>\n",
       "      <th>Unnamed: 27</th>\n",
       "      <th>Unnamed: 28</th>\n",
       "    </tr>\n",
       "  </thead>\n",
       "  <tbody>\n",
       "    <tr>\n",
       "      <th>0</th>\n",
       "      <td>ca222056-191e-4269-ae58-131c49f497e2</td>\n",
       "      <td>Introduction</td>\n",
       "      <td>0</td>\n",
       "      <td>INTRODUCTION</td>\n",
       "      <td>026f26d0-1b4c-47d4-b5ad-3d9e23e7836b</td>\n",
       "      <td>NaN</td>\n",
       "      <td>t</td>\n",
       "      <td>4/4/2022 5:48</td>\n",
       "      <td>4/4/2022 5:48</td>\n",
       "      <td>5</td>\n",
       "      <td>NaN</td>\n",
       "      <td>NaN</td>\n",
       "      <td>NaN</td>\n",
       "      <td>NaN</td>\n",
       "      <td>NaN</td>\n",
       "      <td>NaN</td>\n",
       "      <td>NaN</td>\n",
       "      <td>NaN</td>\n",
       "      <td>NaN</td>\n",
       "      <td>NaN</td>\n",
       "      <td>NaN</td>\n",
       "      <td>NaN</td>\n",
       "      <td>NaN</td>\n",
       "      <td>NaN</td>\n",
       "      <td>NaN</td>\n",
       "      <td>NaN</td>\n",
       "      <td>NaN</td>\n",
       "      <td>NaN</td>\n",
       "      <td>NaN</td>\n",
       "    </tr>\n",
       "    <tr>\n",
       "      <th>1</th>\n",
       "      <td>5ec9c938-b15b-4fcd-9d95-0c3b524215e7</td>\n",
       "      <td>Lesson1</td>\n",
       "      <td>1</td>\n",
       "      <td>LESSON</td>\n",
       "      <td>03653ec8-2346-4553-a39b-313ac684e1c6</td>\n",
       "      <td>NaN</td>\n",
       "      <td>t</td>\n",
       "      <td>24/6/2022 4:01</td>\n",
       "      <td>24/6/2022 4:01</td>\n",
       "      <td>5</td>\n",
       "      <td>NaN</td>\n",
       "      <td>NaN</td>\n",
       "      <td>NaN</td>\n",
       "      <td>NaN</td>\n",
       "      <td>NaN</td>\n",
       "      <td>NaN</td>\n",
       "      <td>NaN</td>\n",
       "      <td>NaN</td>\n",
       "      <td>NaN</td>\n",
       "      <td>NaN</td>\n",
       "      <td>NaN</td>\n",
       "      <td>NaN</td>\n",
       "      <td>NaN</td>\n",
       "      <td>NaN</td>\n",
       "      <td>NaN</td>\n",
       "      <td>NaN</td>\n",
       "      <td>NaN</td>\n",
       "      <td>NaN</td>\n",
       "      <td>NaN</td>\n",
       "    </tr>\n",
       "    <tr>\n",
       "      <th>2</th>\n",
       "      <td>b6228896-ed1c-417b-8386-00f742f89b0d</td>\n",
       "      <td>Introduction</td>\n",
       "      <td>0</td>\n",
       "      <td>INTRODUCTION</td>\n",
       "      <td>03653ec8-2346-4553-a39b-313ac684e1c6</td>\n",
       "      <td>NaN</td>\n",
       "      <td>t</td>\n",
       "      <td>24/6/2022 4:01</td>\n",
       "      <td>24/6/2022 4:01</td>\n",
       "      <td>5</td>\n",
       "      <td>NaN</td>\n",
       "      <td>NaN</td>\n",
       "      <td>NaN</td>\n",
       "      <td>NaN</td>\n",
       "      <td>NaN</td>\n",
       "      <td>NaN</td>\n",
       "      <td>NaN</td>\n",
       "      <td>NaN</td>\n",
       "      <td>NaN</td>\n",
       "      <td>NaN</td>\n",
       "      <td>NaN</td>\n",
       "      <td>NaN</td>\n",
       "      <td>NaN</td>\n",
       "      <td>NaN</td>\n",
       "      <td>NaN</td>\n",
       "      <td>NaN</td>\n",
       "      <td>NaN</td>\n",
       "      <td>NaN</td>\n",
       "      <td>NaN</td>\n",
       "    </tr>\n",
       "    <tr>\n",
       "      <th>3</th>\n",
       "      <td>5c2963bf-9935-4b3e-aa8a-68f0d46a5104</td>\n",
       "      <td>Analyzing the Details</td>\n",
       "      <td>4</td>\n",
       "      <td>LESSON</td>\n",
       "      <td>051f4673-1e22-40fe-9360-b7498ea3fe3e</td>\n",
       "      <td>NaN</td>\n",
       "      <td>t</td>\n",
       "      <td>11/7/2022 13:44</td>\n",
       "      <td>1/9/2022 3:39</td>\n",
       "      <td>1</td>\n",
       "      <td>5f86953d-34f5-47c4-82df-e536427f2d38</td>\n",
       "      <td>[{\\type\\\":\\\"paragraph\\\"</td>\n",
       "      <td>\\\"children\\\":[{\\\"text\\\":\\\"Help Helios!  Look c...</td>\n",
       "      <td>NaN</td>\n",
       "      <td>NaN</td>\n",
       "      <td>NaN</td>\n",
       "      <td>NaN</td>\n",
       "      <td>NaN</td>\n",
       "      <td>NaN</td>\n",
       "      <td>NaN</td>\n",
       "      <td>NaN</td>\n",
       "      <td>NaN</td>\n",
       "      <td>NaN</td>\n",
       "      <td>NaN</td>\n",
       "      <td>NaN</td>\n",
       "      <td>NaN</td>\n",
       "      <td>NaN</td>\n",
       "      <td>NaN</td>\n",
       "      <td>NaN</td>\n",
       "    </tr>\n",
       "    <tr>\n",
       "      <th>4</th>\n",
       "      <td>679e6506-153c-4c0e-81cf-ac409d8ba70a</td>\n",
       "      <td>Quiz</td>\n",
       "      <td>1</td>\n",
       "      <td>QUIZ</td>\n",
       "      <td>051f4673-1e22-40fe-9360-b7498ea3fe3e</td>\n",
       "      <td>NaN</td>\n",
       "      <td>t</td>\n",
       "      <td>27/6/2022 18:46</td>\n",
       "      <td>1/9/2022 5:19</td>\n",
       "      <td>5</td>\n",
       "      <td>2300a8ba-9934-4aeb-938e-517f948b2b36</td>\n",
       "      <td>[{\\type\\\":\\\"paragraph\\\"</td>\n",
       "      <td>\\\"children\\\":[{\\\"text\\\":\\\"Check your understan...</td>\n",
       "      <td>NaN</td>\n",
       "      <td>NaN</td>\n",
       "      <td>NaN</td>\n",
       "      <td>NaN</td>\n",
       "      <td>NaN</td>\n",
       "      <td>NaN</td>\n",
       "      <td>NaN</td>\n",
       "      <td>NaN</td>\n",
       "      <td>NaN</td>\n",
       "      <td>NaN</td>\n",
       "      <td>NaN</td>\n",
       "      <td>NaN</td>\n",
       "      <td>NaN</td>\n",
       "      <td>NaN</td>\n",
       "      <td>NaN</td>\n",
       "      <td>NaN</td>\n",
       "    </tr>\n",
       "    <tr>\n",
       "      <th>...</th>\n",
       "      <td>...</td>\n",
       "      <td>...</td>\n",
       "      <td>...</td>\n",
       "      <td>...</td>\n",
       "      <td>...</td>\n",
       "      <td>...</td>\n",
       "      <td>...</td>\n",
       "      <td>...</td>\n",
       "      <td>...</td>\n",
       "      <td>...</td>\n",
       "      <td>...</td>\n",
       "      <td>...</td>\n",
       "      <td>...</td>\n",
       "      <td>...</td>\n",
       "      <td>...</td>\n",
       "      <td>...</td>\n",
       "      <td>...</td>\n",
       "      <td>...</td>\n",
       "      <td>...</td>\n",
       "      <td>...</td>\n",
       "      <td>...</td>\n",
       "      <td>...</td>\n",
       "      <td>...</td>\n",
       "      <td>...</td>\n",
       "      <td>...</td>\n",
       "      <td>...</td>\n",
       "      <td>...</td>\n",
       "      <td>...</td>\n",
       "      <td>...</td>\n",
       "    </tr>\n",
       "    <tr>\n",
       "      <th>1095</th>\n",
       "      <td>7f25c0f5-d7db-46a9-93bc-b3b4c9a4b2e3</td>\n",
       "      <td>Lesson1</td>\n",
       "      <td>1</td>\n",
       "      <td>LESSON</td>\n",
       "      <td>ff93b2d4-ce76-4526-947a-67218d6445dd</td>\n",
       "      <td>NaN</td>\n",
       "      <td>t</td>\n",
       "      <td>23/8/2022 1:53</td>\n",
       "      <td>23/8/2022 1:53</td>\n",
       "      <td>5</td>\n",
       "      <td>NaN</td>\n",
       "      <td>NaN</td>\n",
       "      <td>NaN</td>\n",
       "      <td>NaN</td>\n",
       "      <td>NaN</td>\n",
       "      <td>NaN</td>\n",
       "      <td>NaN</td>\n",
       "      <td>NaN</td>\n",
       "      <td>NaN</td>\n",
       "      <td>NaN</td>\n",
       "      <td>NaN</td>\n",
       "      <td>NaN</td>\n",
       "      <td>NaN</td>\n",
       "      <td>NaN</td>\n",
       "      <td>NaN</td>\n",
       "      <td>NaN</td>\n",
       "      <td>NaN</td>\n",
       "      <td>NaN</td>\n",
       "      <td>NaN</td>\n",
       "    </tr>\n",
       "    <tr>\n",
       "      <th>1096</th>\n",
       "      <td>d9a5e535-417a-49e9-b96b-d13329425e44</td>\n",
       "      <td>Introduction</td>\n",
       "      <td>0</td>\n",
       "      <td>INTRODUCTION</td>\n",
       "      <td>ff93b2d4-ce76-4526-947a-67218d6445dd</td>\n",
       "      <td>NaN</td>\n",
       "      <td>t</td>\n",
       "      <td>23/8/2022 1:48</td>\n",
       "      <td>23/8/2022 1:48</td>\n",
       "      <td>5</td>\n",
       "      <td>NaN</td>\n",
       "      <td>NaN</td>\n",
       "      <td>NaN</td>\n",
       "      <td>NaN</td>\n",
       "      <td>NaN</td>\n",
       "      <td>NaN</td>\n",
       "      <td>NaN</td>\n",
       "      <td>NaN</td>\n",
       "      <td>NaN</td>\n",
       "      <td>NaN</td>\n",
       "      <td>NaN</td>\n",
       "      <td>NaN</td>\n",
       "      <td>NaN</td>\n",
       "      <td>NaN</td>\n",
       "      <td>NaN</td>\n",
       "      <td>NaN</td>\n",
       "      <td>NaN</td>\n",
       "      <td>NaN</td>\n",
       "      <td>NaN</td>\n",
       "    </tr>\n",
       "    <tr>\n",
       "      <th>1097</th>\n",
       "      <td>90446053-34c9-491a-8480-f6ade0c48fd4</td>\n",
       "      <td>Congratulation</td>\n",
       "      <td>2</td>\n",
       "      <td>END</td>\n",
       "      <td>ffd41bbb-c90a-4221-be25-e3d5366a0930</td>\n",
       "      <td>NaN</td>\n",
       "      <td>t</td>\n",
       "      <td>4/10/2022 0:20</td>\n",
       "      <td>21/10/2022 4:06</td>\n",
       "      <td>5</td>\n",
       "      <td>NaN</td>\n",
       "      <td>[{\\type\\\":\\\"paragraph\\\"</td>\n",
       "      <td>\\\"children\\\":[{\\\"text\\\":\\\"You did it!!\\\"}]}</td>\n",
       "      <td>{\\\"type\\\":\\\"paragraph\\\"</td>\n",
       "      <td>\\\"children\\\":[{\\\"text\\\":\\\"Now you have a Jack-...</td>\n",
       "      <td>NaN</td>\n",
       "      <td>NaN</td>\n",
       "      <td>NaN</td>\n",
       "      <td>NaN</td>\n",
       "      <td>NaN</td>\n",
       "      <td>NaN</td>\n",
       "      <td>NaN</td>\n",
       "      <td>NaN</td>\n",
       "      <td>NaN</td>\n",
       "      <td>NaN</td>\n",
       "      <td>NaN</td>\n",
       "      <td>NaN</td>\n",
       "      <td>NaN</td>\n",
       "      <td>NaN</td>\n",
       "    </tr>\n",
       "    <tr>\n",
       "      <th>1098</th>\n",
       "      <td>8ca91b50-a4ca-4a78-b030-060f534bee33</td>\n",
       "      <td>Introduction</td>\n",
       "      <td>0</td>\n",
       "      <td>INTRODUCTION</td>\n",
       "      <td>ffd41bbb-c90a-4221-be25-e3d5366a0930</td>\n",
       "      <td>NaN</td>\n",
       "      <td>t</td>\n",
       "      <td>4/10/2022 0:11</td>\n",
       "      <td>4/10/2022 0:23</td>\n",
       "      <td>5</td>\n",
       "      <td>60fd0fd3-cad6-4a41-ab2a-085f642711fc</td>\n",
       "      <td>[{\\type\\\":\\\"paragraph\\\"</td>\n",
       "      <td>\\\"children\\\":[{\\\"text\\\":\\\"Start your facepaint...</td>\n",
       "      <td>NaN</td>\n",
       "      <td>NaN</td>\n",
       "      <td>NaN</td>\n",
       "      <td>NaN</td>\n",
       "      <td>NaN</td>\n",
       "      <td>NaN</td>\n",
       "      <td>NaN</td>\n",
       "      <td>NaN</td>\n",
       "      <td>NaN</td>\n",
       "      <td>NaN</td>\n",
       "      <td>NaN</td>\n",
       "      <td>NaN</td>\n",
       "      <td>NaN</td>\n",
       "      <td>NaN</td>\n",
       "      <td>NaN</td>\n",
       "      <td>NaN</td>\n",
       "    </tr>\n",
       "    <tr>\n",
       "      <th>1099</th>\n",
       "      <td>04f4e156-50d1-491f-b8d2-189d802297f6</td>\n",
       "      <td>Jack-o-Lantern</td>\n",
       "      <td>1</td>\n",
       "      <td>LESSON</td>\n",
       "      <td>ffd41bbb-c90a-4221-be25-e3d5366a0930</td>\n",
       "      <td>NaN</td>\n",
       "      <td>t</td>\n",
       "      <td>4/10/2022 0:11</td>\n",
       "      <td>4/10/2022 0:12</td>\n",
       "      <td>10</td>\n",
       "      <td>be3e9822-cf56-4470-9b61-549a3c1e7ddb</td>\n",
       "      <td>[{\\type\\\":\\\"paragraph\\\"</td>\n",
       "      <td>\\\"children\\\":[{\\\"text\\\":\\\"Start your facepaint...</td>\n",
       "      <td>NaN</td>\n",
       "      <td>NaN</td>\n",
       "      <td>NaN</td>\n",
       "      <td>NaN</td>\n",
       "      <td>NaN</td>\n",
       "      <td>NaN</td>\n",
       "      <td>NaN</td>\n",
       "      <td>NaN</td>\n",
       "      <td>NaN</td>\n",
       "      <td>NaN</td>\n",
       "      <td>NaN</td>\n",
       "      <td>NaN</td>\n",
       "      <td>NaN</td>\n",
       "      <td>NaN</td>\n",
       "      <td>NaN</td>\n",
       "      <td>NaN</td>\n",
       "    </tr>\n",
       "  </tbody>\n",
       "</table>\n",
       "<p>1100 rows × 29 columns</p>\n",
       "</div>"
      ]
     },
     "execution_count": 3,
     "metadata": {},
     "output_type": "execute_result"
    }
   ],
   "source": [
    "checkpoint = pd.read_csv('data/01_raw/Checkpoint.csv')\n",
    "checkpoint"
   ]
  },
  {
   "cell_type": "code",
   "execution_count": 6,
   "metadata": {},
   "outputs": [],
   "source": [
    "checkpoint = checkpoint[checkpoint['updatedAt'] != 't']\n",
    "checkpoint['updatedAt'] = pd.to_datetime(checkpoint['updatedAt'])#, format='%d/%m/%Y %HH:%MM')\n",
    "checkpoint['createdAt'] = pd.to_datetime(checkpoint['createdAt'])#, format='%d/%m/%Y %HH:%MM')"
   ]
  },
  {
   "cell_type": "code",
   "execution_count": 7,
   "metadata": {},
   "outputs": [
    {
     "data": {
      "text/html": [
       "<div>\n",
       "<style scoped>\n",
       "    .dataframe tbody tr th:only-of-type {\n",
       "        vertical-align: middle;\n",
       "    }\n",
       "\n",
       "    .dataframe tbody tr th {\n",
       "        vertical-align: top;\n",
       "    }\n",
       "\n",
       "    .dataframe thead th {\n",
       "        text-align: right;\n",
       "    }\n",
       "</style>\n",
       "<table border=\"1\" class=\"dataframe\">\n",
       "  <thead>\n",
       "    <tr style=\"text-align: right;\">\n",
       "      <th></th>\n",
       "      <th>id</th>\n",
       "      <th>title</th>\n",
       "      <th>order</th>\n",
       "      <th>type</th>\n",
       "      <th>courseId</th>\n",
       "      <th>parentCheckpointId</th>\n",
       "      <th>enabled</th>\n",
       "      <th>createdAt</th>\n",
       "      <th>updatedAt</th>\n",
       "      <th>duration</th>\n",
       "      <th>imageId</th>\n",
       "      <th>description</th>\n",
       "      <th>deleted</th>\n",
       "      <th>link</th>\n",
       "      <th>Unnamed: 14</th>\n",
       "      <th>Unnamed: 15</th>\n",
       "      <th>Unnamed: 16</th>\n",
       "      <th>Unnamed: 17</th>\n",
       "      <th>Unnamed: 18</th>\n",
       "      <th>Unnamed: 19</th>\n",
       "      <th>Unnamed: 20</th>\n",
       "      <th>Unnamed: 21</th>\n",
       "      <th>Unnamed: 22</th>\n",
       "      <th>Unnamed: 23</th>\n",
       "      <th>Unnamed: 24</th>\n",
       "      <th>Unnamed: 25</th>\n",
       "      <th>Unnamed: 26</th>\n",
       "      <th>Unnamed: 27</th>\n",
       "      <th>Unnamed: 28</th>\n",
       "    </tr>\n",
       "  </thead>\n",
       "  <tbody>\n",
       "    <tr>\n",
       "      <th>0</th>\n",
       "      <td>625c4cc9-57c7-4d55-8986-e22f3e73fd35</td>\n",
       "      <td>Go And Search!</td>\n",
       "      <td>7</td>\n",
       "      <td>CHALLENGE</td>\n",
       "      <td>30bf3747-07d9-441a-89bf-2d22c41d4b65</td>\n",
       "      <td>NaN</td>\n",
       "      <td>t</td>\n",
       "      <td>2023-04-19 07:13:00</td>\n",
       "      <td>2023-04-20 03:37:00</td>\n",
       "      <td>5</td>\n",
       "      <td>65b849ef-66fb-4211-b5b7-22568aac17f1</td>\n",
       "      <td>[{\\type\\\":\\\"paragraph\\\"</td>\n",
       "      <td>\\\"children\\\":[{\\\"text\\\":\\\"Now it's your time t...</td>\n",
       "      <td>to see what inspires you!\\\"}]}]\"</td>\n",
       "      <td>NaN</td>\n",
       "      <td>NaN</td>\n",
       "      <td>NaN</td>\n",
       "      <td>NaN</td>\n",
       "      <td>NaN</td>\n",
       "      <td>NaN</td>\n",
       "      <td>NaN</td>\n",
       "      <td>NaN</td>\n",
       "      <td>NaN</td>\n",
       "      <td>NaN</td>\n",
       "      <td>NaN</td>\n",
       "      <td>NaN</td>\n",
       "      <td>NaN</td>\n",
       "      <td>NaN</td>\n",
       "      <td>NaN</td>\n",
       "    </tr>\n",
       "    <tr>\n",
       "      <th>1</th>\n",
       "      <td>0154fefd-e8c0-4397-a3ab-da86fa3890b5</td>\n",
       "      <td>Mind Map With A Drawing!</td>\n",
       "      <td>4</td>\n",
       "      <td>LESSON</td>\n",
       "      <td>30bf3747-07d9-441a-89bf-2d22c41d4b65</td>\n",
       "      <td>NaN</td>\n",
       "      <td>t</td>\n",
       "      <td>2023-04-19 05:47:00</td>\n",
       "      <td>2023-04-20 03:37:00</td>\n",
       "      <td>5</td>\n",
       "      <td>ad7b541b-f6c4-4131-9f2b-9002941c0f88</td>\n",
       "      <td>[{\\children\\\":[{\\\"text\\\":\\\"Jake and Helios get...</td>\n",
       "      <td>\\\"type\\\":\\\"paragraph\\\"}]\"</td>\n",
       "      <td>NaN</td>\n",
       "      <td>NaN</td>\n",
       "      <td>NaN</td>\n",
       "      <td>NaN</td>\n",
       "      <td>NaN</td>\n",
       "      <td>NaN</td>\n",
       "      <td>NaN</td>\n",
       "      <td>NaN</td>\n",
       "      <td>NaN</td>\n",
       "      <td>NaN</td>\n",
       "      <td>NaN</td>\n",
       "      <td>NaN</td>\n",
       "      <td>NaN</td>\n",
       "      <td>NaN</td>\n",
       "      <td>NaN</td>\n",
       "      <td>NaN</td>\n",
       "    </tr>\n",
       "    <tr>\n",
       "      <th>2</th>\n",
       "      <td>54c117d9-3ea4-4fcc-95e2-a64dd62647bc</td>\n",
       "      <td>Wow!</td>\n",
       "      <td>10</td>\n",
       "      <td>END</td>\n",
       "      <td>30bf3747-07d9-441a-89bf-2d22c41d4b65</td>\n",
       "      <td>NaN</td>\n",
       "      <td>t</td>\n",
       "      <td>2023-04-20 03:38:00</td>\n",
       "      <td>2023-04-20 03:40:00</td>\n",
       "      <td>1</td>\n",
       "      <td>8647b5f8-d738-46a6-897c-193497533c0a</td>\n",
       "      <td>[{\\type\\\":\\\"paragraph\\\"</td>\n",
       "      <td>\\\"children\\\":[{\\\"text\\\":\\\"We wish you and your...</td>\n",
       "      <td>NaN</td>\n",
       "      <td>NaN</td>\n",
       "      <td>NaN</td>\n",
       "      <td>NaN</td>\n",
       "      <td>NaN</td>\n",
       "      <td>NaN</td>\n",
       "      <td>NaN</td>\n",
       "      <td>NaN</td>\n",
       "      <td>NaN</td>\n",
       "      <td>NaN</td>\n",
       "      <td>NaN</td>\n",
       "      <td>NaN</td>\n",
       "      <td>NaN</td>\n",
       "      <td>NaN</td>\n",
       "      <td>NaN</td>\n",
       "      <td>NaN</td>\n",
       "    </tr>\n",
       "    <tr>\n",
       "      <th>3</th>\n",
       "      <td>776c3c96-9a2e-474e-95d2-54369a4ae592</td>\n",
       "      <td>Build Your Supply Chain</td>\n",
       "      <td>9</td>\n",
       "      <td>CHALLENGE</td>\n",
       "      <td>30bf3747-07d9-441a-89bf-2d22c41d4b65</td>\n",
       "      <td>NaN</td>\n",
       "      <td>t</td>\n",
       "      <td>2023-04-19 07:21:00</td>\n",
       "      <td>2023-04-20 03:38:00</td>\n",
       "      <td>5</td>\n",
       "      <td>4417071b-8617-4e1c-b2ed-88a65d8e998e</td>\n",
       "      <td>[{\\type\\\":\\\"paragraph\\\"</td>\n",
       "      <td>\\\"children\\\":[{\\\"text\\\":\\\"Now it's your turn t...</td>\n",
       "      <td>NaN</td>\n",
       "      <td>NaN</td>\n",
       "      <td>NaN</td>\n",
       "      <td>NaN</td>\n",
       "      <td>NaN</td>\n",
       "      <td>NaN</td>\n",
       "      <td>NaN</td>\n",
       "      <td>NaN</td>\n",
       "      <td>NaN</td>\n",
       "      <td>NaN</td>\n",
       "      <td>NaN</td>\n",
       "      <td>NaN</td>\n",
       "      <td>NaN</td>\n",
       "      <td>NaN</td>\n",
       "      <td>NaN</td>\n",
       "      <td>NaN</td>\n",
       "    </tr>\n",
       "    <tr>\n",
       "      <th>4</th>\n",
       "      <td>05ce7bad-7ed9-48c8-98c0-ce3a9802d5d8</td>\n",
       "      <td>Create A Mind Map</td>\n",
       "      <td>5</td>\n",
       "      <td>CHALLENGE</td>\n",
       "      <td>30bf3747-07d9-441a-89bf-2d22c41d4b65</td>\n",
       "      <td>NaN</td>\n",
       "      <td>t</td>\n",
       "      <td>2023-04-19 06:47:00</td>\n",
       "      <td>2023-04-20 03:37:00</td>\n",
       "      <td>5</td>\n",
       "      <td>c35668b3-a295-467e-a75a-a8a6008326e4</td>\n",
       "      <td>[{\\children\\\":[{\\\"text\\\":\\\"\\\"}]</td>\n",
       "      <td>\\\"type\\\":\\\"paragraph\\\"}]\"</td>\n",
       "      <td>NaN</td>\n",
       "      <td>NaN</td>\n",
       "      <td>NaN</td>\n",
       "      <td>NaN</td>\n",
       "      <td>NaN</td>\n",
       "      <td>NaN</td>\n",
       "      <td>NaN</td>\n",
       "      <td>NaN</td>\n",
       "      <td>NaN</td>\n",
       "      <td>NaN</td>\n",
       "      <td>NaN</td>\n",
       "      <td>NaN</td>\n",
       "      <td>NaN</td>\n",
       "      <td>NaN</td>\n",
       "      <td>NaN</td>\n",
       "      <td>NaN</td>\n",
       "    </tr>\n",
       "  </tbody>\n",
       "</table>\n",
       "</div>"
      ]
     },
     "execution_count": 7,
     "metadata": {},
     "output_type": "execute_result"
    }
   ],
   "source": [
    "checkpoint_last30 = checkpoint[checkpoint['updatedAt'] >= '2023-04-01']\n",
    "\n",
    "checkpoint_last30.reset_index(drop=True, inplace=True)\n",
    "checkpoint_last30.head()"
   ]
  },
  {
   "cell_type": "code",
   "execution_count": 8,
   "metadata": {},
   "outputs": [
    {
     "data": {
      "text/html": [
       "<pre style=\"white-space:pre;overflow-x:auto;line-height:normal;font-family:Menlo,'DejaVu Sans Mono',consolas,'Courier New',monospace\"><span style=\"color: #008080; text-decoration-color: #008080; font-weight: bold\">139</span>\n",
       "</pre>\n"
      ],
      "text/plain": [
       "\u001b[1;36m139\u001b[0m\n"
      ]
     },
     "metadata": {},
     "output_type": "display_data"
    }
   ],
   "source": [
    "len(checkpoint_last30)"
   ]
  },
  {
   "cell_type": "code",
   "execution_count": null,
   "metadata": {},
   "outputs": [],
   "source": []
  },
  {
   "cell_type": "code",
   "execution_count": 9,
   "metadata": {},
   "outputs": [],
   "source": [
    "LESSON_TYPE = checkpoint_last30.type.value_counts().to_frame().reset_index(drop=False)\n",
    "LESSON_TYPE.columns = ['lesson_type', 'val']"
   ]
  },
  {
   "cell_type": "code",
   "execution_count": 11,
   "metadata": {},
   "outputs": [
    {
     "data": {
      "application/vnd.plotly.v1+json": {
       "config": {
        "plotlyServerURL": "https://plot.ly"
       },
       "data": [
        {
         "type": "bar",
         "x": [
          "LESSON",
          "CHALLENGE",
          "QUIZ",
          "INTRODUCTION",
          "END"
         ],
         "y": [
          55,
          29,
          27,
          16,
          12
         ]
        }
       ],
       "layout": {
        "template": {
         "data": {
          "bar": [
           {
            "error_x": {
             "color": "#2a3f5f"
            },
            "error_y": {
             "color": "#2a3f5f"
            },
            "marker": {
             "line": {
              "color": "#E5ECF6",
              "width": 0.5
             },
             "pattern": {
              "fillmode": "overlay",
              "size": 10,
              "solidity": 0.2
             }
            },
            "type": "bar"
           }
          ],
          "barpolar": [
           {
            "marker": {
             "line": {
              "color": "#E5ECF6",
              "width": 0.5
             },
             "pattern": {
              "fillmode": "overlay",
              "size": 10,
              "solidity": 0.2
             }
            },
            "type": "barpolar"
           }
          ],
          "carpet": [
           {
            "aaxis": {
             "endlinecolor": "#2a3f5f",
             "gridcolor": "white",
             "linecolor": "white",
             "minorgridcolor": "white",
             "startlinecolor": "#2a3f5f"
            },
            "baxis": {
             "endlinecolor": "#2a3f5f",
             "gridcolor": "white",
             "linecolor": "white",
             "minorgridcolor": "white",
             "startlinecolor": "#2a3f5f"
            },
            "type": "carpet"
           }
          ],
          "choropleth": [
           {
            "colorbar": {
             "outlinewidth": 0,
             "ticks": ""
            },
            "type": "choropleth"
           }
          ],
          "contour": [
           {
            "colorbar": {
             "outlinewidth": 0,
             "ticks": ""
            },
            "colorscale": [
             [
              0,
              "#0d0887"
             ],
             [
              0.1111111111111111,
              "#46039f"
             ],
             [
              0.2222222222222222,
              "#7201a8"
             ],
             [
              0.3333333333333333,
              "#9c179e"
             ],
             [
              0.4444444444444444,
              "#bd3786"
             ],
             [
              0.5555555555555556,
              "#d8576b"
             ],
             [
              0.6666666666666666,
              "#ed7953"
             ],
             [
              0.7777777777777778,
              "#fb9f3a"
             ],
             [
              0.8888888888888888,
              "#fdca26"
             ],
             [
              1,
              "#f0f921"
             ]
            ],
            "type": "contour"
           }
          ],
          "contourcarpet": [
           {
            "colorbar": {
             "outlinewidth": 0,
             "ticks": ""
            },
            "type": "contourcarpet"
           }
          ],
          "heatmap": [
           {
            "colorbar": {
             "outlinewidth": 0,
             "ticks": ""
            },
            "colorscale": [
             [
              0,
              "#0d0887"
             ],
             [
              0.1111111111111111,
              "#46039f"
             ],
             [
              0.2222222222222222,
              "#7201a8"
             ],
             [
              0.3333333333333333,
              "#9c179e"
             ],
             [
              0.4444444444444444,
              "#bd3786"
             ],
             [
              0.5555555555555556,
              "#d8576b"
             ],
             [
              0.6666666666666666,
              "#ed7953"
             ],
             [
              0.7777777777777778,
              "#fb9f3a"
             ],
             [
              0.8888888888888888,
              "#fdca26"
             ],
             [
              1,
              "#f0f921"
             ]
            ],
            "type": "heatmap"
           }
          ],
          "heatmapgl": [
           {
            "colorbar": {
             "outlinewidth": 0,
             "ticks": ""
            },
            "colorscale": [
             [
              0,
              "#0d0887"
             ],
             [
              0.1111111111111111,
              "#46039f"
             ],
             [
              0.2222222222222222,
              "#7201a8"
             ],
             [
              0.3333333333333333,
              "#9c179e"
             ],
             [
              0.4444444444444444,
              "#bd3786"
             ],
             [
              0.5555555555555556,
              "#d8576b"
             ],
             [
              0.6666666666666666,
              "#ed7953"
             ],
             [
              0.7777777777777778,
              "#fb9f3a"
             ],
             [
              0.8888888888888888,
              "#fdca26"
             ],
             [
              1,
              "#f0f921"
             ]
            ],
            "type": "heatmapgl"
           }
          ],
          "histogram": [
           {
            "marker": {
             "pattern": {
              "fillmode": "overlay",
              "size": 10,
              "solidity": 0.2
             }
            },
            "type": "histogram"
           }
          ],
          "histogram2d": [
           {
            "colorbar": {
             "outlinewidth": 0,
             "ticks": ""
            },
            "colorscale": [
             [
              0,
              "#0d0887"
             ],
             [
              0.1111111111111111,
              "#46039f"
             ],
             [
              0.2222222222222222,
              "#7201a8"
             ],
             [
              0.3333333333333333,
              "#9c179e"
             ],
             [
              0.4444444444444444,
              "#bd3786"
             ],
             [
              0.5555555555555556,
              "#d8576b"
             ],
             [
              0.6666666666666666,
              "#ed7953"
             ],
             [
              0.7777777777777778,
              "#fb9f3a"
             ],
             [
              0.8888888888888888,
              "#fdca26"
             ],
             [
              1,
              "#f0f921"
             ]
            ],
            "type": "histogram2d"
           }
          ],
          "histogram2dcontour": [
           {
            "colorbar": {
             "outlinewidth": 0,
             "ticks": ""
            },
            "colorscale": [
             [
              0,
              "#0d0887"
             ],
             [
              0.1111111111111111,
              "#46039f"
             ],
             [
              0.2222222222222222,
              "#7201a8"
             ],
             [
              0.3333333333333333,
              "#9c179e"
             ],
             [
              0.4444444444444444,
              "#bd3786"
             ],
             [
              0.5555555555555556,
              "#d8576b"
             ],
             [
              0.6666666666666666,
              "#ed7953"
             ],
             [
              0.7777777777777778,
              "#fb9f3a"
             ],
             [
              0.8888888888888888,
              "#fdca26"
             ],
             [
              1,
              "#f0f921"
             ]
            ],
            "type": "histogram2dcontour"
           }
          ],
          "mesh3d": [
           {
            "colorbar": {
             "outlinewidth": 0,
             "ticks": ""
            },
            "type": "mesh3d"
           }
          ],
          "parcoords": [
           {
            "line": {
             "colorbar": {
              "outlinewidth": 0,
              "ticks": ""
             }
            },
            "type": "parcoords"
           }
          ],
          "pie": [
           {
            "automargin": true,
            "type": "pie"
           }
          ],
          "scatter": [
           {
            "fillpattern": {
             "fillmode": "overlay",
             "size": 10,
             "solidity": 0.2
            },
            "type": "scatter"
           }
          ],
          "scatter3d": [
           {
            "line": {
             "colorbar": {
              "outlinewidth": 0,
              "ticks": ""
             }
            },
            "marker": {
             "colorbar": {
              "outlinewidth": 0,
              "ticks": ""
             }
            },
            "type": "scatter3d"
           }
          ],
          "scattercarpet": [
           {
            "marker": {
             "colorbar": {
              "outlinewidth": 0,
              "ticks": ""
             }
            },
            "type": "scattercarpet"
           }
          ],
          "scattergeo": [
           {
            "marker": {
             "colorbar": {
              "outlinewidth": 0,
              "ticks": ""
             }
            },
            "type": "scattergeo"
           }
          ],
          "scattergl": [
           {
            "marker": {
             "colorbar": {
              "outlinewidth": 0,
              "ticks": ""
             }
            },
            "type": "scattergl"
           }
          ],
          "scattermapbox": [
           {
            "marker": {
             "colorbar": {
              "outlinewidth": 0,
              "ticks": ""
             }
            },
            "type": "scattermapbox"
           }
          ],
          "scatterpolar": [
           {
            "marker": {
             "colorbar": {
              "outlinewidth": 0,
              "ticks": ""
             }
            },
            "type": "scatterpolar"
           }
          ],
          "scatterpolargl": [
           {
            "marker": {
             "colorbar": {
              "outlinewidth": 0,
              "ticks": ""
             }
            },
            "type": "scatterpolargl"
           }
          ],
          "scatterternary": [
           {
            "marker": {
             "colorbar": {
              "outlinewidth": 0,
              "ticks": ""
             }
            },
            "type": "scatterternary"
           }
          ],
          "surface": [
           {
            "colorbar": {
             "outlinewidth": 0,
             "ticks": ""
            },
            "colorscale": [
             [
              0,
              "#0d0887"
             ],
             [
              0.1111111111111111,
              "#46039f"
             ],
             [
              0.2222222222222222,
              "#7201a8"
             ],
             [
              0.3333333333333333,
              "#9c179e"
             ],
             [
              0.4444444444444444,
              "#bd3786"
             ],
             [
              0.5555555555555556,
              "#d8576b"
             ],
             [
              0.6666666666666666,
              "#ed7953"
             ],
             [
              0.7777777777777778,
              "#fb9f3a"
             ],
             [
              0.8888888888888888,
              "#fdca26"
             ],
             [
              1,
              "#f0f921"
             ]
            ],
            "type": "surface"
           }
          ],
          "table": [
           {
            "cells": {
             "fill": {
              "color": "#EBF0F8"
             },
             "line": {
              "color": "white"
             }
            },
            "header": {
             "fill": {
              "color": "#C8D4E3"
             },
             "line": {
              "color": "white"
             }
            },
            "type": "table"
           }
          ]
         },
         "layout": {
          "annotationdefaults": {
           "arrowcolor": "#2a3f5f",
           "arrowhead": 0,
           "arrowwidth": 1
          },
          "autotypenumbers": "strict",
          "coloraxis": {
           "colorbar": {
            "outlinewidth": 0,
            "ticks": ""
           }
          },
          "colorscale": {
           "diverging": [
            [
             0,
             "#8e0152"
            ],
            [
             0.1,
             "#c51b7d"
            ],
            [
             0.2,
             "#de77ae"
            ],
            [
             0.3,
             "#f1b6da"
            ],
            [
             0.4,
             "#fde0ef"
            ],
            [
             0.5,
             "#f7f7f7"
            ],
            [
             0.6,
             "#e6f5d0"
            ],
            [
             0.7,
             "#b8e186"
            ],
            [
             0.8,
             "#7fbc41"
            ],
            [
             0.9,
             "#4d9221"
            ],
            [
             1,
             "#276419"
            ]
           ],
           "sequential": [
            [
             0,
             "#0d0887"
            ],
            [
             0.1111111111111111,
             "#46039f"
            ],
            [
             0.2222222222222222,
             "#7201a8"
            ],
            [
             0.3333333333333333,
             "#9c179e"
            ],
            [
             0.4444444444444444,
             "#bd3786"
            ],
            [
             0.5555555555555556,
             "#d8576b"
            ],
            [
             0.6666666666666666,
             "#ed7953"
            ],
            [
             0.7777777777777778,
             "#fb9f3a"
            ],
            [
             0.8888888888888888,
             "#fdca26"
            ],
            [
             1,
             "#f0f921"
            ]
           ],
           "sequentialminus": [
            [
             0,
             "#0d0887"
            ],
            [
             0.1111111111111111,
             "#46039f"
            ],
            [
             0.2222222222222222,
             "#7201a8"
            ],
            [
             0.3333333333333333,
             "#9c179e"
            ],
            [
             0.4444444444444444,
             "#bd3786"
            ],
            [
             0.5555555555555556,
             "#d8576b"
            ],
            [
             0.6666666666666666,
             "#ed7953"
            ],
            [
             0.7777777777777778,
             "#fb9f3a"
            ],
            [
             0.8888888888888888,
             "#fdca26"
            ],
            [
             1,
             "#f0f921"
            ]
           ]
          },
          "colorway": [
           "#636efa",
           "#EF553B",
           "#00cc96",
           "#ab63fa",
           "#FFA15A",
           "#19d3f3",
           "#FF6692",
           "#B6E880",
           "#FF97FF",
           "#FECB52"
          ],
          "font": {
           "color": "#2a3f5f"
          },
          "geo": {
           "bgcolor": "white",
           "lakecolor": "white",
           "landcolor": "#E5ECF6",
           "showlakes": true,
           "showland": true,
           "subunitcolor": "white"
          },
          "hoverlabel": {
           "align": "left"
          },
          "hovermode": "closest",
          "mapbox": {
           "style": "light"
          },
          "paper_bgcolor": "white",
          "plot_bgcolor": "#E5ECF6",
          "polar": {
           "angularaxis": {
            "gridcolor": "white",
            "linecolor": "white",
            "ticks": ""
           },
           "bgcolor": "#E5ECF6",
           "radialaxis": {
            "gridcolor": "white",
            "linecolor": "white",
            "ticks": ""
           }
          },
          "scene": {
           "xaxis": {
            "backgroundcolor": "#E5ECF6",
            "gridcolor": "white",
            "gridwidth": 2,
            "linecolor": "white",
            "showbackground": true,
            "ticks": "",
            "zerolinecolor": "white"
           },
           "yaxis": {
            "backgroundcolor": "#E5ECF6",
            "gridcolor": "white",
            "gridwidth": 2,
            "linecolor": "white",
            "showbackground": true,
            "ticks": "",
            "zerolinecolor": "white"
           },
           "zaxis": {
            "backgroundcolor": "#E5ECF6",
            "gridcolor": "white",
            "gridwidth": 2,
            "linecolor": "white",
            "showbackground": true,
            "ticks": "",
            "zerolinecolor": "white"
           }
          },
          "shapedefaults": {
           "line": {
            "color": "#2a3f5f"
           }
          },
          "ternary": {
           "aaxis": {
            "gridcolor": "white",
            "linecolor": "white",
            "ticks": ""
           },
           "baxis": {
            "gridcolor": "white",
            "linecolor": "white",
            "ticks": ""
           },
           "bgcolor": "#E5ECF6",
           "caxis": {
            "gridcolor": "white",
            "linecolor": "white",
            "ticks": ""
           }
          },
          "title": {
           "x": 0.05
          },
          "xaxis": {
           "automargin": true,
           "gridcolor": "white",
           "linecolor": "white",
           "ticks": "",
           "title": {
            "standoff": 15
           },
           "zerolinecolor": "white",
           "zerolinewidth": 2
          },
          "yaxis": {
           "automargin": true,
           "gridcolor": "white",
           "linecolor": "white",
           "ticks": "",
           "title": {
            "standoff": 15
           },
           "zerolinecolor": "white",
           "zerolinewidth": 2
          }
         }
        },
        "title": {
         "text": "Type of checkpoints"
        },
        "xaxis": {
         "categoryarray": [
          "INTRODUCTION",
          "LESSON",
          "QUIZ",
          "CHALLENGE",
          "END"
         ],
         "categoryorder": "array"
        }
       }
      }
     },
     "metadata": {},
     "output_type": "display_data"
    }
   ],
   "source": [
    "fig = go.Figure(data=go.Bar(x=LESSON_TYPE.lesson_type, y=LESSON_TYPE.val.values))\n",
    "\n",
    "fig.update_layout(xaxis={'categoryorder': 'array', 'categoryarray': ['INTRODUCTION', 'LESSON', 'QUIZ', 'CHALLENGE', 'END']},\n",
    "                  title='Type of checkpoints')\n",
    "\n",
    "fig.show()"
   ]
  },
  {
   "cell_type": "code",
   "execution_count": 12,
   "metadata": {},
   "outputs": [
    {
     "data": {
      "text/html": [
       "<div>\n",
       "<style scoped>\n",
       "    .dataframe tbody tr th:only-of-type {\n",
       "        vertical-align: middle;\n",
       "    }\n",
       "\n",
       "    .dataframe tbody tr th {\n",
       "        vertical-align: top;\n",
       "    }\n",
       "\n",
       "    .dataframe thead th {\n",
       "        text-align: right;\n",
       "    }\n",
       "</style>\n",
       "<table border=\"1\" class=\"dataframe\">\n",
       "  <thead>\n",
       "    <tr style=\"text-align: right;\">\n",
       "      <th></th>\n",
       "      <th>intro</th>\n",
       "      <th>val</th>\n",
       "    </tr>\n",
       "  </thead>\n",
       "  <tbody>\n",
       "    <tr>\n",
       "      <th>0</th>\n",
       "      <td>Introduction</td>\n",
       "      <td>12</td>\n",
       "    </tr>\n",
       "    <tr>\n",
       "      <th>1</th>\n",
       "      <td>A flying machine!</td>\n",
       "      <td>1</td>\n",
       "    </tr>\n",
       "    <tr>\n",
       "      <th>2</th>\n",
       "      <td>Introduction ti Scientific Illustration</td>\n",
       "      <td>1</td>\n",
       "    </tr>\n",
       "    <tr>\n",
       "      <th>3</th>\n",
       "      <td>Mars Town?</td>\n",
       "      <td>1</td>\n",
       "    </tr>\n",
       "    <tr>\n",
       "      <th>4</th>\n",
       "      <td>Introduction to Scientific Illustration</td>\n",
       "      <td>1</td>\n",
       "    </tr>\n",
       "  </tbody>\n",
       "</table>\n",
       "</div>"
      ]
     },
     "execution_count": 12,
     "metadata": {},
     "output_type": "execute_result"
    }
   ],
   "source": [
    "intro = checkpoint_last30[checkpoint_last30['type'] == 'INTRODUCTION']\n",
    "intro_dt = intro.title.value_counts().to_frame().reset_index(drop=False)\n",
    "intro_dt.columns = ['intro', 'val']\n",
    "intro_dt"
   ]
  },
  {
   "cell_type": "code",
   "execution_count": 13,
   "metadata": {},
   "outputs": [
    {
     "data": {
      "text/html": [
       "<div>\n",
       "<style scoped>\n",
       "    .dataframe tbody tr th:only-of-type {\n",
       "        vertical-align: middle;\n",
       "    }\n",
       "\n",
       "    .dataframe tbody tr th {\n",
       "        vertical-align: top;\n",
       "    }\n",
       "\n",
       "    .dataframe thead th {\n",
       "        text-align: right;\n",
       "    }\n",
       "</style>\n",
       "<table border=\"1\" class=\"dataframe\">\n",
       "  <thead>\n",
       "    <tr style=\"text-align: right;\">\n",
       "      <th></th>\n",
       "      <th>title</th>\n",
       "      <th>val</th>\n",
       "    </tr>\n",
       "  </thead>\n",
       "  <tbody>\n",
       "    <tr>\n",
       "      <th>0</th>\n",
       "      <td>Lesson1</td>\n",
       "      <td>2</td>\n",
       "    </tr>\n",
       "    <tr>\n",
       "      <th>1</th>\n",
       "      <td>Vocabulary</td>\n",
       "      <td>2</td>\n",
       "    </tr>\n",
       "    <tr>\n",
       "      <th>2</th>\n",
       "      <td>Mind Map With A Drawing!</td>\n",
       "      <td>1</td>\n",
       "    </tr>\n",
       "    <tr>\n",
       "      <th>3</th>\n",
       "      <td>Guided Writing</td>\n",
       "      <td>1</td>\n",
       "    </tr>\n",
       "    <tr>\n",
       "      <th>4</th>\n",
       "      <td>Zeusaphon</td>\n",
       "      <td>1</td>\n",
       "    </tr>\n",
       "    <tr>\n",
       "      <th>5</th>\n",
       "      <td>Yaybahar</td>\n",
       "      <td>1</td>\n",
       "    </tr>\n",
       "    <tr>\n",
       "      <th>6</th>\n",
       "      <td>Theremin</td>\n",
       "      <td>1</td>\n",
       "    </tr>\n",
       "    <tr>\n",
       "      <th>7</th>\n",
       "      <td>The Hung Drum</td>\n",
       "      <td>1</td>\n",
       "    </tr>\n",
       "    <tr>\n",
       "      <th>8</th>\n",
       "      <td>Icograms!</td>\n",
       "      <td>1</td>\n",
       "    </tr>\n",
       "    <tr>\n",
       "      <th>9</th>\n",
       "      <td>Martha the Martian</td>\n",
       "      <td>1</td>\n",
       "    </tr>\n",
       "    <tr>\n",
       "      <th>10</th>\n",
       "      <td>Final Design :)</td>\n",
       "      <td>1</td>\n",
       "    </tr>\n",
       "    <tr>\n",
       "      <th>11</th>\n",
       "      <td>Interview Time!</td>\n",
       "      <td>1</td>\n",
       "    </tr>\n",
       "    <tr>\n",
       "      <th>12</th>\n",
       "      <td>Grammar Nouns and Proper Nouns</td>\n",
       "      <td>1</td>\n",
       "    </tr>\n",
       "    <tr>\n",
       "      <th>13</th>\n",
       "      <td>Vocabulary of school subjects and feelings</td>\n",
       "      <td>1</td>\n",
       "    </tr>\n",
       "    <tr>\n",
       "      <th>14</th>\n",
       "      <td>Types of Galaxies</td>\n",
       "      <td>1</td>\n",
       "    </tr>\n",
       "    <tr>\n",
       "      <th>15</th>\n",
       "      <td>Constellations</td>\n",
       "      <td>1</td>\n",
       "    </tr>\n",
       "    <tr>\n",
       "      <th>16</th>\n",
       "      <td>Changes and Adaptations</td>\n",
       "      <td>1</td>\n",
       "    </tr>\n",
       "    <tr>\n",
       "      <th>17</th>\n",
       "      <td>The Milky Way Galaxy</td>\n",
       "      <td>1</td>\n",
       "    </tr>\n",
       "    <tr>\n",
       "      <th>18</th>\n",
       "      <td>Galaxy</td>\n",
       "      <td>1</td>\n",
       "    </tr>\n",
       "    <tr>\n",
       "      <th>19</th>\n",
       "      <td>Learning to draw what you see</td>\n",
       "      <td>1</td>\n",
       "    </tr>\n",
       "    <tr>\n",
       "      <th>20</th>\n",
       "      <td>Planning our scientific illustration</td>\n",
       "      <td>1</td>\n",
       "    </tr>\n",
       "    <tr>\n",
       "      <th>21</th>\n",
       "      <td>Creating our scientific illustration</td>\n",
       "      <td>1</td>\n",
       "    </tr>\n",
       "    <tr>\n",
       "      <th>22</th>\n",
       "      <td>Looking at composition</td>\n",
       "      <td>1</td>\n",
       "    </tr>\n",
       "    <tr>\n",
       "      <th>23</th>\n",
       "      <td>Grammar - Preposition of Time</td>\n",
       "      <td>1</td>\n",
       "    </tr>\n",
       "    <tr>\n",
       "      <th>24</th>\n",
       "      <td>Vocabulary - days of the week</td>\n",
       "      <td>1</td>\n",
       "    </tr>\n",
       "    <tr>\n",
       "      <th>25</th>\n",
       "      <td>How to read time</td>\n",
       "      <td>1</td>\n",
       "    </tr>\n",
       "    <tr>\n",
       "      <th>26</th>\n",
       "      <td>Learning to drawing what you see</td>\n",
       "      <td>1</td>\n",
       "    </tr>\n",
       "    <tr>\n",
       "      <th>27</th>\n",
       "      <td>Food Chain</td>\n",
       "      <td>1</td>\n",
       "    </tr>\n",
       "    <tr>\n",
       "      <th>28</th>\n",
       "      <td>Cool Corals</td>\n",
       "      <td>1</td>\n",
       "    </tr>\n",
       "    <tr>\n",
       "      <th>29</th>\n",
       "      <td>Digital Prototype Part 1</td>\n",
       "      <td>1</td>\n",
       "    </tr>\n",
       "    <tr>\n",
       "      <th>30</th>\n",
       "      <td>Supply Chain Building Time!</td>\n",
       "      <td>1</td>\n",
       "    </tr>\n",
       "    <tr>\n",
       "      <th>31</th>\n",
       "      <td>The Power Of Searching The Internet</td>\n",
       "      <td>1</td>\n",
       "    </tr>\n",
       "    <tr>\n",
       "      <th>32</th>\n",
       "      <td>Lesson2</td>\n",
       "      <td>1</td>\n",
       "    </tr>\n",
       "    <tr>\n",
       "      <th>33</th>\n",
       "      <td>Famous Scientists</td>\n",
       "      <td>1</td>\n",
       "    </tr>\n",
       "    <tr>\n",
       "      <th>34</th>\n",
       "      <td>Science All Around Us</td>\n",
       "      <td>1</td>\n",
       "    </tr>\n",
       "    <tr>\n",
       "      <th>35</th>\n",
       "      <td>Budding Scientists</td>\n",
       "      <td>1</td>\n",
       "    </tr>\n",
       "    <tr>\n",
       "      <th>36</th>\n",
       "      <td>The Scientific Process</td>\n",
       "      <td>1</td>\n",
       "    </tr>\n",
       "    <tr>\n",
       "      <th>37</th>\n",
       "      <td>Scientific Tools</td>\n",
       "      <td>1</td>\n",
       "    </tr>\n",
       "    <tr>\n",
       "      <th>38</th>\n",
       "      <td>Read the time</td>\n",
       "      <td>1</td>\n",
       "    </tr>\n",
       "    <tr>\n",
       "      <th>39</th>\n",
       "      <td>Define</td>\n",
       "      <td>1</td>\n",
       "    </tr>\n",
       "    <tr>\n",
       "      <th>40</th>\n",
       "      <td>Ideate</td>\n",
       "      <td>1</td>\n",
       "    </tr>\n",
       "    <tr>\n",
       "      <th>41</th>\n",
       "      <td>Let's Interview Kelly!</td>\n",
       "      <td>1</td>\n",
       "    </tr>\n",
       "    <tr>\n",
       "      <th>42</th>\n",
       "      <td>Testing Time</td>\n",
       "      <td>1</td>\n",
       "    </tr>\n",
       "    <tr>\n",
       "      <th>43</th>\n",
       "      <td>Empathy</td>\n",
       "      <td>1</td>\n",
       "    </tr>\n",
       "    <tr>\n",
       "      <th>44</th>\n",
       "      <td>Digital Prototype Part 2</td>\n",
       "      <td>1</td>\n",
       "    </tr>\n",
       "    <tr>\n",
       "      <th>45</th>\n",
       "      <td>Mixing Solids with Liquids</td>\n",
       "      <td>1</td>\n",
       "    </tr>\n",
       "    <tr>\n",
       "      <th>46</th>\n",
       "      <td>Mixing liquids with liquids</td>\n",
       "      <td>1</td>\n",
       "    </tr>\n",
       "    <tr>\n",
       "      <th>47</th>\n",
       "      <td>Materials Around Us</td>\n",
       "      <td>1</td>\n",
       "    </tr>\n",
       "    <tr>\n",
       "      <th>48</th>\n",
       "      <td>Mixing Solids with Solids</td>\n",
       "      <td>1</td>\n",
       "    </tr>\n",
       "    <tr>\n",
       "      <th>49</th>\n",
       "      <td>What is a mixture?</td>\n",
       "      <td>1</td>\n",
       "    </tr>\n",
       "    <tr>\n",
       "      <th>50</th>\n",
       "      <td>Habitat</td>\n",
       "      <td>1</td>\n",
       "    </tr>\n",
       "    <tr>\n",
       "      <th>51</th>\n",
       "      <td>The Ecosystem</td>\n",
       "      <td>1</td>\n",
       "    </tr>\n",
       "    <tr>\n",
       "      <th>52</th>\n",
       "      <td>Vocabulary - Seasons</td>\n",
       "      <td>1</td>\n",
       "    </tr>\n",
       "  </tbody>\n",
       "</table>\n",
       "</div>"
      ]
     },
     "execution_count": 13,
     "metadata": {},
     "output_type": "execute_result"
    }
   ],
   "source": [
    "lesson = checkpoint_last30[checkpoint_last30['type'] == 'LESSON']\n",
    "lesson_dt = lesson.title.value_counts().to_frame().reset_index(drop=False)\n",
    "lesson_dt.columns = ['title', 'val']\n",
    "lesson_dt"
   ]
  },
  {
   "attachments": {},
   "cell_type": "markdown",
   "metadata": {},
   "source": [
    "## Enrolled Course"
   ]
  },
  {
   "cell_type": "code",
   "execution_count": 6,
   "metadata": {},
   "outputs": [
    {
     "data": {
      "text/html": [
       "<div>\n",
       "<style scoped>\n",
       "    .dataframe tbody tr th:only-of-type {\n",
       "        vertical-align: middle;\n",
       "    }\n",
       "\n",
       "    .dataframe tbody tr th {\n",
       "        vertical-align: top;\n",
       "    }\n",
       "\n",
       "    .dataframe thead th {\n",
       "        text-align: right;\n",
       "    }\n",
       "</style>\n",
       "<table border=\"1\" class=\"dataframe\">\n",
       "  <thead>\n",
       "    <tr style=\"text-align: right;\">\n",
       "      <th></th>\n",
       "      <th>id</th>\n",
       "      <th>title</th>\n",
       "      <th>description</th>\n",
       "      <th>thumbnailId</th>\n",
       "      <th>teacherId</th>\n",
       "      <th>published</th>\n",
       "      <th>level</th>\n",
       "      <th>categoryId</th>\n",
       "      <th>tags</th>\n",
       "      <th>createdAt</th>\n",
       "      <th>updatedAt</th>\n",
       "      <th>state</th>\n",
       "      <th>duration</th>\n",
       "      <th>deleted</th>\n",
       "      <th>rating</th>\n",
       "    </tr>\n",
       "  </thead>\n",
       "  <tbody>\n",
       "    <tr>\n",
       "      <th>65</th>\n",
       "      <td>261a0e23-b2b8-40b6-9be4-85d2569c6acd</td>\n",
       "      <td>Frequency Adverbs (Ages 8 - 10)</td>\n",
       "      <td>[{\"type\":\"paragraph\",\"children\":[{\"text\":\"In t...</td>\n",
       "      <td>7efaf6ae-f1e1-4c83-b48c-36d0209165b3</td>\n",
       "      <td>0f123eba-dbcf-40f2-ad46-7197e803050c</td>\n",
       "      <td>t</td>\n",
       "      <td>INTERMEDIATE</td>\n",
       "      <td>12dbff6a-1b54-4fe7-a1b3-ccd8986fa8a2</td>\n",
       "      <td>NaN</td>\n",
       "      <td>2022-04-14 07:26:18.634</td>\n",
       "      <td>2022-07-19 06:25:01.025</td>\n",
       "      <td>PUBLISHED</td>\n",
       "      <td>50</td>\n",
       "      <td>NaN</td>\n",
       "      <td>0.0</td>\n",
       "    </tr>\n",
       "    <tr>\n",
       "      <th>66</th>\n",
       "      <td>1f50a3d9-87bc-46eb-b6ce-89297bfd945a</td>\n",
       "      <td>Family Members and Relatives (Ages 7 - 9)</td>\n",
       "      <td>[{\"type\":\"paragraph\",\"children\":[{\"text\":\"In t...</td>\n",
       "      <td>575eb7e8-346a-4db9-8784-34daf383f4c3</td>\n",
       "      <td>0f123eba-dbcf-40f2-ad46-7197e803050c</td>\n",
       "      <td>t</td>\n",
       "      <td>BEGINNER</td>\n",
       "      <td>12dbff6a-1b54-4fe7-a1b3-ccd8986fa8a2</td>\n",
       "      <td>NaN</td>\n",
       "      <td>2022-08-31 05:48:28.924</td>\n",
       "      <td>2022-10-18 08:06:45.898</td>\n",
       "      <td>PUBLISHED</td>\n",
       "      <td>51</td>\n",
       "      <td>NaN</td>\n",
       "      <td>0.0</td>\n",
       "    </tr>\n",
       "    <tr>\n",
       "      <th>67</th>\n",
       "      <td>1972d5a4-671c-4dd6-bd4e-16223ff3c8c6</td>\n",
       "      <td>Stop Motion Animation with Ort!</td>\n",
       "      <td>[{\"type\":\"paragraph\",\"children\":[{\"text\":\"Lear...</td>\n",
       "      <td>e83c18a2-1bec-44ad-9ab3-718c043d2533</td>\n",
       "      <td>498a8faa-bcc4-48ad-843b-c7390d349aa2</td>\n",
       "      <td>t</td>\n",
       "      <td>ADVANCED</td>\n",
       "      <td>463b1b0c-fc48-4ab0-9b58-cbc55360d39e</td>\n",
       "      <td>NaN</td>\n",
       "      <td>2022-05-24 05:05:39.395</td>\n",
       "      <td>2023-03-23 03:47:24.57</td>\n",
       "      <td>PUBLISHED</td>\n",
       "      <td>65</td>\n",
       "      <td>NaN</td>\n",
       "      <td>0.0</td>\n",
       "    </tr>\n",
       "    <tr>\n",
       "      <th>68</th>\n",
       "      <td>17c3e9a5-1c6a-4d94-8b31-13add2c19ab5</td>\n",
       "      <td>Not Your Typical Egg</td>\n",
       "      <td>[{\"type\":\"paragraph\",\"children\":[{\"text\":\"Hell...</td>\n",
       "      <td>de639035-90bc-4d73-a02d-5596f7b5f996</td>\n",
       "      <td>c40ebe24-418e-44cf-9ba3-8e0d9cb8c681</td>\n",
       "      <td>t</td>\n",
       "      <td>BEGINNER</td>\n",
       "      <td>afe4bdb3-e5cf-4c74-a9dc-ea3117a3d39b</td>\n",
       "      <td>NaN</td>\n",
       "      <td>2022-04-19 07:48:42.506</td>\n",
       "      <td>2022-06-17 10:10:13.927</td>\n",
       "      <td>PUBLISHED</td>\n",
       "      <td>25</td>\n",
       "      <td>NaN</td>\n",
       "      <td>5.0</td>\n",
       "    </tr>\n",
       "    <tr>\n",
       "      <th>69</th>\n",
       "      <td>051f4673-1e22-40fe-9360-b7498ea3fe3e</td>\n",
       "      <td>Art Appreciation</td>\n",
       "      <td>[{\"type\":\"paragraph\",\"children\":[{\"text\":\"Did ...</td>\n",
       "      <td>3212b8c8-624c-459f-b1c2-81471546dde9</td>\n",
       "      <td>ac6f4241-8c00-4db7-8b4a-2632a503a19b</td>\n",
       "      <td>t</td>\n",
       "      <td>BEGINNER</td>\n",
       "      <td>463b1b0c-fc48-4ab0-9b58-cbc55360d39e</td>\n",
       "      <td>NaN</td>\n",
       "      <td>2022-06-27 18:35:43.812</td>\n",
       "      <td>2022-09-23 02:29:23.478</td>\n",
       "      <td>PUBLISHED</td>\n",
       "      <td>28</td>\n",
       "      <td>NaN</td>\n",
       "      <td>0.0</td>\n",
       "    </tr>\n",
       "  </tbody>\n",
       "</table>\n",
       "</div>"
      ]
     },
     "execution_count": 6,
     "metadata": {},
     "output_type": "execute_result"
    }
   ],
   "source": [
    "# Enrolled Course\n",
    "enrolled_course = pd.read_csv('data/01_raw/EnrolledCourse.csv')\n",
    "enrolled_course.head()\n",
    "## Course ID\n",
    "course_id = pd.read_excel('data/01_raw/Published Course.xlsx')\n",
    "course_id.tail()"
   ]
  },
  {
   "cell_type": "code",
   "execution_count": 34,
   "metadata": {},
   "outputs": [
    {
     "data": {
      "text/html": [
       "<pre style=\"white-space:pre;overflow-x:auto;line-height:normal;font-family:Menlo,'DejaVu Sans Mono',consolas,'Courier New',monospace\">\n",
       "<span style=\"font-weight: bold\">[</span>\n",
       "    <span style=\"color: #008000; text-decoration-color: #008000\">'Actions and Activities of Feelings (Ages 7-9)'</span>,\n",
       "    <span style=\"color: #008000; text-decoration-color: #008000\">'Actions and Activities of Feelings (Ages 8-10)'</span>,\n",
       "    <span style=\"color: #008000; text-decoration-color: #008000\">'Animal Universe'</span>,\n",
       "    <span style=\"color: #008000; text-decoration-color: #008000\">'Art Appreciation'</span>,\n",
       "    <span style=\"color: #008000; text-decoration-color: #008000\">'Art with Found Objects'</span>,\n",
       "    <span style=\"color: #008000; text-decoration-color: #008000\">'Basic Character Design For Everyone'</span>,\n",
       "    <span style=\"color: #008000; text-decoration-color: #008000\">'Breakfast Around the World'</span>,\n",
       "    <span style=\"color: #008000; text-decoration-color: #008000\">'Coding Video Games and Fighting Space Food'</span>,\n",
       "    <span style=\"color: #008000; text-decoration-color: #008000\">'Collage As Composition: Collage in Painting'</span>,\n",
       "    <span style=\"color: #008000; text-decoration-color: #008000\">'Collage as Composition: Digital Media'</span>,\n",
       "    <span style=\"color: #008000; text-decoration-color: #008000\">'Collage as Composition: Traditional Media'</span>,\n",
       "    <span style=\"color: #008000; text-decoration-color: #008000\">'Creative Photography'</span>,\n",
       "    <span style=\"color: #008000; text-decoration-color: #008000\">'Culture and Identity in Art'</span>,\n",
       "    <span style=\"color: #008000; text-decoration-color: #008000\">'Curiosity Rocks'</span>,\n",
       "    <span style=\"color: #008000; text-decoration-color: #008000\">'Daily Routines Age 7-9'</span>,\n",
       "    <span style=\"color: #008000; text-decoration-color: #008000\">'Daily Routines Age 8-10'</span>,\n",
       "    <span style=\"color: #008000; text-decoration-color: #008000\">'Digital Drawing 1: Astronaut Phone Case'</span>,\n",
       "    <span style=\"color: #008000; text-decoration-color: #008000\">'Dusty Town'</span>,\n",
       "    <span style=\"color: #008000; text-decoration-color: #008000\">'Earth Science (How the Earth Smiles and Laughs)'</span>,\n",
       "    <span style=\"color: #008000; text-decoration-color: #008000\">'Eco-Communities'</span>,\n",
       "    <span style=\"color: #008000; text-decoration-color: #008000\">'Elements of Art'</span>,\n",
       "    <span style=\"color: #008000; text-decoration-color: #008000\">'Family Members and Relatives (Ages 7 - 9)'</span>,\n",
       "    <span style=\"color: #008000; text-decoration-color: #008000\">'Family Members and Relatives (Ages 8-10)'</span>,\n",
       "    <span style=\"color: #008000; text-decoration-color: #008000\">'Feelings and Emotions (Ages 7 - 9)'</span>,\n",
       "    <span style=\"color: #008000; text-decoration-color: #008000\">'Feelings and Emotions (Ages 8 - 10)'</span>,\n",
       "    <span style=\"color: #008000; text-decoration-color: #008000\">'Forces'</span>,\n",
       "    <span style=\"color: #008000; text-decoration-color: #008000\">'Frequency Adverbs (Ages 7 - 9)'</span>,\n",
       "    <span style=\"color: #008000; text-decoration-color: #008000\">'Frequency Adverbs (Ages 8 - 10)'</span>,\n",
       "    <span style=\"color: #008000; text-decoration-color: #008000\">'Friends and Friendship (Ages 7 - 9)'</span>,\n",
       "    <span style=\"color: #008000; text-decoration-color: #008000\">'Friends and Friendship (Ages 8 - 10)'</span>,\n",
       "    <span style=\"color: #008000; text-decoration-color: #008000\">'Fund Your Ideas with Kickstarter'</span>,\n",
       "    <span style=\"color: #008000; text-decoration-color: #008000\">'Galaxy'</span>,\n",
       "    <span style=\"color: #008000; text-decoration-color: #008000\">'How to Be a Cat'</span>,\n",
       "    <span style=\"color: #008000; text-decoration-color: #008000\">'Jobs &amp; Jokes'</span>,\n",
       "    <span style=\"color: #008000; text-decoration-color: #008000\">'Kid-preneur'</span>,\n",
       "    <span style=\"color: #008000; text-decoration-color: #008000\">'MOVE with Nadira'</span>,\n",
       "    <span style=\"color: #008000; text-decoration-color: #008000\">'Make Fashion '</span>,\n",
       "    <span style=\"color: #008000; text-decoration-color: #008000\">'Mandarin: Greetings + Pinyin '</span>,\n",
       "    <span style=\"color: #008000; text-decoration-color: #008000\">'Mars Town'</span>,\n",
       "    <span style=\"color: #008000; text-decoration-color: #008000\">'Materials and Mixtures'</span>,\n",
       "    <span style=\"color: #008000; text-decoration-color: #008000\">'Mindfulness and 5 Senses'</span>,\n",
       "    <span style=\"color: #008000; text-decoration-color: #008000\">'Mr. K Builds'</span>,\n",
       "    <span style=\"color: #008000; text-decoration-color: #008000\">'Not Your Typical Egg '</span>,\n",
       "    <span style=\"color: #008000; text-decoration-color: #008000\">'Nova Crafteria (Volume.1)'</span>,\n",
       "    <span style=\"color: #008000; text-decoration-color: #008000\">'ORIGAMI with YB'</span>,\n",
       "    <span style=\"color: #008000; text-decoration-color: #008000\">'Our Environment'</span>,\n",
       "    <span style=\"color: #008000; text-decoration-color: #008000\">'Plant Literacy'</span>,\n",
       "    <span style=\"color: #008000; text-decoration-color: #008000\">'Pre-Assessment 1 (Kindergarten - Grade 2)'</span>,\n",
       "    <span style=\"color: #008000; text-decoration-color: #008000\">'Pre-Assessment 2 (Grade 3-4)'</span>,\n",
       "    <span style=\"color: #008000; text-decoration-color: #008000\">'Printmaking'</span>,\n",
       "    <span style=\"color: #008000; text-decoration-color: #008000\">'Procreate'</span>,\n",
       "    <span style=\"color: #008000; text-decoration-color: #008000\">'Procreate for beginners'</span>,\n",
       "    <span style=\"color: #008000; text-decoration-color: #008000\">'Rice Trip'</span>,\n",
       "    <span style=\"color: #008000; text-decoration-color: #008000\">'Scientific Illustration'</span>,\n",
       "    <span style=\"color: #008000; text-decoration-color: #008000\">'Self-Portraits &amp; Portraits'</span>,\n",
       "    <span style=\"color: #008000; text-decoration-color: #008000\">'Special &amp; Unique Music Instruments'</span>,\n",
       "    <span style=\"color: #008000; text-decoration-color: #008000\">'Sprouting Your Finance'</span>,\n",
       "    <span style=\"color: #008000; text-decoration-color: #008000\">'Stop Motion Animation with Ort!'</span>,\n",
       "    <span style=\"color: #008000; text-decoration-color: #008000\">'Taking Flight!'</span>,\n",
       "    <span style=\"color: #008000; text-decoration-color: #008000\">'Technology Awareness &amp; Internet Safety '</span>,\n",
       "    <span style=\"color: #008000; text-decoration-color: #008000\">'The Magic of Music'</span>,\n",
       "    <span style=\"color: #008000; text-decoration-color: #008000\">'The Science of Curiosity'</span>,\n",
       "    <span style=\"color: #008000; text-decoration-color: #008000\">'Time, Days, Months, Seasons'</span>,\n",
       "    <span style=\"color: #008000; text-decoration-color: #008000\">'Time, Days, Months, and Seasons'</span>,\n",
       "    <span style=\"color: #008000; text-decoration-color: #008000\">'Wow! Toys. You are old!'</span>,\n",
       "    <span style=\"color: #008000; text-decoration-color: #008000\">'Yoga Safari'</span>,\n",
       "    <span style=\"color: #008000; text-decoration-color: #008000\">'delete'</span>,\n",
       "    <span style=\"color: #008000; text-decoration-color: #008000\">'test4'</span>\n",
       "<span style=\"font-weight: bold\">]</span>\n",
       "</pre>\n"
      ],
      "text/plain": [
       "\n",
       "\u001b[1m[\u001b[0m\n",
       "    \u001b[32m'Actions and Activities of Feelings \u001b[0m\u001b[32m(\u001b[0m\u001b[32mAges 7-9\u001b[0m\u001b[32m)\u001b[0m\u001b[32m'\u001b[0m,\n",
       "    \u001b[32m'Actions and Activities of Feelings \u001b[0m\u001b[32m(\u001b[0m\u001b[32mAges 8-10\u001b[0m\u001b[32m)\u001b[0m\u001b[32m'\u001b[0m,\n",
       "    \u001b[32m'Animal Universe'\u001b[0m,\n",
       "    \u001b[32m'Art Appreciation'\u001b[0m,\n",
       "    \u001b[32m'Art with Found Objects'\u001b[0m,\n",
       "    \u001b[32m'Basic Character Design For Everyone'\u001b[0m,\n",
       "    \u001b[32m'Breakfast Around the World'\u001b[0m,\n",
       "    \u001b[32m'Coding Video Games and Fighting Space Food'\u001b[0m,\n",
       "    \u001b[32m'Collage As Composition: Collage in Painting'\u001b[0m,\n",
       "    \u001b[32m'Collage as Composition: Digital Media'\u001b[0m,\n",
       "    \u001b[32m'Collage as Composition: Traditional Media'\u001b[0m,\n",
       "    \u001b[32m'Creative Photography'\u001b[0m,\n",
       "    \u001b[32m'Culture and Identity in Art'\u001b[0m,\n",
       "    \u001b[32m'Curiosity Rocks'\u001b[0m,\n",
       "    \u001b[32m'Daily Routines Age 7-9'\u001b[0m,\n",
       "    \u001b[32m'Daily Routines Age 8-10'\u001b[0m,\n",
       "    \u001b[32m'Digital Drawing 1: Astronaut Phone Case'\u001b[0m,\n",
       "    \u001b[32m'Dusty Town'\u001b[0m,\n",
       "    \u001b[32m'Earth Science \u001b[0m\u001b[32m(\u001b[0m\u001b[32mHow the Earth Smiles and Laughs\u001b[0m\u001b[32m)\u001b[0m\u001b[32m'\u001b[0m,\n",
       "    \u001b[32m'Eco-Communities'\u001b[0m,\n",
       "    \u001b[32m'Elements of Art'\u001b[0m,\n",
       "    \u001b[32m'Family Members and Relatives \u001b[0m\u001b[32m(\u001b[0m\u001b[32mAges 7 - 9\u001b[0m\u001b[32m)\u001b[0m\u001b[32m'\u001b[0m,\n",
       "    \u001b[32m'Family Members and Relatives \u001b[0m\u001b[32m(\u001b[0m\u001b[32mAges 8-10\u001b[0m\u001b[32m)\u001b[0m\u001b[32m'\u001b[0m,\n",
       "    \u001b[32m'Feelings and Emotions \u001b[0m\u001b[32m(\u001b[0m\u001b[32mAges 7 - 9\u001b[0m\u001b[32m)\u001b[0m\u001b[32m'\u001b[0m,\n",
       "    \u001b[32m'Feelings and Emotions \u001b[0m\u001b[32m(\u001b[0m\u001b[32mAges 8 - 10\u001b[0m\u001b[32m)\u001b[0m\u001b[32m'\u001b[0m,\n",
       "    \u001b[32m'Forces'\u001b[0m,\n",
       "    \u001b[32m'Frequency Adverbs \u001b[0m\u001b[32m(\u001b[0m\u001b[32mAges 7 - 9\u001b[0m\u001b[32m)\u001b[0m\u001b[32m'\u001b[0m,\n",
       "    \u001b[32m'Frequency Adverbs \u001b[0m\u001b[32m(\u001b[0m\u001b[32mAges 8 - 10\u001b[0m\u001b[32m)\u001b[0m\u001b[32m'\u001b[0m,\n",
       "    \u001b[32m'Friends and Friendship \u001b[0m\u001b[32m(\u001b[0m\u001b[32mAges 7 - 9\u001b[0m\u001b[32m)\u001b[0m\u001b[32m'\u001b[0m,\n",
       "    \u001b[32m'Friends and Friendship \u001b[0m\u001b[32m(\u001b[0m\u001b[32mAges 8 - 10\u001b[0m\u001b[32m)\u001b[0m\u001b[32m'\u001b[0m,\n",
       "    \u001b[32m'Fund Your Ideas with Kickstarter'\u001b[0m,\n",
       "    \u001b[32m'Galaxy'\u001b[0m,\n",
       "    \u001b[32m'How to Be a Cat'\u001b[0m,\n",
       "    \u001b[32m'Jobs & Jokes'\u001b[0m,\n",
       "    \u001b[32m'Kid-preneur'\u001b[0m,\n",
       "    \u001b[32m'MOVE with Nadira'\u001b[0m,\n",
       "    \u001b[32m'Make Fashion '\u001b[0m,\n",
       "    \u001b[32m'Mandarin: Greetings + Pinyin '\u001b[0m,\n",
       "    \u001b[32m'Mars Town'\u001b[0m,\n",
       "    \u001b[32m'Materials and Mixtures'\u001b[0m,\n",
       "    \u001b[32m'Mindfulness and 5 Senses'\u001b[0m,\n",
       "    \u001b[32m'Mr. K Builds'\u001b[0m,\n",
       "    \u001b[32m'Not Your Typical Egg '\u001b[0m,\n",
       "    \u001b[32m'Nova Crafteria \u001b[0m\u001b[32m(\u001b[0m\u001b[32mVolume.1\u001b[0m\u001b[32m)\u001b[0m\u001b[32m'\u001b[0m,\n",
       "    \u001b[32m'ORIGAMI with YB'\u001b[0m,\n",
       "    \u001b[32m'Our Environment'\u001b[0m,\n",
       "    \u001b[32m'Plant Literacy'\u001b[0m,\n",
       "    \u001b[32m'Pre-Assessment 1 \u001b[0m\u001b[32m(\u001b[0m\u001b[32mKindergarten - Grade 2\u001b[0m\u001b[32m)\u001b[0m\u001b[32m'\u001b[0m,\n",
       "    \u001b[32m'Pre-Assessment 2 \u001b[0m\u001b[32m(\u001b[0m\u001b[32mGrade 3-4\u001b[0m\u001b[32m)\u001b[0m\u001b[32m'\u001b[0m,\n",
       "    \u001b[32m'Printmaking'\u001b[0m,\n",
       "    \u001b[32m'Procreate'\u001b[0m,\n",
       "    \u001b[32m'Procreate for beginners'\u001b[0m,\n",
       "    \u001b[32m'Rice Trip'\u001b[0m,\n",
       "    \u001b[32m'Scientific Illustration'\u001b[0m,\n",
       "    \u001b[32m'Self-Portraits & Portraits'\u001b[0m,\n",
       "    \u001b[32m'Special & Unique Music Instruments'\u001b[0m,\n",
       "    \u001b[32m'Sprouting Your Finance'\u001b[0m,\n",
       "    \u001b[32m'Stop Motion Animation with Ort!'\u001b[0m,\n",
       "    \u001b[32m'Taking Flight!'\u001b[0m,\n",
       "    \u001b[32m'Technology Awareness & Internet Safety '\u001b[0m,\n",
       "    \u001b[32m'The Magic of Music'\u001b[0m,\n",
       "    \u001b[32m'The Science of Curiosity'\u001b[0m,\n",
       "    \u001b[32m'Time, Days, Months, Seasons'\u001b[0m,\n",
       "    \u001b[32m'Time, Days, Months, and Seasons'\u001b[0m,\n",
       "    \u001b[32m'Wow! Toys. You are old!'\u001b[0m,\n",
       "    \u001b[32m'Yoga Safari'\u001b[0m,\n",
       "    \u001b[32m'delete'\u001b[0m,\n",
       "    \u001b[32m'test4'\u001b[0m\n",
       "\u001b[1m]\u001b[0m\n"
      ]
     },
     "metadata": {},
     "output_type": "display_data"
    }
   ],
   "source": [
    "# List of Published Courses\n",
    "sorted(course_id.title.unique())"
   ]
  },
  {
   "cell_type": "code",
   "execution_count": 7,
   "metadata": {},
   "outputs": [
    {
     "data": {
      "text/html": [
       "<pre style=\"white-space:pre;overflow-x:auto;line-height:normal;font-family:Menlo,'DejaVu Sans Mono',consolas,'Courier New',monospace\">\n",
       "<span style=\"font-weight: bold\">[</span>\n",
       "    <span style=\"color: #008000; text-decoration-color: #008000\">'fefed772-c1ff-49ff-b774-fbf072bc99f5'</span>,\n",
       "    <span style=\"color: #008000; text-decoration-color: #008000\">'4d2275d8-6bf5-4a21-afa8-eb25fadc3163'</span>,\n",
       "    <span style=\"color: #008000; text-decoration-color: #008000\">'3e954b8e-6b55-4693-b7a7-81c1a6173180'</span>,\n",
       "    <span style=\"color: #008000; text-decoration-color: #008000\">'803e00ea-72b2-4792-b6d8-a4521bb38d93'</span>,\n",
       "    <span style=\"color: #008000; text-decoration-color: #008000\">'efba8455-8444-4d7c-bfb9-73b8bf13a9ed'</span>\n",
       "<span style=\"font-weight: bold\">]</span>\n",
       "</pre>\n"
      ],
      "text/plain": [
       "\n",
       "\u001b[1m[\u001b[0m\n",
       "    \u001b[32m'fefed772-c1ff-49ff-b774-fbf072bc99f5'\u001b[0m,\n",
       "    \u001b[32m'4d2275d8-6bf5-4a21-afa8-eb25fadc3163'\u001b[0m,\n",
       "    \u001b[32m'3e954b8e-6b55-4693-b7a7-81c1a6173180'\u001b[0m,\n",
       "    \u001b[32m'803e00ea-72b2-4792-b6d8-a4521bb38d93'\u001b[0m,\n",
       "    \u001b[32m'efba8455-8444-4d7c-bfb9-73b8bf13a9ed'\u001b[0m\n",
       "\u001b[1m]\u001b[0m\n"
      ]
     },
     "metadata": {},
     "output_type": "display_data"
    }
   ],
   "source": [
    "# N students with enrolment\n",
    "unenrolled_course_id = list(set(course_id.id.unique() )- set(enrolled_course.id.unique())) \n",
    "unenrolled_course_id"
   ]
  },
  {
   "cell_type": "code",
   "execution_count": 8,
   "metadata": {},
   "outputs": [
    {
     "name": "stdout",
     "output_type": "stream",
     "text": [
      "[{\"type\":\"paragraph\",\"children\":[{\"text\":\"Besides vocabulary, students will learn how to describe times of day, days of the week, months of year, and seasons. Students will be challenged to read longer texts and understand detailed information using the features of nonfiction.\"}]},{\"type\":\"paragraph\",\"children\":[{\"text\":\"\"}]}]\n",
      " \n",
      "[{\"type\":\"paragraph\",\"children\":[{\"text\":\"Join Mr. Miguel and Ort in discovering space - sun, stars and the different kinds of galaxies.\"}]}]\n",
      " \n",
      "[{\"type\":\"paragraph\",\"children\":[{\"text\":\"tkjnk\"}]}]\n",
      " \n",
      "[{\"type\":\"paragraph\",\"children\":[{\"text\":\"lkmnlk\"}]}]\n",
      " \n",
      "[{\"type\":\"paragraph\",\"children\":[{\"text\":\"After learning how to create your own collage from previous courses, let's dive straight into painting them! In this course, learn about painting surfaces, mixing paint, and colour theory.\"}]}]\n"
     ]
    }
   ],
   "source": [
    "unenrolled_course = course_id[course_id['id'].str.contains('|'.join(unenrolled_course_id))]\n",
    "print('\\n \\n'.join(unenrolled_course.description))"
   ]
  },
  {
   "cell_type": "code",
   "execution_count": 9,
   "metadata": {},
   "outputs": [
    {
     "data": {
      "text/html": [
       "<div>\n",
       "<style scoped>\n",
       "    .dataframe tbody tr th:only-of-type {\n",
       "        vertical-align: middle;\n",
       "    }\n",
       "\n",
       "    .dataframe tbody tr th {\n",
       "        vertical-align: top;\n",
       "    }\n",
       "\n",
       "    .dataframe thead th {\n",
       "        text-align: right;\n",
       "    }\n",
       "</style>\n",
       "<table border=\"1\" class=\"dataframe\">\n",
       "  <thead>\n",
       "    <tr style=\"text-align: right;\">\n",
       "      <th></th>\n",
       "      <th>id</th>\n",
       "      <th>title</th>\n",
       "      <th>description</th>\n",
       "      <th>thumbnailId</th>\n",
       "      <th>teacherId</th>\n",
       "      <th>published</th>\n",
       "      <th>level</th>\n",
       "      <th>categoryId</th>\n",
       "      <th>tags</th>\n",
       "      <th>createdAt</th>\n",
       "      <th>updatedAt</th>\n",
       "      <th>state</th>\n",
       "      <th>duration</th>\n",
       "      <th>deleted</th>\n",
       "      <th>rating</th>\n",
       "    </tr>\n",
       "  </thead>\n",
       "  <tbody>\n",
       "    <tr>\n",
       "      <th>1</th>\n",
       "      <td>fefed772-c1ff-49ff-b774-fbf072bc99f5</td>\n",
       "      <td>Time, Days, Months, and Seasons</td>\n",
       "      <td>[{\"type\":\"paragraph\",\"children\":[{\"text\":\"Besi...</td>\n",
       "      <td>9ab74b71-db05-4871-8727-36f92dbd2b23</td>\n",
       "      <td>0f123eba-dbcf-40f2-ad46-7197e803050c</td>\n",
       "      <td>t</td>\n",
       "      <td>BEGINNER</td>\n",
       "      <td>12dbff6a-1b54-4fe7-a1b3-ccd8986fa8a2</td>\n",
       "      <td>NaN</td>\n",
       "      <td>2023-01-02 04:32:57.682</td>\n",
       "      <td>2023-04-19 04:51:54.451</td>\n",
       "      <td>PUBLISHED</td>\n",
       "      <td>40</td>\n",
       "      <td>NaN</td>\n",
       "      <td>0.0</td>\n",
       "    </tr>\n",
       "    <tr>\n",
       "      <th>5</th>\n",
       "      <td>efba8455-8444-4d7c-bfb9-73b8bf13a9ed</td>\n",
       "      <td>Galaxy</td>\n",
       "      <td>[{\"type\":\"paragraph\",\"children\":[{\"text\":\"Join...</td>\n",
       "      <td>58e2f8f4-6370-47cf-9689-eda4a9c3bb36</td>\n",
       "      <td>016e7964-bd0c-46ff-a494-ac41ad1206f2</td>\n",
       "      <td>t</td>\n",
       "      <td>BEGINNER</td>\n",
       "      <td>af0acd8b-bd89-4a14-b002-786e97e06884</td>\n",
       "      <td>NaN</td>\n",
       "      <td>2023-04-12 17:59:44.637</td>\n",
       "      <td>2023-05-17 10:02:46.899</td>\n",
       "      <td>PUBLISHED</td>\n",
       "      <td>31</td>\n",
       "      <td>NaN</td>\n",
       "      <td>0.0</td>\n",
       "    </tr>\n",
       "    <tr>\n",
       "      <th>34</th>\n",
       "      <td>803e00ea-72b2-4792-b6d8-a4521bb38d93</td>\n",
       "      <td>delete</td>\n",
       "      <td>[{\"type\":\"paragraph\",\"children\":[{\"text\":\"tkjn...</td>\n",
       "      <td>NaN</td>\n",
       "      <td>abfa314f-c609-4373-a9a9-78e70c7e5c90</td>\n",
       "      <td>t</td>\n",
       "      <td>BEGINNER</td>\n",
       "      <td>463b1b0c-fc48-4ab0-9b58-cbc55360d39e</td>\n",
       "      <td>NaN</td>\n",
       "      <td>2022-07-13 03:34:20.636</td>\n",
       "      <td>2022-07-13 03:35:09.794</td>\n",
       "      <td>PUBLISHED</td>\n",
       "      <td>10</td>\n",
       "      <td>2022-07-13 03:35:09.793</td>\n",
       "      <td>0.0</td>\n",
       "    </tr>\n",
       "    <tr>\n",
       "      <th>52</th>\n",
       "      <td>4d2275d8-6bf5-4a21-afa8-eb25fadc3163</td>\n",
       "      <td>delete</td>\n",
       "      <td>[{\"type\":\"paragraph\",\"children\":[{\"text\":\"lkmn...</td>\n",
       "      <td>NaN</td>\n",
       "      <td>abfa314f-c609-4373-a9a9-78e70c7e5c90</td>\n",
       "      <td>t</td>\n",
       "      <td>BEGINNER</td>\n",
       "      <td>463b1b0c-fc48-4ab0-9b58-cbc55360d39e</td>\n",
       "      <td>NaN</td>\n",
       "      <td>2022-07-13 03:37:29.556</td>\n",
       "      <td>2022-07-13 03:39:13.208</td>\n",
       "      <td>PUBLISHED</td>\n",
       "      <td>10</td>\n",
       "      <td>2022-07-13 03:39:13.207</td>\n",
       "      <td>0.0</td>\n",
       "    </tr>\n",
       "    <tr>\n",
       "      <th>60</th>\n",
       "      <td>3e954b8e-6b55-4693-b7a7-81c1a6173180</td>\n",
       "      <td>Collage As Composition: Collage in Painting</td>\n",
       "      <td>[{\"type\":\"paragraph\",\"children\":[{\"text\":\"Afte...</td>\n",
       "      <td>1cc1656d-908d-4b9b-90e9-50f731a08fdd</td>\n",
       "      <td>cac18af4-fab3-40d8-8aa2-1ab4ea0296cb</td>\n",
       "      <td>t</td>\n",
       "      <td>BEGINNER</td>\n",
       "      <td>463b1b0c-fc48-4ab0-9b58-cbc55360d39e</td>\n",
       "      <td>NaN</td>\n",
       "      <td>2022-04-04 05:48:02.562</td>\n",
       "      <td>2023-02-07 05:10:45.832</td>\n",
       "      <td>PUBLISHED</td>\n",
       "      <td>30</td>\n",
       "      <td>NaN</td>\n",
       "      <td>0.0</td>\n",
       "    </tr>\n",
       "  </tbody>\n",
       "</table>\n",
       "</div>"
      ]
     },
     "execution_count": 9,
     "metadata": {},
     "output_type": "execute_result"
    }
   ],
   "source": [
    "unenrolled_course"
   ]
  },
  {
   "cell_type": "code",
   "execution_count": 10,
   "metadata": {},
   "outputs": [
    {
     "data": {
      "text/html": [
       "<pre style=\"white-space:pre;overflow-x:auto;line-height:normal;font-family:Menlo,'DejaVu Sans Mono',consolas,'Courier New',monospace\"><span style=\"color: #008080; text-decoration-color: #008080; font-weight: bold\">0</span>\n",
       "</pre>\n"
      ],
      "text/plain": [
       "\u001b[1;36m0\u001b[0m\n"
      ]
     },
     "metadata": {},
     "output_type": "display_data"
    }
   ],
   "source": [
    "# Check if Galaxy has enrolment\n",
    "galaxy_id = course_id[course_id['title'] == 'Galaxy']['id'].to_string().split('    ')[1]\n",
    "galaxy_id\n",
    "\n",
    "family_friends_id_79 = course_id[course_id['title'] == 'Family Members and Relatives (Ages 7 - 9)']['id'].to_string().split('    ')[1]\n",
    "\n",
    "galaxy_enrolled_course = enrolled_course[enrolled_course['id'] == str(galaxy_id)]\n",
    "galaxy_enrolled_course\n",
    "\n",
    "# Number of students enrolled\n",
    "ffriends_79 = enrolled_course[enrolled_course['id'] == str(family_friends_id_79)]\n",
    "len(ffriends_79)\n",
    "len(galaxy_enrolled_course)"
   ]
  },
  {
   "cell_type": "code",
   "execution_count": 41,
   "metadata": {},
   "outputs": [
    {
     "data": {
      "text/html": [
       "<div>\n",
       "<style scoped>\n",
       "    .dataframe tbody tr th:only-of-type {\n",
       "        vertical-align: middle;\n",
       "    }\n",
       "\n",
       "    .dataframe tbody tr th {\n",
       "        vertical-align: top;\n",
       "    }\n",
       "\n",
       "    .dataframe thead th {\n",
       "        text-align: right;\n",
       "    }\n",
       "</style>\n",
       "<table border=\"1\" class=\"dataframe\">\n",
       "  <thead>\n",
       "    <tr style=\"text-align: right;\">\n",
       "      <th></th>\n",
       "      <th>courses</th>\n",
       "      <th>n</th>\n",
       "    </tr>\n",
       "  </thead>\n",
       "  <tbody>\n",
       "    <tr>\n",
       "      <th>0</th>\n",
       "      <td>439254a8-213b-4afe-899e-dbe6106f220a</td>\n",
       "      <td>94</td>\n",
       "    </tr>\n",
       "    <tr>\n",
       "      <th>1</th>\n",
       "      <td>aaec8206-1e59-450b-ab0b-89097d4489c8</td>\n",
       "      <td>82</td>\n",
       "    </tr>\n",
       "    <tr>\n",
       "      <th>2</th>\n",
       "      <td>a2ed8c81-0df1-42bb-b34e-94d4e64308bf</td>\n",
       "      <td>80</td>\n",
       "    </tr>\n",
       "    <tr>\n",
       "      <th>3</th>\n",
       "      <td>e745c005-9ffc-478b-8c62-c6a79547dd62</td>\n",
       "      <td>77</td>\n",
       "    </tr>\n",
       "    <tr>\n",
       "      <th>4</th>\n",
       "      <td>17c3e9a5-1c6a-4d94-8b31-13add2c19ab5</td>\n",
       "      <td>71</td>\n",
       "    </tr>\n",
       "    <tr>\n",
       "      <th>5</th>\n",
       "      <td>e98e1ee3-235c-478c-9512-bd1f2a0f8254</td>\n",
       "      <td>70</td>\n",
       "    </tr>\n",
       "    <tr>\n",
       "      <th>6</th>\n",
       "      <td>a6a557c1-2d67-4b92-bb70-2631cf3998c1</td>\n",
       "      <td>69</td>\n",
       "    </tr>\n",
       "    <tr>\n",
       "      <th>7</th>\n",
       "      <td>797732f2-93ea-4b1a-a290-44a6969e1380</td>\n",
       "      <td>64</td>\n",
       "    </tr>\n",
       "    <tr>\n",
       "      <th>8</th>\n",
       "      <td>5ebca7e6-9b62-4d80-aa0e-2ab6f35112d4</td>\n",
       "      <td>63</td>\n",
       "    </tr>\n",
       "    <tr>\n",
       "      <th>9</th>\n",
       "      <td>58e0dc59-8c69-48ed-adce-ef89be8ff89d</td>\n",
       "      <td>63</td>\n",
       "    </tr>\n",
       "  </tbody>\n",
       "</table>\n",
       "</div>"
      ]
     },
     "execution_count": 41,
     "metadata": {},
     "output_type": "execute_result"
    }
   ],
   "source": [
    "# Most Enrolled Courses\n",
    "n_enrol_by_course = enrolled_course.id.value_counts().to_frame().reset_index(drop=False)\n",
    "n_enrol_by_course.columns = ['courses', 'n']\n",
    "top10_course = n_enrol_by_course.sort_values(by=['n'], ascending=False).head(10)\n",
    "top10_course"
   ]
  },
  {
   "cell_type": "code",
   "execution_count": 42,
   "metadata": {},
   "outputs": [
    {
     "data": {
      "text/html": [
       "<pre style=\"white-space:pre;overflow-x:auto;line-height:normal;font-family:Menlo,'DejaVu Sans Mono',consolas,'Courier New',monospace\">\n",
       "<span style=\"font-weight: bold\">{</span>\n",
       "    <span style=\"color: #008000; text-decoration-color: #008000\">'e98e1ee3-235c-478c-9512-bd1f2a0f8254'</span>: <span style=\"color: #008000; text-decoration-color: #008000\">'Mindfulness and 5 Senses'</span>,\n",
       "    <span style=\"color: #008000; text-decoration-color: #008000\">'e745c005-9ffc-478b-8c62-c6a79547dd62'</span>: <span style=\"color: #008000; text-decoration-color: #008000\">'Nova Crafteria (Volume.1)'</span>,\n",
       "    <span style=\"color: #008000; text-decoration-color: #008000\">'aaec8206-1e59-450b-ab0b-89097d4489c8'</span>: <span style=\"color: #008000; text-decoration-color: #008000\">'Technology Awareness &amp; Internet Safety '</span>,\n",
       "    <span style=\"color: #008000; text-decoration-color: #008000\">'a6a557c1-2d67-4b92-bb70-2631cf3998c1'</span>: <span style=\"color: #008000; text-decoration-color: #008000\">'Feelings and Emotions (Ages 7 - 9)'</span>,\n",
       "    <span style=\"color: #008000; text-decoration-color: #008000\">'a2ed8c81-0df1-42bb-b34e-94d4e64308bf'</span>: <span style=\"color: #008000; text-decoration-color: #008000\">'Rice Trip'</span>,\n",
       "    <span style=\"color: #008000; text-decoration-color: #008000\">'797732f2-93ea-4b1a-a290-44a6969e1380'</span>: <span style=\"color: #008000; text-decoration-color: #008000\">'Pre-Assessment 2 (Grade 3-4)'</span>,\n",
       "    <span style=\"color: #008000; text-decoration-color: #008000\">'5ebca7e6-9b62-4d80-aa0e-2ab6f35112d4'</span>: <span style=\"color: #008000; text-decoration-color: #008000\">'Wow! Toys. You are old!'</span>,\n",
       "    <span style=\"color: #008000; text-decoration-color: #008000\">'58e0dc59-8c69-48ed-adce-ef89be8ff89d'</span>: <span style=\"color: #008000; text-decoration-color: #008000\">'Actions and Activities of Feelings (Ages 8-10)'</span>,\n",
       "    <span style=\"color: #008000; text-decoration-color: #008000\">'439254a8-213b-4afe-899e-dbe6106f220a'</span>: <span style=\"color: #008000; text-decoration-color: #008000\">'Feelings and Emotions (Ages 8 - 10)'</span>,\n",
       "    <span style=\"color: #008000; text-decoration-color: #008000\">'17c3e9a5-1c6a-4d94-8b31-13add2c19ab5'</span>: <span style=\"color: #008000; text-decoration-color: #008000\">'Not Your Typical Egg '</span>\n",
       "<span style=\"font-weight: bold\">}</span>\n",
       "</pre>\n"
      ],
      "text/plain": [
       "\n",
       "\u001b[1m{\u001b[0m\n",
       "    \u001b[32m'e98e1ee3-235c-478c-9512-bd1f2a0f8254'\u001b[0m: \u001b[32m'Mindfulness and 5 Senses'\u001b[0m,\n",
       "    \u001b[32m'e745c005-9ffc-478b-8c62-c6a79547dd62'\u001b[0m: \u001b[32m'Nova Crafteria \u001b[0m\u001b[32m(\u001b[0m\u001b[32mVolume.1\u001b[0m\u001b[32m)\u001b[0m\u001b[32m'\u001b[0m,\n",
       "    \u001b[32m'aaec8206-1e59-450b-ab0b-89097d4489c8'\u001b[0m: \u001b[32m'Technology Awareness & Internet Safety '\u001b[0m,\n",
       "    \u001b[32m'a6a557c1-2d67-4b92-bb70-2631cf3998c1'\u001b[0m: \u001b[32m'Feelings and Emotions \u001b[0m\u001b[32m(\u001b[0m\u001b[32mAges 7 - 9\u001b[0m\u001b[32m)\u001b[0m\u001b[32m'\u001b[0m,\n",
       "    \u001b[32m'a2ed8c81-0df1-42bb-b34e-94d4e64308bf'\u001b[0m: \u001b[32m'Rice Trip'\u001b[0m,\n",
       "    \u001b[32m'797732f2-93ea-4b1a-a290-44a6969e1380'\u001b[0m: \u001b[32m'Pre-Assessment 2 \u001b[0m\u001b[32m(\u001b[0m\u001b[32mGrade 3-4\u001b[0m\u001b[32m)\u001b[0m\u001b[32m'\u001b[0m,\n",
       "    \u001b[32m'5ebca7e6-9b62-4d80-aa0e-2ab6f35112d4'\u001b[0m: \u001b[32m'Wow! Toys. You are old!'\u001b[0m,\n",
       "    \u001b[32m'58e0dc59-8c69-48ed-adce-ef89be8ff89d'\u001b[0m: \u001b[32m'Actions and Activities of Feelings \u001b[0m\u001b[32m(\u001b[0m\u001b[32mAges 8-10\u001b[0m\u001b[32m)\u001b[0m\u001b[32m'\u001b[0m,\n",
       "    \u001b[32m'439254a8-213b-4afe-899e-dbe6106f220a'\u001b[0m: \u001b[32m'Feelings and Emotions \u001b[0m\u001b[32m(\u001b[0m\u001b[32mAges 8 - 10\u001b[0m\u001b[32m)\u001b[0m\u001b[32m'\u001b[0m,\n",
       "    \u001b[32m'17c3e9a5-1c6a-4d94-8b31-13add2c19ab5'\u001b[0m: \u001b[32m'Not Your Typical Egg '\u001b[0m\n",
       "\u001b[1m}\u001b[0m\n"
      ]
     },
     "metadata": {},
     "output_type": "display_data"
    }
   ],
   "source": [
    "# Enrolled Course\n",
    "courses_id = top10_course.courses.unique().tolist()\n",
    "courses_id\n",
    "\n",
    "# name of courses\n",
    "top5_courses = course_id[course_id['id'].str.contains('|'.join(courses_id))][['id','title']]\n",
    "top5_courses\n",
    "\n",
    "courses_dict = {}\n",
    "top5_courses = top5_courses.set_index('id')['title'].to_dict()\n",
    "top5_courses"
   ]
  },
  {
   "cell_type": "code",
   "execution_count": 45,
   "metadata": {},
   "outputs": [
    {
     "data": {
      "text/html": [
       "<div>\n",
       "<style scoped>\n",
       "    .dataframe tbody tr th:only-of-type {\n",
       "        vertical-align: middle;\n",
       "    }\n",
       "\n",
       "    .dataframe tbody tr th {\n",
       "        vertical-align: top;\n",
       "    }\n",
       "\n",
       "    .dataframe thead th {\n",
       "        text-align: right;\n",
       "    }\n",
       "</style>\n",
       "<table border=\"1\" class=\"dataframe\">\n",
       "  <thead>\n",
       "    <tr style=\"text-align: right;\">\n",
       "      <th></th>\n",
       "      <th>id</th>\n",
       "      <th>studentId</th>\n",
       "      <th>createdAt</th>\n",
       "      <th>updatedAt</th>\n",
       "      <th>state</th>\n",
       "      <th>progress</th>\n",
       "      <th>lastTimeChecked</th>\n",
       "      <th>course</th>\n",
       "    </tr>\n",
       "  </thead>\n",
       "  <tbody>\n",
       "    <tr>\n",
       "      <th>0</th>\n",
       "      <td>e98e1ee3-235c-478c-9512-bd1f2a0f8254</td>\n",
       "      <td>c23d6e95-ceaa-4321-bb48-43aa673656f4</td>\n",
       "      <td>2022-05-06 03:42:29.948</td>\n",
       "      <td>2022-05-06 03:42:29.949</td>\n",
       "      <td>NOT_STARTED</td>\n",
       "      <td>0</td>\n",
       "      <td>NaN</td>\n",
       "      <td>Mindfulness and 5 Senses</td>\n",
       "    </tr>\n",
       "    <tr>\n",
       "      <th>1</th>\n",
       "      <td>e98e1ee3-235c-478c-9512-bd1f2a0f8254</td>\n",
       "      <td>067ca533-d4d6-45a0-a15b-20920fc66e9d</td>\n",
       "      <td>2022-06-20 13:29:53.612</td>\n",
       "      <td>2022-06-20 13:29:53.612</td>\n",
       "      <td>NOT_STARTED</td>\n",
       "      <td>0</td>\n",
       "      <td>NaN</td>\n",
       "      <td>Mindfulness and 5 Senses</td>\n",
       "    </tr>\n",
       "    <tr>\n",
       "      <th>2</th>\n",
       "      <td>e98e1ee3-235c-478c-9512-bd1f2a0f8254</td>\n",
       "      <td>3e57314c-4be1-41cd-b2e4-83ba9257750d</td>\n",
       "      <td>2022-06-07 04:39:24.352</td>\n",
       "      <td>2022-06-07 04:43:32.327</td>\n",
       "      <td>INCOMPLETE</td>\n",
       "      <td>21</td>\n",
       "      <td>2022-06-07 04:43:32.326</td>\n",
       "      <td>Mindfulness and 5 Senses</td>\n",
       "    </tr>\n",
       "    <tr>\n",
       "      <th>3</th>\n",
       "      <td>e98e1ee3-235c-478c-9512-bd1f2a0f8254</td>\n",
       "      <td>64b67563-d51c-47d1-a615-0f6e88bf8835</td>\n",
       "      <td>2022-10-23 11:31:03.63</td>\n",
       "      <td>2022-10-23 11:31:03.63</td>\n",
       "      <td>NOT_STARTED</td>\n",
       "      <td>0</td>\n",
       "      <td>NaN</td>\n",
       "      <td>Mindfulness and 5 Senses</td>\n",
       "    </tr>\n",
       "    <tr>\n",
       "      <th>4</th>\n",
       "      <td>e98e1ee3-235c-478c-9512-bd1f2a0f8254</td>\n",
       "      <td>a2ee63ba-00d6-41d2-a8d7-808ce4fa46c8</td>\n",
       "      <td>2022-10-21 09:02:37.329</td>\n",
       "      <td>2022-10-21 09:02:40.604</td>\n",
       "      <td>INCOMPLETE</td>\n",
       "      <td>7</td>\n",
       "      <td>2022-10-21 09:02:40.603</td>\n",
       "      <td>Mindfulness and 5 Senses</td>\n",
       "    </tr>\n",
       "  </tbody>\n",
       "</table>\n",
       "</div>"
      ]
     },
     "execution_count": 45,
     "metadata": {},
     "output_type": "execute_result"
    }
   ],
   "source": [
    "# Mapping Enrolled ID to Enrolled Course, Filter top10 enrolled courses\n",
    "enrolled_course_top5 = enrolled_course[enrolled_course['id'].str.contains('|'.join(courses_id))].reset_index(drop=True)\n",
    "enrolled_course_top5['course'] = enrolled_course_top5['id'].map(top5_courses)\n",
    "enrolled_course_top5.head()"
   ]
  },
  {
   "cell_type": "code",
   "execution_count": 52,
   "metadata": {},
   "outputs": [
    {
     "data": {
      "application/vnd.plotly.v1+json": {
       "config": {
        "plotlyServerURL": "https://plot.ly"
       },
       "data": [
        {
         "marker": {
          "color": "purple"
         },
         "type": "bar",
         "x": [
          "Feelings and Emotions (Ages 8 - 10)",
          "Technology Awareness & Internet Safety ",
          "Rice Trip",
          "Nova Crafteria (Volume.1)",
          "Not Your Typical Egg ",
          "Mindfulness and 5 Senses",
          "Feelings and Emotions (Ages 7 - 9)",
          "Pre-Assessment 2 (Grade 3-4)",
          "Wow! Toys. You are old!",
          "Actions and Activities of Feelings (Ages 8-10)"
         ],
         "y": [
          94,
          82,
          80,
          77,
          71,
          70,
          69,
          64,
          63,
          63
         ]
        }
       ],
       "layout": {
        "template": {
         "data": {
          "bar": [
           {
            "error_x": {
             "color": "#2a3f5f"
            },
            "error_y": {
             "color": "#2a3f5f"
            },
            "marker": {
             "line": {
              "color": "#E5ECF6",
              "width": 0.5
             },
             "pattern": {
              "fillmode": "overlay",
              "size": 10,
              "solidity": 0.2
             }
            },
            "type": "bar"
           }
          ],
          "barpolar": [
           {
            "marker": {
             "line": {
              "color": "#E5ECF6",
              "width": 0.5
             },
             "pattern": {
              "fillmode": "overlay",
              "size": 10,
              "solidity": 0.2
             }
            },
            "type": "barpolar"
           }
          ],
          "carpet": [
           {
            "aaxis": {
             "endlinecolor": "#2a3f5f",
             "gridcolor": "white",
             "linecolor": "white",
             "minorgridcolor": "white",
             "startlinecolor": "#2a3f5f"
            },
            "baxis": {
             "endlinecolor": "#2a3f5f",
             "gridcolor": "white",
             "linecolor": "white",
             "minorgridcolor": "white",
             "startlinecolor": "#2a3f5f"
            },
            "type": "carpet"
           }
          ],
          "choropleth": [
           {
            "colorbar": {
             "outlinewidth": 0,
             "ticks": ""
            },
            "type": "choropleth"
           }
          ],
          "contour": [
           {
            "colorbar": {
             "outlinewidth": 0,
             "ticks": ""
            },
            "colorscale": [
             [
              0,
              "#0d0887"
             ],
             [
              0.1111111111111111,
              "#46039f"
             ],
             [
              0.2222222222222222,
              "#7201a8"
             ],
             [
              0.3333333333333333,
              "#9c179e"
             ],
             [
              0.4444444444444444,
              "#bd3786"
             ],
             [
              0.5555555555555556,
              "#d8576b"
             ],
             [
              0.6666666666666666,
              "#ed7953"
             ],
             [
              0.7777777777777778,
              "#fb9f3a"
             ],
             [
              0.8888888888888888,
              "#fdca26"
             ],
             [
              1,
              "#f0f921"
             ]
            ],
            "type": "contour"
           }
          ],
          "contourcarpet": [
           {
            "colorbar": {
             "outlinewidth": 0,
             "ticks": ""
            },
            "type": "contourcarpet"
           }
          ],
          "heatmap": [
           {
            "colorbar": {
             "outlinewidth": 0,
             "ticks": ""
            },
            "colorscale": [
             [
              0,
              "#0d0887"
             ],
             [
              0.1111111111111111,
              "#46039f"
             ],
             [
              0.2222222222222222,
              "#7201a8"
             ],
             [
              0.3333333333333333,
              "#9c179e"
             ],
             [
              0.4444444444444444,
              "#bd3786"
             ],
             [
              0.5555555555555556,
              "#d8576b"
             ],
             [
              0.6666666666666666,
              "#ed7953"
             ],
             [
              0.7777777777777778,
              "#fb9f3a"
             ],
             [
              0.8888888888888888,
              "#fdca26"
             ],
             [
              1,
              "#f0f921"
             ]
            ],
            "type": "heatmap"
           }
          ],
          "heatmapgl": [
           {
            "colorbar": {
             "outlinewidth": 0,
             "ticks": ""
            },
            "colorscale": [
             [
              0,
              "#0d0887"
             ],
             [
              0.1111111111111111,
              "#46039f"
             ],
             [
              0.2222222222222222,
              "#7201a8"
             ],
             [
              0.3333333333333333,
              "#9c179e"
             ],
             [
              0.4444444444444444,
              "#bd3786"
             ],
             [
              0.5555555555555556,
              "#d8576b"
             ],
             [
              0.6666666666666666,
              "#ed7953"
             ],
             [
              0.7777777777777778,
              "#fb9f3a"
             ],
             [
              0.8888888888888888,
              "#fdca26"
             ],
             [
              1,
              "#f0f921"
             ]
            ],
            "type": "heatmapgl"
           }
          ],
          "histogram": [
           {
            "marker": {
             "pattern": {
              "fillmode": "overlay",
              "size": 10,
              "solidity": 0.2
             }
            },
            "type": "histogram"
           }
          ],
          "histogram2d": [
           {
            "colorbar": {
             "outlinewidth": 0,
             "ticks": ""
            },
            "colorscale": [
             [
              0,
              "#0d0887"
             ],
             [
              0.1111111111111111,
              "#46039f"
             ],
             [
              0.2222222222222222,
              "#7201a8"
             ],
             [
              0.3333333333333333,
              "#9c179e"
             ],
             [
              0.4444444444444444,
              "#bd3786"
             ],
             [
              0.5555555555555556,
              "#d8576b"
             ],
             [
              0.6666666666666666,
              "#ed7953"
             ],
             [
              0.7777777777777778,
              "#fb9f3a"
             ],
             [
              0.8888888888888888,
              "#fdca26"
             ],
             [
              1,
              "#f0f921"
             ]
            ],
            "type": "histogram2d"
           }
          ],
          "histogram2dcontour": [
           {
            "colorbar": {
             "outlinewidth": 0,
             "ticks": ""
            },
            "colorscale": [
             [
              0,
              "#0d0887"
             ],
             [
              0.1111111111111111,
              "#46039f"
             ],
             [
              0.2222222222222222,
              "#7201a8"
             ],
             [
              0.3333333333333333,
              "#9c179e"
             ],
             [
              0.4444444444444444,
              "#bd3786"
             ],
             [
              0.5555555555555556,
              "#d8576b"
             ],
             [
              0.6666666666666666,
              "#ed7953"
             ],
             [
              0.7777777777777778,
              "#fb9f3a"
             ],
             [
              0.8888888888888888,
              "#fdca26"
             ],
             [
              1,
              "#f0f921"
             ]
            ],
            "type": "histogram2dcontour"
           }
          ],
          "mesh3d": [
           {
            "colorbar": {
             "outlinewidth": 0,
             "ticks": ""
            },
            "type": "mesh3d"
           }
          ],
          "parcoords": [
           {
            "line": {
             "colorbar": {
              "outlinewidth": 0,
              "ticks": ""
             }
            },
            "type": "parcoords"
           }
          ],
          "pie": [
           {
            "automargin": true,
            "type": "pie"
           }
          ],
          "scatter": [
           {
            "fillpattern": {
             "fillmode": "overlay",
             "size": 10,
             "solidity": 0.2
            },
            "type": "scatter"
           }
          ],
          "scatter3d": [
           {
            "line": {
             "colorbar": {
              "outlinewidth": 0,
              "ticks": ""
             }
            },
            "marker": {
             "colorbar": {
              "outlinewidth": 0,
              "ticks": ""
             }
            },
            "type": "scatter3d"
           }
          ],
          "scattercarpet": [
           {
            "marker": {
             "colorbar": {
              "outlinewidth": 0,
              "ticks": ""
             }
            },
            "type": "scattercarpet"
           }
          ],
          "scattergeo": [
           {
            "marker": {
             "colorbar": {
              "outlinewidth": 0,
              "ticks": ""
             }
            },
            "type": "scattergeo"
           }
          ],
          "scattergl": [
           {
            "marker": {
             "colorbar": {
              "outlinewidth": 0,
              "ticks": ""
             }
            },
            "type": "scattergl"
           }
          ],
          "scattermapbox": [
           {
            "marker": {
             "colorbar": {
              "outlinewidth": 0,
              "ticks": ""
             }
            },
            "type": "scattermapbox"
           }
          ],
          "scatterpolar": [
           {
            "marker": {
             "colorbar": {
              "outlinewidth": 0,
              "ticks": ""
             }
            },
            "type": "scatterpolar"
           }
          ],
          "scatterpolargl": [
           {
            "marker": {
             "colorbar": {
              "outlinewidth": 0,
              "ticks": ""
             }
            },
            "type": "scatterpolargl"
           }
          ],
          "scatterternary": [
           {
            "marker": {
             "colorbar": {
              "outlinewidth": 0,
              "ticks": ""
             }
            },
            "type": "scatterternary"
           }
          ],
          "surface": [
           {
            "colorbar": {
             "outlinewidth": 0,
             "ticks": ""
            },
            "colorscale": [
             [
              0,
              "#0d0887"
             ],
             [
              0.1111111111111111,
              "#46039f"
             ],
             [
              0.2222222222222222,
              "#7201a8"
             ],
             [
              0.3333333333333333,
              "#9c179e"
             ],
             [
              0.4444444444444444,
              "#bd3786"
             ],
             [
              0.5555555555555556,
              "#d8576b"
             ],
             [
              0.6666666666666666,
              "#ed7953"
             ],
             [
              0.7777777777777778,
              "#fb9f3a"
             ],
             [
              0.8888888888888888,
              "#fdca26"
             ],
             [
              1,
              "#f0f921"
             ]
            ],
            "type": "surface"
           }
          ],
          "table": [
           {
            "cells": {
             "fill": {
              "color": "#EBF0F8"
             },
             "line": {
              "color": "white"
             }
            },
            "header": {
             "fill": {
              "color": "#C8D4E3"
             },
             "line": {
              "color": "white"
             }
            },
            "type": "table"
           }
          ]
         },
         "layout": {
          "annotationdefaults": {
           "arrowcolor": "#2a3f5f",
           "arrowhead": 0,
           "arrowwidth": 1
          },
          "autotypenumbers": "strict",
          "coloraxis": {
           "colorbar": {
            "outlinewidth": 0,
            "ticks": ""
           }
          },
          "colorscale": {
           "diverging": [
            [
             0,
             "#8e0152"
            ],
            [
             0.1,
             "#c51b7d"
            ],
            [
             0.2,
             "#de77ae"
            ],
            [
             0.3,
             "#f1b6da"
            ],
            [
             0.4,
             "#fde0ef"
            ],
            [
             0.5,
             "#f7f7f7"
            ],
            [
             0.6,
             "#e6f5d0"
            ],
            [
             0.7,
             "#b8e186"
            ],
            [
             0.8,
             "#7fbc41"
            ],
            [
             0.9,
             "#4d9221"
            ],
            [
             1,
             "#276419"
            ]
           ],
           "sequential": [
            [
             0,
             "#0d0887"
            ],
            [
             0.1111111111111111,
             "#46039f"
            ],
            [
             0.2222222222222222,
             "#7201a8"
            ],
            [
             0.3333333333333333,
             "#9c179e"
            ],
            [
             0.4444444444444444,
             "#bd3786"
            ],
            [
             0.5555555555555556,
             "#d8576b"
            ],
            [
             0.6666666666666666,
             "#ed7953"
            ],
            [
             0.7777777777777778,
             "#fb9f3a"
            ],
            [
             0.8888888888888888,
             "#fdca26"
            ],
            [
             1,
             "#f0f921"
            ]
           ],
           "sequentialminus": [
            [
             0,
             "#0d0887"
            ],
            [
             0.1111111111111111,
             "#46039f"
            ],
            [
             0.2222222222222222,
             "#7201a8"
            ],
            [
             0.3333333333333333,
             "#9c179e"
            ],
            [
             0.4444444444444444,
             "#bd3786"
            ],
            [
             0.5555555555555556,
             "#d8576b"
            ],
            [
             0.6666666666666666,
             "#ed7953"
            ],
            [
             0.7777777777777778,
             "#fb9f3a"
            ],
            [
             0.8888888888888888,
             "#fdca26"
            ],
            [
             1,
             "#f0f921"
            ]
           ]
          },
          "colorway": [
           "#636efa",
           "#EF553B",
           "#00cc96",
           "#ab63fa",
           "#FFA15A",
           "#19d3f3",
           "#FF6692",
           "#B6E880",
           "#FF97FF",
           "#FECB52"
          ],
          "font": {
           "color": "#2a3f5f"
          },
          "geo": {
           "bgcolor": "white",
           "lakecolor": "white",
           "landcolor": "#E5ECF6",
           "showlakes": true,
           "showland": true,
           "subunitcolor": "white"
          },
          "hoverlabel": {
           "align": "left"
          },
          "hovermode": "closest",
          "mapbox": {
           "style": "light"
          },
          "paper_bgcolor": "white",
          "plot_bgcolor": "#E5ECF6",
          "polar": {
           "angularaxis": {
            "gridcolor": "white",
            "linecolor": "white",
            "ticks": ""
           },
           "bgcolor": "#E5ECF6",
           "radialaxis": {
            "gridcolor": "white",
            "linecolor": "white",
            "ticks": ""
           }
          },
          "scene": {
           "xaxis": {
            "backgroundcolor": "#E5ECF6",
            "gridcolor": "white",
            "gridwidth": 2,
            "linecolor": "white",
            "showbackground": true,
            "ticks": "",
            "zerolinecolor": "white"
           },
           "yaxis": {
            "backgroundcolor": "#E5ECF6",
            "gridcolor": "white",
            "gridwidth": 2,
            "linecolor": "white",
            "showbackground": true,
            "ticks": "",
            "zerolinecolor": "white"
           },
           "zaxis": {
            "backgroundcolor": "#E5ECF6",
            "gridcolor": "white",
            "gridwidth": 2,
            "linecolor": "white",
            "showbackground": true,
            "ticks": "",
            "zerolinecolor": "white"
           }
          },
          "shapedefaults": {
           "line": {
            "color": "#2a3f5f"
           }
          },
          "ternary": {
           "aaxis": {
            "gridcolor": "white",
            "linecolor": "white",
            "ticks": ""
           },
           "baxis": {
            "gridcolor": "white",
            "linecolor": "white",
            "ticks": ""
           },
           "bgcolor": "#E5ECF6",
           "caxis": {
            "gridcolor": "white",
            "linecolor": "white",
            "ticks": ""
           }
          },
          "title": {
           "x": 0.05
          },
          "xaxis": {
           "automargin": true,
           "gridcolor": "white",
           "linecolor": "white",
           "ticks": "",
           "title": {
            "standoff": 15
           },
           "zerolinecolor": "white",
           "zerolinewidth": 2
          },
          "yaxis": {
           "automargin": true,
           "gridcolor": "white",
           "linecolor": "white",
           "ticks": "",
           "title": {
            "standoff": 15
           },
           "zerolinecolor": "white",
           "zerolinewidth": 2
          }
         }
        },
        "title": {
         "text": "Distribution for Top 10 courses enrolled"
        }
       }
      }
     },
     "metadata": {},
     "output_type": "display_data"
    }
   ],
   "source": [
    "# Plot Distribution for top10 courses enrolled.\n",
    "freq_course = enrolled_course_top5.course.value_counts().to_frame().reset_index(drop=False)\n",
    "freq_course.columns = ['course', 'n']\n",
    "\n",
    "# Visualise\n",
    "# Create a bar trace\n",
    "trace = go.Bar(\n",
    "    x=freq_course['course'],\n",
    "    y=freq_course['n'],\n",
    "    marker=dict(color='purple')  # Specify the desired color\n",
    ")\n",
    "\n",
    "# Create the layout\n",
    "layout = go.Layout()\n",
    "\n",
    "# Create the figure\n",
    "fig = go.Figure(data=[trace], layout=layout)\n",
    "fig.update_layout(title = 'Distribution for Top 10 courses enrolled')\n",
    "fig.show()"
   ]
  },
  {
   "attachments": {},
   "cell_type": "markdown",
   "metadata": {},
   "source": [
    "## Challenge Comment"
   ]
  },
  {
   "cell_type": "code",
   "execution_count": 53,
   "metadata": {},
   "outputs": [],
   "source": [
    "cc = pd.read_csv('data/01_raw/ChallengeComment.csv').dropna(axis=1, how='any')"
   ]
  },
  {
   "cell_type": "code",
   "execution_count": 54,
   "metadata": {},
   "outputs": [
    {
     "data": {
      "text/html": [
       "<div>\n",
       "<style scoped>\n",
       "    .dataframe tbody tr th:only-of-type {\n",
       "        vertical-align: middle;\n",
       "    }\n",
       "\n",
       "    .dataframe tbody tr th {\n",
       "        vertical-align: top;\n",
       "    }\n",
       "\n",
       "    .dataframe thead th {\n",
       "        text-align: right;\n",
       "    }\n",
       "</style>\n",
       "<table border=\"1\" class=\"dataframe\">\n",
       "  <thead>\n",
       "    <tr style=\"text-align: right;\">\n",
       "      <th></th>\n",
       "      <th>id</th>\n",
       "      <th>challengeGallerId</th>\n",
       "      <th>commenterId</th>\n",
       "      <th>text</th>\n",
       "      <th>createdAt</th>\n",
       "    </tr>\n",
       "  </thead>\n",
       "  <tbody>\n",
       "    <tr>\n",
       "      <th>0</th>\n",
       "      <td>ff57b1f6-968c-44b2-9788-59fc5fba03ab</td>\n",
       "      <td>aef3be1d-b8c2-4996-8293-c5088e314821</td>\n",
       "      <td>469022f7-46a1-49e1-b493-b614f399c0ef</td>\n",
       "      <td>good</td>\n",
       "      <td>8/11/2022 8:16</td>\n",
       "    </tr>\n",
       "    <tr>\n",
       "      <th>1</th>\n",
       "      <td>ff0969e0-6689-4497-93ba-b78abec0db67</td>\n",
       "      <td>b6525801-7a6b-4d1c-8bda-077fa0df8dc7</td>\n",
       "      <td>396bbcca-4713-49d5-b477-52b2fcb412c1</td>\n",
       "      <td>I love this</td>\n",
       "      <td>3/11/2022 7:56</td>\n",
       "    </tr>\n",
       "    <tr>\n",
       "      <th>2</th>\n",
       "      <td>fec0e7b6-4ee8-4822-b79c-d5e2fb36aa2e</td>\n",
       "      <td>934fd270-16bf-4507-872a-81b72d653e73</td>\n",
       "      <td>0953f6a5-c31a-4d80-a5c8-07972c79a948</td>\n",
       "      <td>Awesome!</td>\n",
       "      <td>22/11/2022 2:37</td>\n",
       "    </tr>\n",
       "    <tr>\n",
       "      <th>3</th>\n",
       "      <td>fe90be90-c4d0-4897-8a0b-62c3046fef1e</td>\n",
       "      <td>641c9ab5-3f3d-426a-b9a9-ef76c00aee07</td>\n",
       "      <td>0f123eba-dbcf-40f2-ad46-7197e803050c</td>\n",
       "      <td>Please try to answer the questions in complete...</td>\n",
       "      <td>25/11/2022 0:41</td>\n",
       "    </tr>\n",
       "    <tr>\n",
       "      <th>4</th>\n",
       "      <td>fdfd14dc-8279-4ee8-bc57-0464ce07b853</td>\n",
       "      <td>660b1e32-8384-4b66-a4b1-8d9b20d0f85d</td>\n",
       "      <td>4c6aeba5-596d-47a8-9bf4-b01a6e00c318</td>\n",
       "      <td>Nice 👍 feeling</td>\n",
       "      <td>27/10/2022 8:10</td>\n",
       "    </tr>\n",
       "    <tr>\n",
       "      <th>...</th>\n",
       "      <td>...</td>\n",
       "      <td>...</td>\n",
       "      <td>...</td>\n",
       "      <td>...</td>\n",
       "      <td>...</td>\n",
       "    </tr>\n",
       "    <tr>\n",
       "      <th>976</th>\n",
       "      <td>017ab2bd-5b4b-4062-a053-be20dfc42fa3</td>\n",
       "      <td>2f9d6e8f-2c6e-41f6-82cd-f739cbb7433a</td>\n",
       "      <td>0f123eba-dbcf-40f2-ad46-7197e803050c</td>\n",
       "      <td>Please upload task related image.</td>\n",
       "      <td>4/12/2022 9:26</td>\n",
       "    </tr>\n",
       "    <tr>\n",
       "      <th>977</th>\n",
       "      <td>00f004a4-9976-4144-9688-88722e38bc7b</td>\n",
       "      <td>a8dc52f5-6e37-402a-bf0a-10829765d42c</td>\n",
       "      <td>1d5bb67b-9347-4d9c-aa34-ac26343906d9</td>\n",
       "      <td>Look at Aberdeen</td>\n",
       "      <td>24/6/2022 3:52</td>\n",
       "    </tr>\n",
       "    <tr>\n",
       "      <th>978</th>\n",
       "      <td>00eaff9f-499c-4845-9bc3-37ceb79f740e</td>\n",
       "      <td>68c3f14a-ae23-4c85-8e3c-189eef7cce3f</td>\n",
       "      <td>9899f6dc-2161-44a8-b117-ad7f3f9ed5f6</td>\n",
       "      <td>good</td>\n",
       "      <td>3/1/2023 7:58</td>\n",
       "    </tr>\n",
       "    <tr>\n",
       "      <th>979</th>\n",
       "      <td>00a287ae-278e-48f8-a13f-7d86672e3831</td>\n",
       "      <td>6c51027e-f8a8-459f-8486-58718f14bb9a</td>\n",
       "      <td>0f123eba-dbcf-40f2-ad46-7197e803050c</td>\n",
       "      <td>What are you going to do to make friends.</td>\n",
       "      <td>15/12/2022 7:03</td>\n",
       "    </tr>\n",
       "    <tr>\n",
       "      <th>980</th>\n",
       "      <td>000585bc-e737-4ac2-ad58-7179afd5544d</td>\n",
       "      <td>36746549-6d83-4e8d-83b5-566c4c0749be</td>\n",
       "      <td>0f123eba-dbcf-40f2-ad46-7197e803050c</td>\n",
       "      <td>I'd like to see your observation of a plant.</td>\n",
       "      <td>9/12/2022 4:18</td>\n",
       "    </tr>\n",
       "  </tbody>\n",
       "</table>\n",
       "<p>981 rows × 5 columns</p>\n",
       "</div>"
      ]
     },
     "execution_count": 54,
     "metadata": {},
     "output_type": "execute_result"
    }
   ],
   "source": [
    "cc['createdAt'] = pd.to_datetime(cc['createdAt'], format=\"%d/%m/%Y %H:%M\", errors='ignore')\n",
    "cc"
   ]
  },
  {
   "cell_type": "code",
   "execution_count": null,
   "metadata": {},
   "outputs": [],
   "source": [
    "# cc last 30\n",
    "cc_last30 = cc[cc['createdAt'] >= '2023-04-01']\n",
    "len(cc_last30)"
   ]
  },
  {
   "cell_type": "code",
   "execution_count": null,
   "metadata": {},
   "outputs": [],
   "source": [
    "%pip install wordcloud"
   ]
  },
  {
   "cell_type": "code",
   "execution_count": null,
   "metadata": {},
   "outputs": [],
   "source": [
    "import pandas as pd\n",
    "from wordcloud import WordCloud\n",
    "import matplotlib.pyplot as plt"
   ]
  },
  {
   "cell_type": "code",
   "execution_count": null,
   "metadata": {},
   "outputs": [],
   "source": [
    "text_data = ' '.join(cc_last30['text'].astype(str))\n"
   ]
  },
  {
   "cell_type": "code",
   "execution_count": null,
   "metadata": {},
   "outputs": [],
   "source": [
    "wordcloud = WordCloud(width=800, height=400, max_font_size=150, random_state=42).generate(text_data)\n"
   ]
  },
  {
   "cell_type": "code",
   "execution_count": null,
   "metadata": {},
   "outputs": [],
   "source": [
    "plt.figure(figsize=(10, 6))\n",
    "plt.imshow(wordcloud, interpolation=\"bilinear\")\n",
    "plt.axis(\"off\")\n",
    "plt.show()"
   ]
  },
  {
   "cell_type": "code",
   "execution_count": null,
   "metadata": {},
   "outputs": [],
   "source": []
  },
  {
   "cell_type": "markdown",
   "metadata": {},
   "source": [
    "# This notebook is for Content link here:\n",
    "https://www.notion.so/novalearn/b194bb2c04b1444084d1c3610d8bc672?v=0a63faf0c5074a9d9240e5a7f9c7a869"
   ]
  },
  {
   "cell_type": "code",
   "execution_count": null,
   "metadata": {},
   "outputs": [
    {
     "data": {
      "text/html": [
       "<pre style=\"white-space:pre;overflow-x:auto;line-height:normal;font-family:Menlo,'DejaVu Sans Mono',consolas,'Courier New',monospace\"><span style=\"color: #7fbfbf; text-decoration-color: #7fbfbf\">[06/20/23 21:42:28] </span><span style=\"color: #000080; text-decoration-color: #000080\">INFO    </span> Resolved project path as:                                              <a href=\"file://c:\\Users\\hp\\Documents\\0.Novalearn\\analytics\\analytics\\venv\\lib\\site-packages\\kedro\\ipython\\__init__.py\" target=\"_blank\"><span style=\"color: #7f7f7f; text-decoration-color: #7f7f7f\">__init__.py</span></a><span style=\"color: #7f7f7f; text-decoration-color: #7f7f7f\">:</span><a href=\"file://c:\\Users\\hp\\Documents\\0.Novalearn\\analytics\\analytics\\venv\\lib\\site-packages\\kedro\\ipython\\__init__.py#132\" target=\"_blank\"><span style=\"color: #7f7f7f; text-decoration-color: #7f7f7f\">132</span></a>\n",
       "<span style=\"color: #7fbfbf; text-decoration-color: #7fbfbf\">                    </span>         c:\\Users\\hp\\Documents\\<span style=\"color: #008080; text-decoration-color: #008080; font-weight: bold\">0.</span>Novalearn\\analytics\\analytics.                 <span style=\"color: #7f7f7f; text-decoration-color: #7f7f7f\">               </span>\n",
       "<span style=\"color: #7fbfbf; text-decoration-color: #7fbfbf\">                    </span>         To set a different path, run <span style=\"color: #008000; text-decoration-color: #008000\">'%reload_kedro &lt;project_root&gt;'</span>            <span style=\"color: #7f7f7f; text-decoration-color: #7f7f7f\">               </span>\n",
       "</pre>\n"
      ],
      "text/plain": [
       "\u001b[2;36m[06/20/23 21:42:28]\u001b[0m\u001b[2;36m \u001b[0m\u001b[34mINFO    \u001b[0m Resolved project path as:                                              \u001b]8;id=32661;file://c:\\Users\\hp\\Documents\\0.Novalearn\\analytics\\analytics\\venv\\lib\\site-packages\\kedro\\ipython\\__init__.py\u001b\\\u001b[2m__init__.py\u001b[0m\u001b]8;;\u001b\\\u001b[2m:\u001b[0m\u001b]8;id=338524;file://c:\\Users\\hp\\Documents\\0.Novalearn\\analytics\\analytics\\venv\\lib\\site-packages\\kedro\\ipython\\__init__.py#132\u001b\\\u001b[2m132\u001b[0m\u001b]8;;\u001b\\\n",
       "\u001b[2;36m                    \u001b[0m         c:\\Users\\hp\\Documents\\\u001b[1;36m0.\u001b[0mNovalearn\\analytics\\analytics.                 \u001b[2m               \u001b[0m\n",
       "\u001b[2;36m                    \u001b[0m         To set a different path, run \u001b[32m'%reload_kedro \u001b[0m\u001b[32m<\u001b[0m\u001b[32mproject_root\u001b[0m\u001b[32m>\u001b[0m\u001b[32m'\u001b[0m            \u001b[2m               \u001b[0m\n"
      ]
     },
     "metadata": {},
     "output_type": "display_data"
    },
    {
     "data": {
      "text/html": [
       "<pre style=\"white-space:pre;overflow-x:auto;line-height:normal;font-family:Menlo,'DejaVu Sans Mono',consolas,'Courier New',monospace\"><span style=\"color: #7fbfbf; text-decoration-color: #7fbfbf\">[06/20/23 21:42:29] </span><span style=\"color: #000080; text-decoration-color: #000080\">INFO    </span> The <span style=\"color: #008000; text-decoration-color: #008000\">'mlflow_tracking_uri'</span> key in mlflow.yml is relative     <a href=\"file://c:\\Users\\hp\\Documents\\0.Novalearn\\analytics\\analytics\\venv\\lib\\site-packages\\kedro_mlflow\\config\\kedro_mlflow_config.py\" target=\"_blank\"><span style=\"color: #7f7f7f; text-decoration-color: #7f7f7f\">kedro_mlflow_config.py</span></a><span style=\"color: #7f7f7f; text-decoration-color: #7f7f7f\">:</span><a href=\"file://c:\\Users\\hp\\Documents\\0.Novalearn\\analytics\\analytics\\venv\\lib\\site-packages\\kedro_mlflow\\config\\kedro_mlflow_config.py#202\" target=\"_blank\"><span style=\"color: #7f7f7f; text-decoration-color: #7f7f7f\">202</span></a>\n",
       "<span style=\"color: #7fbfbf; text-decoration-color: #7fbfbf\">                    </span>         <span style=\"font-weight: bold\">(</span><span style=\"color: #008000; text-decoration-color: #008000\">'server.mlflow_tracking_uri = mlruns'</span><span style=\"font-weight: bold\">)</span>. It is converted to <span style=\"color: #7f7f7f; text-decoration-color: #7f7f7f\">                          </span>\n",
       "<span style=\"color: #7fbfbf; text-decoration-color: #7fbfbf\">                    </span>         a valid uri:                                                <span style=\"color: #7f7f7f; text-decoration-color: #7f7f7f\">                          </span>\n",
       "<span style=\"color: #7fbfbf; text-decoration-color: #7fbfbf\">                    </span>         <span style=\"color: #008000; text-decoration-color: #008000\">'file:///C:/Users/hp/Documents/0.Novalearn/analytics/analyt</span> <span style=\"color: #7f7f7f; text-decoration-color: #7f7f7f\">                          </span>\n",
       "<span style=\"color: #7fbfbf; text-decoration-color: #7fbfbf\">                    </span>         <span style=\"color: #008000; text-decoration-color: #008000\">ics/mlruns'</span>                                                 <span style=\"color: #7f7f7f; text-decoration-color: #7f7f7f\">                          </span>\n",
       "</pre>\n"
      ],
      "text/plain": [
       "\u001b[2;36m[06/20/23 21:42:29]\u001b[0m\u001b[2;36m \u001b[0m\u001b[34mINFO    \u001b[0m The \u001b[32m'mlflow_tracking_uri'\u001b[0m key in mlflow.yml is relative     \u001b]8;id=879213;file://c:\\Users\\hp\\Documents\\0.Novalearn\\analytics\\analytics\\venv\\lib\\site-packages\\kedro_mlflow\\config\\kedro_mlflow_config.py\u001b\\\u001b[2mkedro_mlflow_config.py\u001b[0m\u001b]8;;\u001b\\\u001b[2m:\u001b[0m\u001b]8;id=981041;file://c:\\Users\\hp\\Documents\\0.Novalearn\\analytics\\analytics\\venv\\lib\\site-packages\\kedro_mlflow\\config\\kedro_mlflow_config.py#202\u001b\\\u001b[2m202\u001b[0m\u001b]8;;\u001b\\\n",
       "\u001b[2;36m                    \u001b[0m         \u001b[1m(\u001b[0m\u001b[32m'server.mlflow_tracking_uri = mlruns'\u001b[0m\u001b[1m)\u001b[0m. It is converted to \u001b[2m                          \u001b[0m\n",
       "\u001b[2;36m                    \u001b[0m         a valid uri:                                                \u001b[2m                          \u001b[0m\n",
       "\u001b[2;36m                    \u001b[0m         \u001b[32m'file:///C:/Users/hp/Documents/0.Novalearn/analytics/analyt\u001b[0m \u001b[2m                          \u001b[0m\n",
       "\u001b[2;36m                    \u001b[0m         \u001b[32mics/mlruns'\u001b[0m                                                 \u001b[2m                          \u001b[0m\n"
      ]
     },
     "metadata": {},
     "output_type": "display_data"
    },
    {
     "data": {
      "text/html": [
       "<pre style=\"white-space:pre;overflow-x:auto;line-height:normal;font-family:Menlo,'DejaVu Sans Mono',consolas,'Courier New',monospace\"><span style=\"color: #7fbfbf; text-decoration-color: #7fbfbf\">[06/20/23 21:42:30] </span><span style=\"color: #000080; text-decoration-color: #000080\">INFO    </span> Kedro project analytics                                                <a href=\"file://c:\\Users\\hp\\Documents\\0.Novalearn\\analytics\\analytics\\venv\\lib\\site-packages\\kedro\\ipython\\__init__.py\" target=\"_blank\"><span style=\"color: #7f7f7f; text-decoration-color: #7f7f7f\">__init__.py</span></a><span style=\"color: #7f7f7f; text-decoration-color: #7f7f7f\">:</span><a href=\"file://c:\\Users\\hp\\Documents\\0.Novalearn\\analytics\\analytics\\venv\\lib\\site-packages\\kedro\\ipython\\__init__.py#101\" target=\"_blank\"><span style=\"color: #7f7f7f; text-decoration-color: #7f7f7f\">101</span></a>\n",
       "</pre>\n"
      ],
      "text/plain": [
       "\u001b[2;36m[06/20/23 21:42:30]\u001b[0m\u001b[2;36m \u001b[0m\u001b[34mINFO    \u001b[0m Kedro project analytics                                                \u001b]8;id=865599;file://c:\\Users\\hp\\Documents\\0.Novalearn\\analytics\\analytics\\venv\\lib\\site-packages\\kedro\\ipython\\__init__.py\u001b\\\u001b[2m__init__.py\u001b[0m\u001b]8;;\u001b\\\u001b[2m:\u001b[0m\u001b]8;id=423049;file://c:\\Users\\hp\\Documents\\0.Novalearn\\analytics\\analytics\\venv\\lib\\site-packages\\kedro\\ipython\\__init__.py#101\u001b\\\u001b[2m101\u001b[0m\u001b]8;;\u001b\\\n"
      ]
     },
     "metadata": {},
     "output_type": "display_data"
    },
    {
     "data": {
      "text/html": [
       "<pre style=\"white-space:pre;overflow-x:auto;line-height:normal;font-family:Menlo,'DejaVu Sans Mono',consolas,'Courier New',monospace\"><span style=\"color: #7fbfbf; text-decoration-color: #7fbfbf\">                    </span><span style=\"color: #000080; text-decoration-color: #000080\">INFO    </span> Defined global variable <span style=\"color: #008000; text-decoration-color: #008000\">'context'</span>, <span style=\"color: #008000; text-decoration-color: #008000\">'session'</span>, <span style=\"color: #008000; text-decoration-color: #008000\">'catalog'</span> and            <a href=\"file://c:\\Users\\hp\\Documents\\0.Novalearn\\analytics\\analytics\\venv\\lib\\site-packages\\kedro\\ipython\\__init__.py\" target=\"_blank\"><span style=\"color: #7f7f7f; text-decoration-color: #7f7f7f\">__init__.py</span></a><span style=\"color: #7f7f7f; text-decoration-color: #7f7f7f\">:</span><a href=\"file://c:\\Users\\hp\\Documents\\0.Novalearn\\analytics\\analytics\\venv\\lib\\site-packages\\kedro\\ipython\\__init__.py#102\" target=\"_blank\"><span style=\"color: #7f7f7f; text-decoration-color: #7f7f7f\">102</span></a>\n",
       "<span style=\"color: #7fbfbf; text-decoration-color: #7fbfbf\">                    </span>         <span style=\"color: #008000; text-decoration-color: #008000\">'pipelines'</span>                                                            <span style=\"color: #7f7f7f; text-decoration-color: #7f7f7f\">               </span>\n",
       "</pre>\n"
      ],
      "text/plain": [
       "\u001b[2;36m                   \u001b[0m\u001b[2;36m \u001b[0m\u001b[34mINFO    \u001b[0m Defined global variable \u001b[32m'context'\u001b[0m, \u001b[32m'session'\u001b[0m, \u001b[32m'catalog'\u001b[0m and            \u001b]8;id=52691;file://c:\\Users\\hp\\Documents\\0.Novalearn\\analytics\\analytics\\venv\\lib\\site-packages\\kedro\\ipython\\__init__.py\u001b\\\u001b[2m__init__.py\u001b[0m\u001b]8;;\u001b\\\u001b[2m:\u001b[0m\u001b]8;id=542589;file://c:\\Users\\hp\\Documents\\0.Novalearn\\analytics\\analytics\\venv\\lib\\site-packages\\kedro\\ipython\\__init__.py#102\u001b\\\u001b[2m102\u001b[0m\u001b]8;;\u001b\\\n",
       "\u001b[2;36m                    \u001b[0m         \u001b[32m'pipelines'\u001b[0m                                                            \u001b[2m               \u001b[0m\n"
      ]
     },
     "metadata": {},
     "output_type": "display_data"
    },
    {
     "data": {
      "text/html": [
       "<pre style=\"white-space:pre;overflow-x:auto;line-height:normal;font-family:Menlo,'DejaVu Sans Mono',consolas,'Courier New',monospace\"><span style=\"color: #7fbfbf; text-decoration-color: #7fbfbf\">                    </span><span style=\"color: #800000; text-decoration-color: #800000\">WARNING </span> c:\\Users\\hp\\Documents\\<span style=\"color: #008080; text-decoration-color: #008080; font-weight: bold\">0.</span>Novalearn\\analytics\\analytics\\venv\\lib\\site-pa <a href=\"file://C:\\Users\\hp\\AppData\\Local\\Programs\\Python\\Python39\\lib\\warnings.py\" target=\"_blank\"><span style=\"color: #7f7f7f; text-decoration-color: #7f7f7f\">warnings.py</span></a><span style=\"color: #7f7f7f; text-decoration-color: #7f7f7f\">:</span><a href=\"file://C:\\Users\\hp\\AppData\\Local\\Programs\\Python\\Python39\\lib\\warnings.py#109\" target=\"_blank\"><span style=\"color: #7f7f7f; text-decoration-color: #7f7f7f\">109</span></a>\n",
       "<span style=\"color: #7fbfbf; text-decoration-color: #7fbfbf\">                    </span>         ckages\\strawberry\\types\\fields\\resolver.py:<span style=\"color: #008080; text-decoration-color: #008080; font-weight: bold\">199</span>: DeprecationWarning:    <span style=\"color: #7f7f7f; text-decoration-color: #7f7f7f\">               </span>\n",
       "<span style=\"color: #7fbfbf; text-decoration-color: #7fbfbf\">                    </span>         Argument name-based matching of <span style=\"color: #008000; text-decoration-color: #008000\">'info'</span> is deprecated and will be       <span style=\"color: #7f7f7f; text-decoration-color: #7f7f7f\">               </span>\n",
       "<span style=\"color: #7fbfbf; text-decoration-color: #7fbfbf\">                    </span>         removed in v1.<span style=\"color: #008080; text-decoration-color: #008080; font-weight: bold\">0</span>. Ensure that reserved arguments are annotated their    <span style=\"color: #7f7f7f; text-decoration-color: #7f7f7f\">               </span>\n",
       "<span style=\"color: #7fbfbf; text-decoration-color: #7fbfbf\">                    </span>         respective types <span style=\"font-weight: bold\">(</span>i.e. use value: <span style=\"color: #008000; text-decoration-color: #008000\">'DirectiveValue[str]'</span> instead of     <span style=\"color: #7f7f7f; text-decoration-color: #7f7f7f\">               </span>\n",
       "<span style=\"color: #7fbfbf; text-decoration-color: #7fbfbf\">                    </span>         <span style=\"color: #008000; text-decoration-color: #008000\">'value: str'</span> and <span style=\"color: #008000; text-decoration-color: #008000\">'info: Info'</span> instead of a plain <span style=\"color: #008000; text-decoration-color: #008000\">'info'</span><span style=\"font-weight: bold\">)</span>.              <span style=\"color: #7f7f7f; text-decoration-color: #7f7f7f\">               </span>\n",
       "<span style=\"color: #7fbfbf; text-decoration-color: #7fbfbf\">                    </span>           return <span style=\"font-weight: bold\">{</span>spec: <span style=\"color: #800080; text-decoration-color: #800080; font-weight: bold\">spec.find</span><span style=\"font-weight: bold\">(</span>parameters, self<span style=\"font-weight: bold\">)</span> for spec in                <span style=\"color: #7f7f7f; text-decoration-color: #7f7f7f\">               </span>\n",
       "<span style=\"color: #7fbfbf; text-decoration-color: #7fbfbf\">                    </span>         self.RESERVED_PARAMSPEC<span style=\"font-weight: bold\">}</span>                                               <span style=\"color: #7f7f7f; text-decoration-color: #7f7f7f\">               </span>\n",
       "<span style=\"color: #7fbfbf; text-decoration-color: #7fbfbf\">                    </span>                                                                                <span style=\"color: #7f7f7f; text-decoration-color: #7f7f7f\">               </span>\n",
       "</pre>\n"
      ],
      "text/plain": [
       "\u001b[2;36m                   \u001b[0m\u001b[2;36m \u001b[0m\u001b[31mWARNING \u001b[0m c:\\Users\\hp\\Documents\\\u001b[1;36m0.\u001b[0mNovalearn\\analytics\\analytics\\venv\\lib\\site-pa \u001b]8;id=556161;file://C:\\Users\\hp\\AppData\\Local\\Programs\\Python\\Python39\\lib\\warnings.py\u001b\\\u001b[2mwarnings.py\u001b[0m\u001b]8;;\u001b\\\u001b[2m:\u001b[0m\u001b]8;id=203611;file://C:\\Users\\hp\\AppData\\Local\\Programs\\Python\\Python39\\lib\\warnings.py#109\u001b\\\u001b[2m109\u001b[0m\u001b]8;;\u001b\\\n",
       "\u001b[2;36m                    \u001b[0m         ckages\\strawberry\\types\\fields\\resolver.py:\u001b[1;36m199\u001b[0m: DeprecationWarning:    \u001b[2m               \u001b[0m\n",
       "\u001b[2;36m                    \u001b[0m         Argument name-based matching of \u001b[32m'info'\u001b[0m is deprecated and will be       \u001b[2m               \u001b[0m\n",
       "\u001b[2;36m                    \u001b[0m         removed in v1.\u001b[1;36m0\u001b[0m. Ensure that reserved arguments are annotated their    \u001b[2m               \u001b[0m\n",
       "\u001b[2;36m                    \u001b[0m         respective types \u001b[1m(\u001b[0mi.e. use value: \u001b[32m'DirectiveValue\u001b[0m\u001b[32m[\u001b[0m\u001b[32mstr\u001b[0m\u001b[32m]\u001b[0m\u001b[32m'\u001b[0m instead of     \u001b[2m               \u001b[0m\n",
       "\u001b[2;36m                    \u001b[0m         \u001b[32m'value: str'\u001b[0m and \u001b[32m'info: Info'\u001b[0m instead of a plain \u001b[32m'info'\u001b[0m\u001b[1m)\u001b[0m.              \u001b[2m               \u001b[0m\n",
       "\u001b[2;36m                    \u001b[0m           return \u001b[1m{\u001b[0mspec: \u001b[1;35mspec.find\u001b[0m\u001b[1m(\u001b[0mparameters, self\u001b[1m)\u001b[0m for spec in                \u001b[2m               \u001b[0m\n",
       "\u001b[2;36m                    \u001b[0m         self.RESERVED_PARAMSPEC\u001b[1m}\u001b[0m                                               \u001b[2m               \u001b[0m\n",
       "\u001b[2;36m                    \u001b[0m                                                                                \u001b[2m               \u001b[0m\n"
      ]
     },
     "metadata": {},
     "output_type": "display_data"
    },
    {
     "data": {
      "text/html": [
       "<pre style=\"white-space:pre;overflow-x:auto;line-height:normal;font-family:Menlo,'DejaVu Sans Mono',consolas,'Courier New',monospace\"><span style=\"color: #7fbfbf; text-decoration-color: #7fbfbf\">[06/20/23 21:42:31] </span><span style=\"color: #000080; text-decoration-color: #000080\">INFO    </span> Registered line magic <span style=\"color: #008000; text-decoration-color: #008000\">'reload_kedro_mlflow'</span>                            <a href=\"file://c:\\Users\\hp\\Documents\\0.Novalearn\\analytics\\analytics\\venv\\lib\\site-packages\\kedro\\ipython\\__init__.py\" target=\"_blank\"><span style=\"color: #7f7f7f; text-decoration-color: #7f7f7f\">__init__.py</span></a><span style=\"color: #7f7f7f; text-decoration-color: #7f7f7f\">:</span><a href=\"file://c:\\Users\\hp\\Documents\\0.Novalearn\\analytics\\analytics\\venv\\lib\\site-packages\\kedro\\ipython\\__init__.py#108\" target=\"_blank\"><span style=\"color: #7f7f7f; text-decoration-color: #7f7f7f\">108</span></a>\n",
       "</pre>\n"
      ],
      "text/plain": [
       "\u001b[2;36m[06/20/23 21:42:31]\u001b[0m\u001b[2;36m \u001b[0m\u001b[34mINFO    \u001b[0m Registered line magic \u001b[32m'reload_kedro_mlflow'\u001b[0m                            \u001b]8;id=861604;file://c:\\Users\\hp\\Documents\\0.Novalearn\\analytics\\analytics\\venv\\lib\\site-packages\\kedro\\ipython\\__init__.py\u001b\\\u001b[2m__init__.py\u001b[0m\u001b]8;;\u001b\\\u001b[2m:\u001b[0m\u001b]8;id=991168;file://c:\\Users\\hp\\Documents\\0.Novalearn\\analytics\\analytics\\venv\\lib\\site-packages\\kedro\\ipython\\__init__.py#108\u001b\\\u001b[2m108\u001b[0m\u001b]8;;\u001b\\\n"
      ]
     },
     "metadata": {},
     "output_type": "display_data"
    },
    {
     "data": {
      "text/html": [
       "<pre style=\"white-space:pre;overflow-x:auto;line-height:normal;font-family:Menlo,'DejaVu Sans Mono',consolas,'Courier New',monospace\"><span style=\"color: #7fbfbf; text-decoration-color: #7fbfbf\">                    </span><span style=\"color: #000080; text-decoration-color: #000080\">INFO    </span> Registered line magic <span style=\"color: #008000; text-decoration-color: #008000\">'run_viz'</span>                                        <a href=\"file://c:\\Users\\hp\\Documents\\0.Novalearn\\analytics\\analytics\\venv\\lib\\site-packages\\kedro\\ipython\\__init__.py\" target=\"_blank\"><span style=\"color: #7f7f7f; text-decoration-color: #7f7f7f\">__init__.py</span></a><span style=\"color: #7f7f7f; text-decoration-color: #7f7f7f\">:</span><a href=\"file://c:\\Users\\hp\\Documents\\0.Novalearn\\analytics\\analytics\\venv\\lib\\site-packages\\kedro\\ipython\\__init__.py#108\" target=\"_blank\"><span style=\"color: #7f7f7f; text-decoration-color: #7f7f7f\">108</span></a>\n",
       "</pre>\n"
      ],
      "text/plain": [
       "\u001b[2;36m                   \u001b[0m\u001b[2;36m \u001b[0m\u001b[34mINFO    \u001b[0m Registered line magic \u001b[32m'run_viz'\u001b[0m                                        \u001b]8;id=759655;file://c:\\Users\\hp\\Documents\\0.Novalearn\\analytics\\analytics\\venv\\lib\\site-packages\\kedro\\ipython\\__init__.py\u001b\\\u001b[2m__init__.py\u001b[0m\u001b]8;;\u001b\\\u001b[2m:\u001b[0m\u001b]8;id=575860;file://c:\\Users\\hp\\Documents\\0.Novalearn\\analytics\\analytics\\venv\\lib\\site-packages\\kedro\\ipython\\__init__.py#108\u001b\\\u001b[2m108\u001b[0m\u001b]8;;\u001b\\\n"
      ]
     },
     "metadata": {},
     "output_type": "display_data"
    },
    {
     "data": {
      "text/html": [
       "<pre style=\"white-space:pre;overflow-x:auto;line-height:normal;font-family:Menlo,'DejaVu Sans Mono',consolas,'Courier New',monospace\"><span style=\"color: #7fbfbf; text-decoration-color: #7fbfbf\">                    </span><span style=\"color: #000080; text-decoration-color: #000080\">INFO    </span> Resolved project path as:                                              <a href=\"file://c:\\Users\\hp\\Documents\\0.Novalearn\\analytics\\analytics\\venv\\lib\\site-packages\\kedro\\ipython\\__init__.py\" target=\"_blank\"><span style=\"color: #7f7f7f; text-decoration-color: #7f7f7f\">__init__.py</span></a><span style=\"color: #7f7f7f; text-decoration-color: #7f7f7f\">:</span><a href=\"file://c:\\Users\\hp\\Documents\\0.Novalearn\\analytics\\analytics\\venv\\lib\\site-packages\\kedro\\ipython\\__init__.py#132\" target=\"_blank\"><span style=\"color: #7f7f7f; text-decoration-color: #7f7f7f\">132</span></a>\n",
       "<span style=\"color: #7fbfbf; text-decoration-color: #7fbfbf\">                    </span>         C:\\Users\\hp\\Documents\\<span style=\"color: #008080; text-decoration-color: #008080; font-weight: bold\">0.</span>Novalearn\\analytics\\analytics.                 <span style=\"color: #7f7f7f; text-decoration-color: #7f7f7f\">               </span>\n",
       "<span style=\"color: #7fbfbf; text-decoration-color: #7fbfbf\">                    </span>         To set a different path, run <span style=\"color: #008000; text-decoration-color: #008000\">'%reload_kedro &lt;project_root&gt;'</span>            <span style=\"color: #7f7f7f; text-decoration-color: #7f7f7f\">               </span>\n",
       "</pre>\n"
      ],
      "text/plain": [
       "\u001b[2;36m                   \u001b[0m\u001b[2;36m \u001b[0m\u001b[34mINFO    \u001b[0m Resolved project path as:                                              \u001b]8;id=451305;file://c:\\Users\\hp\\Documents\\0.Novalearn\\analytics\\analytics\\venv\\lib\\site-packages\\kedro\\ipython\\__init__.py\u001b\\\u001b[2m__init__.py\u001b[0m\u001b]8;;\u001b\\\u001b[2m:\u001b[0m\u001b]8;id=250572;file://c:\\Users\\hp\\Documents\\0.Novalearn\\analytics\\analytics\\venv\\lib\\site-packages\\kedro\\ipython\\__init__.py#132\u001b\\\u001b[2m132\u001b[0m\u001b]8;;\u001b\\\n",
       "\u001b[2;36m                    \u001b[0m         C:\\Users\\hp\\Documents\\\u001b[1;36m0.\u001b[0mNovalearn\\analytics\\analytics.                 \u001b[2m               \u001b[0m\n",
       "\u001b[2;36m                    \u001b[0m         To set a different path, run \u001b[32m'%reload_kedro \u001b[0m\u001b[32m<\u001b[0m\u001b[32mproject_root\u001b[0m\u001b[32m>\u001b[0m\u001b[32m'\u001b[0m            \u001b[2m               \u001b[0m\n"
      ]
     },
     "metadata": {},
     "output_type": "display_data"
    },
    {
     "data": {
      "text/html": [
       "<pre style=\"white-space:pre;overflow-x:auto;line-height:normal;font-family:Menlo,'DejaVu Sans Mono',consolas,'Courier New',monospace\"><span style=\"color: #7fbfbf; text-decoration-color: #7fbfbf\">[06/20/23 21:42:31] </span><span style=\"color: #000080; text-decoration-color: #000080\">INFO    </span> The <span style=\"color: #008000; text-decoration-color: #008000\">'mlflow_tracking_uri'</span> key in mlflow.yml is relative     <a href=\"file://c:\\Users\\hp\\Documents\\0.Novalearn\\analytics\\analytics\\venv\\lib\\site-packages\\kedro_mlflow\\config\\kedro_mlflow_config.py\" target=\"_blank\"><span style=\"color: #7f7f7f; text-decoration-color: #7f7f7f\">kedro_mlflow_config.py</span></a><span style=\"color: #7f7f7f; text-decoration-color: #7f7f7f\">:</span><a href=\"file://c:\\Users\\hp\\Documents\\0.Novalearn\\analytics\\analytics\\venv\\lib\\site-packages\\kedro_mlflow\\config\\kedro_mlflow_config.py#202\" target=\"_blank\"><span style=\"color: #7f7f7f; text-decoration-color: #7f7f7f\">202</span></a>\n",
       "<span style=\"color: #7fbfbf; text-decoration-color: #7fbfbf\">                    </span>         <span style=\"font-weight: bold\">(</span><span style=\"color: #008000; text-decoration-color: #008000\">'server.mlflow_tracking_uri = mlruns'</span><span style=\"font-weight: bold\">)</span>. It is converted to <span style=\"color: #7f7f7f; text-decoration-color: #7f7f7f\">                          </span>\n",
       "<span style=\"color: #7fbfbf; text-decoration-color: #7fbfbf\">                    </span>         a valid uri:                                                <span style=\"color: #7f7f7f; text-decoration-color: #7f7f7f\">                          </span>\n",
       "<span style=\"color: #7fbfbf; text-decoration-color: #7fbfbf\">                    </span>         <span style=\"color: #008000; text-decoration-color: #008000\">'file:///C:/Users/hp/Documents/0.Novalearn/analytics/analyt</span> <span style=\"color: #7f7f7f; text-decoration-color: #7f7f7f\">                          </span>\n",
       "<span style=\"color: #7fbfbf; text-decoration-color: #7fbfbf\">                    </span>         <span style=\"color: #008000; text-decoration-color: #008000\">ics/mlruns'</span>                                                 <span style=\"color: #7f7f7f; text-decoration-color: #7f7f7f\">                          </span>\n",
       "</pre>\n"
      ],
      "text/plain": [
       "\u001b[2;36m[06/20/23 21:42:31]\u001b[0m\u001b[2;36m \u001b[0m\u001b[34mINFO    \u001b[0m The \u001b[32m'mlflow_tracking_uri'\u001b[0m key in mlflow.yml is relative     \u001b]8;id=768330;file://c:\\Users\\hp\\Documents\\0.Novalearn\\analytics\\analytics\\venv\\lib\\site-packages\\kedro_mlflow\\config\\kedro_mlflow_config.py\u001b\\\u001b[2mkedro_mlflow_config.py\u001b[0m\u001b]8;;\u001b\\\u001b[2m:\u001b[0m\u001b]8;id=753199;file://c:\\Users\\hp\\Documents\\0.Novalearn\\analytics\\analytics\\venv\\lib\\site-packages\\kedro_mlflow\\config\\kedro_mlflow_config.py#202\u001b\\\u001b[2m202\u001b[0m\u001b]8;;\u001b\\\n",
       "\u001b[2;36m                    \u001b[0m         \u001b[1m(\u001b[0m\u001b[32m'server.mlflow_tracking_uri = mlruns'\u001b[0m\u001b[1m)\u001b[0m. It is converted to \u001b[2m                          \u001b[0m\n",
       "\u001b[2;36m                    \u001b[0m         a valid uri:                                                \u001b[2m                          \u001b[0m\n",
       "\u001b[2;36m                    \u001b[0m         \u001b[32m'file:///C:/Users/hp/Documents/0.Novalearn/analytics/analyt\u001b[0m \u001b[2m                          \u001b[0m\n",
       "\u001b[2;36m                    \u001b[0m         \u001b[32mics/mlruns'\u001b[0m                                                 \u001b[2m                          \u001b[0m\n"
      ]
     },
     "metadata": {},
     "output_type": "display_data"
    },
    {
     "data": {
      "text/html": [
       "<pre style=\"white-space:pre;overflow-x:auto;line-height:normal;font-family:Menlo,'DejaVu Sans Mono',consolas,'Courier New',monospace\"><span style=\"color: #7fbfbf; text-decoration-color: #7fbfbf\">                    </span><span style=\"color: #000080; text-decoration-color: #000080\">INFO    </span> Kedro project analytics                                                <a href=\"file://c:\\Users\\hp\\Documents\\0.Novalearn\\analytics\\analytics\\venv\\lib\\site-packages\\kedro\\ipython\\__init__.py\" target=\"_blank\"><span style=\"color: #7f7f7f; text-decoration-color: #7f7f7f\">__init__.py</span></a><span style=\"color: #7f7f7f; text-decoration-color: #7f7f7f\">:</span><a href=\"file://c:\\Users\\hp\\Documents\\0.Novalearn\\analytics\\analytics\\venv\\lib\\site-packages\\kedro\\ipython\\__init__.py#101\" target=\"_blank\"><span style=\"color: #7f7f7f; text-decoration-color: #7f7f7f\">101</span></a>\n",
       "</pre>\n"
      ],
      "text/plain": [
       "\u001b[2;36m                   \u001b[0m\u001b[2;36m \u001b[0m\u001b[34mINFO    \u001b[0m Kedro project analytics                                                \u001b]8;id=500648;file://c:\\Users\\hp\\Documents\\0.Novalearn\\analytics\\analytics\\venv\\lib\\site-packages\\kedro\\ipython\\__init__.py\u001b\\\u001b[2m__init__.py\u001b[0m\u001b]8;;\u001b\\\u001b[2m:\u001b[0m\u001b]8;id=153450;file://c:\\Users\\hp\\Documents\\0.Novalearn\\analytics\\analytics\\venv\\lib\\site-packages\\kedro\\ipython\\__init__.py#101\u001b\\\u001b[2m101\u001b[0m\u001b]8;;\u001b\\\n"
      ]
     },
     "metadata": {},
     "output_type": "display_data"
    },
    {
     "data": {
      "text/html": [
       "<pre style=\"white-space:pre;overflow-x:auto;line-height:normal;font-family:Menlo,'DejaVu Sans Mono',consolas,'Courier New',monospace\"><span style=\"color: #7fbfbf; text-decoration-color: #7fbfbf\">                    </span><span style=\"color: #000080; text-decoration-color: #000080\">INFO    </span> Defined global variable <span style=\"color: #008000; text-decoration-color: #008000\">'context'</span>, <span style=\"color: #008000; text-decoration-color: #008000\">'session'</span>, <span style=\"color: #008000; text-decoration-color: #008000\">'catalog'</span> and            <a href=\"file://c:\\Users\\hp\\Documents\\0.Novalearn\\analytics\\analytics\\venv\\lib\\site-packages\\kedro\\ipython\\__init__.py\" target=\"_blank\"><span style=\"color: #7f7f7f; text-decoration-color: #7f7f7f\">__init__.py</span></a><span style=\"color: #7f7f7f; text-decoration-color: #7f7f7f\">:</span><a href=\"file://c:\\Users\\hp\\Documents\\0.Novalearn\\analytics\\analytics\\venv\\lib\\site-packages\\kedro\\ipython\\__init__.py#102\" target=\"_blank\"><span style=\"color: #7f7f7f; text-decoration-color: #7f7f7f\">102</span></a>\n",
       "<span style=\"color: #7fbfbf; text-decoration-color: #7fbfbf\">                    </span>         <span style=\"color: #008000; text-decoration-color: #008000\">'pipelines'</span>                                                            <span style=\"color: #7f7f7f; text-decoration-color: #7f7f7f\">               </span>\n",
       "</pre>\n"
      ],
      "text/plain": [
       "\u001b[2;36m                   \u001b[0m\u001b[2;36m \u001b[0m\u001b[34mINFO    \u001b[0m Defined global variable \u001b[32m'context'\u001b[0m, \u001b[32m'session'\u001b[0m, \u001b[32m'catalog'\u001b[0m and            \u001b]8;id=419819;file://c:\\Users\\hp\\Documents\\0.Novalearn\\analytics\\analytics\\venv\\lib\\site-packages\\kedro\\ipython\\__init__.py\u001b\\\u001b[2m__init__.py\u001b[0m\u001b]8;;\u001b\\\u001b[2m:\u001b[0m\u001b]8;id=199188;file://c:\\Users\\hp\\Documents\\0.Novalearn\\analytics\\analytics\\venv\\lib\\site-packages\\kedro\\ipython\\__init__.py#102\u001b\\\u001b[2m102\u001b[0m\u001b]8;;\u001b\\\n",
       "\u001b[2;36m                    \u001b[0m         \u001b[32m'pipelines'\u001b[0m                                                            \u001b[2m               \u001b[0m\n"
      ]
     },
     "metadata": {},
     "output_type": "display_data"
    },
    {
     "data": {
      "text/html": [
       "<pre style=\"white-space:pre;overflow-x:auto;line-height:normal;font-family:Menlo,'DejaVu Sans Mono',consolas,'Courier New',monospace\"><span style=\"color: #7fbfbf; text-decoration-color: #7fbfbf\">                    </span><span style=\"color: #000080; text-decoration-color: #000080\">INFO    </span> Registered line magic <span style=\"color: #008000; text-decoration-color: #008000\">'reload_kedro_mlflow'</span>                            <a href=\"file://c:\\Users\\hp\\Documents\\0.Novalearn\\analytics\\analytics\\venv\\lib\\site-packages\\kedro\\ipython\\__init__.py\" target=\"_blank\"><span style=\"color: #7f7f7f; text-decoration-color: #7f7f7f\">__init__.py</span></a><span style=\"color: #7f7f7f; text-decoration-color: #7f7f7f\">:</span><a href=\"file://c:\\Users\\hp\\Documents\\0.Novalearn\\analytics\\analytics\\venv\\lib\\site-packages\\kedro\\ipython\\__init__.py#108\" target=\"_blank\"><span style=\"color: #7f7f7f; text-decoration-color: #7f7f7f\">108</span></a>\n",
       "</pre>\n"
      ],
      "text/plain": [
       "\u001b[2;36m                   \u001b[0m\u001b[2;36m \u001b[0m\u001b[34mINFO    \u001b[0m Registered line magic \u001b[32m'reload_kedro_mlflow'\u001b[0m                            \u001b]8;id=152159;file://c:\\Users\\hp\\Documents\\0.Novalearn\\analytics\\analytics\\venv\\lib\\site-packages\\kedro\\ipython\\__init__.py\u001b\\\u001b[2m__init__.py\u001b[0m\u001b]8;;\u001b\\\u001b[2m:\u001b[0m\u001b]8;id=61015;file://c:\\Users\\hp\\Documents\\0.Novalearn\\analytics\\analytics\\venv\\lib\\site-packages\\kedro\\ipython\\__init__.py#108\u001b\\\u001b[2m108\u001b[0m\u001b]8;;\u001b\\\n"
      ]
     },
     "metadata": {},
     "output_type": "display_data"
    },
    {
     "data": {
      "text/html": [
       "<pre style=\"white-space:pre;overflow-x:auto;line-height:normal;font-family:Menlo,'DejaVu Sans Mono',consolas,'Courier New',monospace\"><span style=\"color: #7fbfbf; text-decoration-color: #7fbfbf\">                    </span><span style=\"color: #000080; text-decoration-color: #000080\">INFO    </span> Registered line magic <span style=\"color: #008000; text-decoration-color: #008000\">'run_viz'</span>                                        <a href=\"file://c:\\Users\\hp\\Documents\\0.Novalearn\\analytics\\analytics\\venv\\lib\\site-packages\\kedro\\ipython\\__init__.py\" target=\"_blank\"><span style=\"color: #7f7f7f; text-decoration-color: #7f7f7f\">__init__.py</span></a><span style=\"color: #7f7f7f; text-decoration-color: #7f7f7f\">:</span><a href=\"file://c:\\Users\\hp\\Documents\\0.Novalearn\\analytics\\analytics\\venv\\lib\\site-packages\\kedro\\ipython\\__init__.py#108\" target=\"_blank\"><span style=\"color: #7f7f7f; text-decoration-color: #7f7f7f\">108</span></a>\n",
       "</pre>\n"
      ],
      "text/plain": [
       "\u001b[2;36m                   \u001b[0m\u001b[2;36m \u001b[0m\u001b[34mINFO    \u001b[0m Registered line magic \u001b[32m'run_viz'\u001b[0m                                        \u001b]8;id=526320;file://c:\\Users\\hp\\Documents\\0.Novalearn\\analytics\\analytics\\venv\\lib\\site-packages\\kedro\\ipython\\__init__.py\u001b\\\u001b[2m__init__.py\u001b[0m\u001b]8;;\u001b\\\u001b[2m:\u001b[0m\u001b]8;id=547659;file://c:\\Users\\hp\\Documents\\0.Novalearn\\analytics\\analytics\\venv\\lib\\site-packages\\kedro\\ipython\\__init__.py#108\u001b\\\u001b[2m108\u001b[0m\u001b]8;;\u001b\\\n"
      ]
     },
     "metadata": {},
     "output_type": "display_data"
    }
   ],
   "source": [
    "%reload_ext autoreload\n",
    "%autoreload 2\n",
    "\n",
    "import pandas as pd\n",
    "import datetime as dt\n",
    "import numpy as np\n",
    "import os\n",
    "import plotly.express as px\n",
    "import plotly.graph_objects as go\n",
    "\n",
    "# import regex as re\n",
    "import datetime as dt\n",
    "from datetime import timedelta\n",
    "\n",
    "from pathlib import Path\n",
    "current_dir = Path.cwd()  # this points to 'notebooks/' folder\n",
    "project_path = current_dir.parent\n",
    "os.chdir(project_path)\n",
    "%load_ext kedro.ipython\n",
    "%reload_kedro \n",
    "\n",
    "# from src.arbitra_lng.common.plot_functions import *\n",
    "# from src.arbitra_lng.common.GeneralFunctions import *\n",
    "# from src.arbitra_lng.common.utils import *\n",
    "\n",
    "pd.set_option('display.max_columns', None)\n",
    "data_dir = 'data/01_raw/'"
   ]
  },
  {
   "cell_type": "code",
   "execution_count": null,
   "metadata": {},
   "outputs": [
    {
     "data": {
      "text/html": [
       "<div>\n",
       "<style scoped>\n",
       "    .dataframe tbody tr th:only-of-type {\n",
       "        vertical-align: middle;\n",
       "    }\n",
       "\n",
       "    .dataframe tbody tr th {\n",
       "        vertical-align: top;\n",
       "    }\n",
       "\n",
       "    .dataframe thead th {\n",
       "        text-align: right;\n",
       "    }\n",
       "</style>\n",
       "<table border=\"1\" class=\"dataframe\">\n",
       "  <thead>\n",
       "    <tr style=\"text-align: right;\">\n",
       "      <th></th>\n",
       "      <th>name</th>\n",
       "      <th>subject</th>\n",
       "      <th>type</th>\n",
       "      <th>course_number</th>\n",
       "      <th>theme</th>\n",
       "      <th>designer</th>\n",
       "      <th>lead_editor</th>\n",
       "      <th>status</th>\n",
       "      <th>minutes_of_content</th>\n",
       "      <th>number_of_videos</th>\n",
       "    </tr>\n",
       "  </thead>\n",
       "  <tbody>\n",
       "    <tr>\n",
       "      <th>0</th>\n",
       "      <td>Feelings and Emotions</td>\n",
       "      <td>English</td>\n",
       "      <td>Nova</td>\n",
       "      <td>1.0</td>\n",
       "      <td>1.0</td>\n",
       "      <td>Carrie Di</td>\n",
       "      <td>Gochapan Tanaryan</td>\n",
       "      <td>Published</td>\n",
       "      <td>12.0</td>\n",
       "      <td>4.0</td>\n",
       "    </tr>\n",
       "    <tr>\n",
       "      <th>1</th>\n",
       "      <td>Feelings and Emotions</td>\n",
       "      <td>English</td>\n",
       "      <td>Nova</td>\n",
       "      <td>2.0</td>\n",
       "      <td>1.0</td>\n",
       "      <td>Carrie Di</td>\n",
       "      <td>Gochapan Tanaryan</td>\n",
       "      <td>Published</td>\n",
       "      <td>12.0</td>\n",
       "      <td>4.0</td>\n",
       "    </tr>\n",
       "    <tr>\n",
       "      <th>2</th>\n",
       "      <td>Frequency Adverbs</td>\n",
       "      <td>English</td>\n",
       "      <td>Nova</td>\n",
       "      <td>3.0</td>\n",
       "      <td>1.0</td>\n",
       "      <td>Carrie Di</td>\n",
       "      <td>Gochapan Tanaryan</td>\n",
       "      <td>Published</td>\n",
       "      <td>10.0</td>\n",
       "      <td>4.0</td>\n",
       "    </tr>\n",
       "    <tr>\n",
       "      <th>3</th>\n",
       "      <td>Frequency Adverbs</td>\n",
       "      <td>English</td>\n",
       "      <td>Nova</td>\n",
       "      <td>4.0</td>\n",
       "      <td>1.0</td>\n",
       "      <td>Carrie Di</td>\n",
       "      <td>Gochapan Tanaryan</td>\n",
       "      <td>Published</td>\n",
       "      <td>5.0</td>\n",
       "      <td>3.0</td>\n",
       "    </tr>\n",
       "    <tr>\n",
       "      <th>4</th>\n",
       "      <td>Actions and Activities related to Feelings and...</td>\n",
       "      <td>English</td>\n",
       "      <td>Nova</td>\n",
       "      <td>5.0</td>\n",
       "      <td>1.0</td>\n",
       "      <td>Carrie Di</td>\n",
       "      <td>Gochapan Tanaryan</td>\n",
       "      <td>Published</td>\n",
       "      <td>7.0</td>\n",
       "      <td>4.0</td>\n",
       "    </tr>\n",
       "  </tbody>\n",
       "</table>\n",
       "</div>"
      ]
     },
     "metadata": {},
     "output_type": "display_data"
    }
   ],
   "source": [
    "# raw \n",
    "raw = pd.read_csv('data/01_raw/Creative/All Courses b194bb2c04b1444084d1c3610d8bc672.csv')\n",
    "raw.columns = [x.lower().replace(' ', '_') for x in raw.columns]\n",
    "raw.head()"
   ]
  },
  {
   "cell_type": "code",
   "execution_count": null,
   "metadata": {},
   "outputs": [
    {
     "data": {
      "text/html": [
       "<pre style=\"white-space:pre;overflow-x:auto;line-height:normal;font-family:Menlo,'DejaVu Sans Mono',consolas,'Courier New',monospace\">\n",
       "<span style=\"color: #800080; text-decoration-color: #800080; font-weight: bold\">array</span><span style=\"font-weight: bold\">([</span><span style=\"color: #008000; text-decoration-color: #008000\">'Published'</span>, <span style=\"color: #008000; text-decoration-color: #008000\">'Ready For Editing'</span>, <span style=\"color: #008000; text-decoration-color: #008000\">'Ready To Upload'</span>,\n",
       "       <span style=\"color: #008000; text-decoration-color: #008000\">'Ready For Scripts'</span>, <span style=\"color: #008000; text-decoration-color: #008000\">'Scripts Complete'</span>, <span style=\"color: #008000; text-decoration-color: #008000\">'Planning'</span>,\n",
       "       <span style=\"color: #008000; text-decoration-color: #008000\">'Writing Scripts'</span>, nan, <span style=\"color: #008000; text-decoration-color: #008000\">'Editing'</span><span style=\"font-weight: bold\">]</span>, <span style=\"color: #808000; text-decoration-color: #808000\">dtype</span>=<span style=\"color: #800080; text-decoration-color: #800080\">object</span><span style=\"font-weight: bold\">)</span>\n",
       "</pre>\n"
      ],
      "text/plain": [
       "\n",
       "\u001b[1;35marray\u001b[0m\u001b[1m(\u001b[0m\u001b[1m[\u001b[0m\u001b[32m'Published'\u001b[0m, \u001b[32m'Ready For Editing'\u001b[0m, \u001b[32m'Ready To Upload'\u001b[0m,\n",
       "       \u001b[32m'Ready For Scripts'\u001b[0m, \u001b[32m'Scripts Complete'\u001b[0m, \u001b[32m'Planning'\u001b[0m,\n",
       "       \u001b[32m'Writing Scripts'\u001b[0m, nan, \u001b[32m'Editing'\u001b[0m\u001b[1m]\u001b[0m, \u001b[33mdtype\u001b[0m=\u001b[35mobject\u001b[0m\u001b[1m)\u001b[0m\n"
      ]
     },
     "metadata": {},
     "output_type": "display_data"
    }
   ],
   "source": [
    "raw.status.unique()"
   ]
  },
  {
   "cell_type": "code",
   "execution_count": null,
   "metadata": {},
   "outputs": [
    {
     "name": "stdout",
     "output_type": "stream",
     "text": [
      "              subject\n",
      "Art                19\n",
      "English            15\n",
      "Future Ready       13\n",
      "Science            11\n",
      "Make                8\n",
      "Mandarin            1\n",
      "              subject\n",
      "Art                19\n",
      "English            15\n",
      "Future Ready       13\n",
      "Science            11\n",
      "Make                8\n",
      "Mandarin            1 subject    67\n",
      "dtype: int64\n"
     ]
    }
   ],
   "source": [
    "# publisehd\n",
    "published_course = raw.loc[raw['status'] == 'Published']\n",
    "courses_status = published_course.subject.value_counts().to_frame().copy()\n",
    "print(courses_status)\n",
    "print(courses_status, courses_status.sum())\n"
   ]
  },
  {
   "cell_type": "code",
   "execution_count": null,
   "metadata": {},
   "outputs": [
    {
     "name": "stdout",
     "output_type": "stream",
     "text": [
      "              subject\n",
      "English             3\n",
      "Science             2\n",
      "Future Ready        1\n",
      "Mandarin            1 subject    7\n",
      "dtype: int64\n"
     ]
    }
   ],
   "source": [
    "# Ready To Upload\n",
    "rtu_courses = raw.loc[raw['status'] == 'Ready To Upload']\n",
    "rtu_count = rtu_courses.subject.value_counts().to_frame().copy()\n",
    "print(rtu_count, rtu_count.sum())"
   ]
  },
  {
   "cell_type": "code",
   "execution_count": null,
   "metadata": {},
   "outputs": [],
   "source": []
  }
 ],
 "metadata": {
  "kernelspec": {
   "display_name": "venv",
   "language": "python",
   "name": "python3"
  },
  "language_info": {
   "codemirror_mode": {
    "name": "ipython",
    "version": 3
   },
   "file_extension": ".py",
   "mimetype": "text/x-python",
   "name": "python",
   "nbconvert_exporter": "python",
   "pygments_lexer": "ipython3",
   "version": "3.9.13"
  },
  "orig_nbformat": 4
 },
 "nbformat": 4,
 "nbformat_minor": 2
}
